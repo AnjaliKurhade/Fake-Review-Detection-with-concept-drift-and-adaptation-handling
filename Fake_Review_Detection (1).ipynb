{
 "cells": [
  {
   "cell_type": "code",
   "execution_count": 1,
   "id": "45a156d4",
   "metadata": {},
   "outputs": [],
   "source": [
    "import pandas as pd\n",
    "import numpy as np\n",
    "from sklearn.model_selection import train_test_split"
   ]
  },
  {
   "cell_type": "code",
   "execution_count": 2,
   "id": "ae287fa2",
   "metadata": {},
   "outputs": [],
   "source": [
    "df=pd.read_csv(\"fake reviews dataset (1).csv\")"
   ]
  },
  {
   "cell_type": "code",
   "execution_count": 3,
   "id": "946a4ddb",
   "metadata": {},
   "outputs": [
    {
     "data": {
      "text/plain": [
       "(40432, 4)"
      ]
     },
     "execution_count": 3,
     "metadata": {},
     "output_type": "execute_result"
    }
   ],
   "source": [
    "df.shape"
   ]
  },
  {
   "cell_type": "code",
   "execution_count": 4,
   "id": "41b019ac",
   "metadata": {},
   "outputs": [
    {
     "data": {
      "text/html": [
       "<div>\n",
       "<style scoped>\n",
       "    .dataframe tbody tr th:only-of-type {\n",
       "        vertical-align: middle;\n",
       "    }\n",
       "\n",
       "    .dataframe tbody tr th {\n",
       "        vertical-align: top;\n",
       "    }\n",
       "\n",
       "    .dataframe thead th {\n",
       "        text-align: right;\n",
       "    }\n",
       "</style>\n",
       "<table border=\"1\" class=\"dataframe\">\n",
       "  <thead>\n",
       "    <tr style=\"text-align: right;\">\n",
       "      <th></th>\n",
       "      <th>category</th>\n",
       "      <th>rating</th>\n",
       "      <th>label</th>\n",
       "      <th>text_</th>\n",
       "    </tr>\n",
       "  </thead>\n",
       "  <tbody>\n",
       "    <tr>\n",
       "      <th>0</th>\n",
       "      <td>Home_and_Kitchen_5</td>\n",
       "      <td>5.0</td>\n",
       "      <td>CG</td>\n",
       "      <td>Love this!  Well made, sturdy, and very comfor...</td>\n",
       "    </tr>\n",
       "    <tr>\n",
       "      <th>1</th>\n",
       "      <td>Home_and_Kitchen_5</td>\n",
       "      <td>5.0</td>\n",
       "      <td>CG</td>\n",
       "      <td>love it, a great upgrade from the original.  I...</td>\n",
       "    </tr>\n",
       "    <tr>\n",
       "      <th>2</th>\n",
       "      <td>Home_and_Kitchen_5</td>\n",
       "      <td>5.0</td>\n",
       "      <td>CG</td>\n",
       "      <td>This pillow saved my back. I love the look and...</td>\n",
       "    </tr>\n",
       "    <tr>\n",
       "      <th>3</th>\n",
       "      <td>Home_and_Kitchen_5</td>\n",
       "      <td>1.0</td>\n",
       "      <td>CG</td>\n",
       "      <td>Missing information on how to use it, but it i...</td>\n",
       "    </tr>\n",
       "    <tr>\n",
       "      <th>4</th>\n",
       "      <td>Home_and_Kitchen_5</td>\n",
       "      <td>5.0</td>\n",
       "      <td>CG</td>\n",
       "      <td>Very nice set. Good quality. We have had the s...</td>\n",
       "    </tr>\n",
       "  </tbody>\n",
       "</table>\n",
       "</div>"
      ],
      "text/plain": [
       "             category  rating label  \\\n",
       "0  Home_and_Kitchen_5     5.0    CG   \n",
       "1  Home_and_Kitchen_5     5.0    CG   \n",
       "2  Home_and_Kitchen_5     5.0    CG   \n",
       "3  Home_and_Kitchen_5     1.0    CG   \n",
       "4  Home_and_Kitchen_5     5.0    CG   \n",
       "\n",
       "                                               text_  \n",
       "0  Love this!  Well made, sturdy, and very comfor...  \n",
       "1  love it, a great upgrade from the original.  I...  \n",
       "2  This pillow saved my back. I love the look and...  \n",
       "3  Missing information on how to use it, but it i...  \n",
       "4  Very nice set. Good quality. We have had the s...  "
      ]
     },
     "execution_count": 4,
     "metadata": {},
     "output_type": "execute_result"
    }
   ],
   "source": [
    "df.head()"
   ]
  },
  {
   "cell_type": "code",
   "execution_count": 5,
   "id": "fb0e2612",
   "metadata": {},
   "outputs": [],
   "source": [
    "def wordopt(text):\n",
    "    text = text.lower()\n",
    "    text = re.sub('\\[.*?\\]', '', text)\n",
    "    text = re.sub(\"\\\\W\",\" \",text) \n",
    "    text = re.sub('https?://\\S+|www\\.\\S+', '', text)\n",
    "    text = re.sub('<.*?>+', '', text)\n",
    "    text = re.sub('[%s]' % re.escape(string.punctuation), '', text)\n",
    "    text = re.sub('\\n', '', text)\n",
    "    text = re.sub('\\w*\\d\\w*', '', text)    \n",
    "    return text"
   ]
  },
  {
   "cell_type": "code",
   "execution_count": 6,
   "id": "d67c9c1c",
   "metadata": {},
   "outputs": [],
   "source": [
    "import re\n",
    "import string"
   ]
  },
  {
   "cell_type": "code",
   "execution_count": 7,
   "id": "f9ee47ea",
   "metadata": {},
   "outputs": [],
   "source": [
    "df[\"text_\"] = df[\"text_\"].apply(wordopt)"
   ]
  },
  {
   "cell_type": "code",
   "execution_count": 8,
   "id": "d879d78e",
   "metadata": {},
   "outputs": [
    {
     "data": {
      "text/plain": [
       "Index(['category', 'rating', 'label', 'text_'], dtype='object')"
      ]
     },
     "execution_count": 8,
     "metadata": {},
     "output_type": "execute_result"
    }
   ],
   "source": [
    "df.columns"
   ]
  },
  {
   "cell_type": "code",
   "execution_count": 9,
   "id": "c9417718",
   "metadata": {},
   "outputs": [],
   "source": [
    "df1=df.iloc[:,[0,1,3,2]]"
   ]
  },
  {
   "cell_type": "code",
   "execution_count": 10,
   "id": "7f940383",
   "metadata": {},
   "outputs": [
    {
     "data": {
      "text/html": [
       "<div>\n",
       "<style scoped>\n",
       "    .dataframe tbody tr th:only-of-type {\n",
       "        vertical-align: middle;\n",
       "    }\n",
       "\n",
       "    .dataframe tbody tr th {\n",
       "        vertical-align: top;\n",
       "    }\n",
       "\n",
       "    .dataframe thead th {\n",
       "        text-align: right;\n",
       "    }\n",
       "</style>\n",
       "<table border=\"1\" class=\"dataframe\">\n",
       "  <thead>\n",
       "    <tr style=\"text-align: right;\">\n",
       "      <th></th>\n",
       "      <th>category</th>\n",
       "      <th>rating</th>\n",
       "      <th>text_</th>\n",
       "      <th>label</th>\n",
       "    </tr>\n",
       "  </thead>\n",
       "  <tbody>\n",
       "    <tr>\n",
       "      <th>0</th>\n",
       "      <td>Home_and_Kitchen_5</td>\n",
       "      <td>5.0</td>\n",
       "      <td>love this   well made  sturdy  and very comfor...</td>\n",
       "      <td>CG</td>\n",
       "    </tr>\n",
       "    <tr>\n",
       "      <th>1</th>\n",
       "      <td>Home_and_Kitchen_5</td>\n",
       "      <td>5.0</td>\n",
       "      <td>love it  a great upgrade from the original   i...</td>\n",
       "      <td>CG</td>\n",
       "    </tr>\n",
       "    <tr>\n",
       "      <th>2</th>\n",
       "      <td>Home_and_Kitchen_5</td>\n",
       "      <td>5.0</td>\n",
       "      <td>this pillow saved my back  i love the look and...</td>\n",
       "      <td>CG</td>\n",
       "    </tr>\n",
       "    <tr>\n",
       "      <th>3</th>\n",
       "      <td>Home_and_Kitchen_5</td>\n",
       "      <td>1.0</td>\n",
       "      <td>missing information on how to use it  but it i...</td>\n",
       "      <td>CG</td>\n",
       "    </tr>\n",
       "    <tr>\n",
       "      <th>4</th>\n",
       "      <td>Home_and_Kitchen_5</td>\n",
       "      <td>5.0</td>\n",
       "      <td>very nice set  good quality  we have had the s...</td>\n",
       "      <td>CG</td>\n",
       "    </tr>\n",
       "  </tbody>\n",
       "</table>\n",
       "</div>"
      ],
      "text/plain": [
       "             category  rating  \\\n",
       "0  Home_and_Kitchen_5     5.0   \n",
       "1  Home_and_Kitchen_5     5.0   \n",
       "2  Home_and_Kitchen_5     5.0   \n",
       "3  Home_and_Kitchen_5     1.0   \n",
       "4  Home_and_Kitchen_5     5.0   \n",
       "\n",
       "                                               text_ label  \n",
       "0  love this   well made  sturdy  and very comfor...    CG  \n",
       "1  love it  a great upgrade from the original   i...    CG  \n",
       "2  this pillow saved my back  i love the look and...    CG  \n",
       "3  missing information on how to use it  but it i...    CG  \n",
       "4  very nice set  good quality  we have had the s...    CG  "
      ]
     },
     "execution_count": 10,
     "metadata": {},
     "output_type": "execute_result"
    }
   ],
   "source": [
    "df1.head()"
   ]
  },
  {
   "cell_type": "code",
   "execution_count": 11,
   "id": "989ba5fa",
   "metadata": {},
   "outputs": [
    {
     "data": {
      "text/plain": [
       "CG    20216\n",
       "OR    20216\n",
       "Name: label, dtype: int64"
      ]
     },
     "execution_count": 11,
     "metadata": {},
     "output_type": "execute_result"
    }
   ],
   "source": [
    "df1['label'].value_counts()"
   ]
  },
  {
   "cell_type": "code",
   "execution_count": 12,
   "id": "2f632194",
   "metadata": {},
   "outputs": [
    {
     "name": "stderr",
     "output_type": "stream",
     "text": [
      "C:\\Users\\user\\anaconda3\\lib\\site-packages\\pandas\\core\\generic.py:6619: SettingWithCopyWarning: \n",
      "A value is trying to be set on a copy of a slice from a DataFrame\n",
      "\n",
      "See the caveats in the documentation: https://pandas.pydata.org/pandas-docs/stable/user_guide/indexing.html#returning-a-view-versus-a-copy\n",
      "  return self._update_inplace(result)\n"
     ]
    }
   ],
   "source": [
    "df1['label'].replace(['CG', 'OR'],\n",
    "                        [0, 1], inplace=True)"
   ]
  },
  {
   "cell_type": "code",
   "execution_count": 13,
   "id": "fdf7c6d0",
   "metadata": {},
   "outputs": [],
   "source": [
    "xfeatures=df['text_']\n",
    "yfeatures=df['label']"
   ]
  },
  {
   "cell_type": "code",
   "execution_count": 14,
   "id": "1cad719f",
   "metadata": {},
   "outputs": [],
   "source": [
    "x_train,x_test,y_train,y_test=train_test_split(xfeatures,yfeatures,test_size=0.2)"
   ]
  },
  {
   "cell_type": "code",
   "execution_count": 15,
   "id": "441e923b",
   "metadata": {},
   "outputs": [
    {
     "data": {
      "text/plain": [
       "(32345,)"
      ]
     },
     "execution_count": 15,
     "metadata": {},
     "output_type": "execute_result"
    }
   ],
   "source": [
    "x_train.shape"
   ]
  },
  {
   "cell_type": "code",
   "execution_count": 16,
   "id": "53f6afca",
   "metadata": {},
   "outputs": [
    {
     "data": {
      "text/plain": [
       "(8087,)"
      ]
     },
     "execution_count": 16,
     "metadata": {},
     "output_type": "execute_result"
    }
   ],
   "source": [
    "x_test.shape"
   ]
  },
  {
   "cell_type": "code",
   "execution_count": 17,
   "id": "090c32f1",
   "metadata": {
    "scrolled": true
   },
   "outputs": [
    {
     "data": {
      "text/plain": [
       "CG    16175\n",
       "OR    16170\n",
       "Name: label, dtype: int64"
      ]
     },
     "execution_count": 17,
     "metadata": {},
     "output_type": "execute_result"
    }
   ],
   "source": [
    "y_train.value_counts()"
   ]
  },
  {
   "cell_type": "code",
   "execution_count": 18,
   "id": "a264ea4b",
   "metadata": {
    "scrolled": true
   },
   "outputs": [
    {
     "data": {
      "text/plain": [
       "OR    4046\n",
       "CG    4041\n",
       "Name: label, dtype: int64"
      ]
     },
     "execution_count": 18,
     "metadata": {},
     "output_type": "execute_result"
    }
   ],
   "source": [
    "y_test.value_counts()"
   ]
  },
  {
   "cell_type": "code",
   "execution_count": 19,
   "id": "d7b20867",
   "metadata": {},
   "outputs": [],
   "source": [
    "from sklearn.feature_extraction.text import TfidfVectorizer"
   ]
  },
  {
   "cell_type": "code",
   "execution_count": 20,
   "id": "04ed291c",
   "metadata": {},
   "outputs": [
    {
     "data": {
      "text/plain": [
       "{'love': 19947,\n",
       " 'this': 34301,\n",
       " 'well': 37391,\n",
       " 'made': 20225,\n",
       " 'sturdy': 32861,\n",
       " 'and': 1166,\n",
       " 'very': 36599,\n",
       " 'comfortable': 6486,\n",
       " 'it': 17664,\n",
       " 'pretty': 26033,\n",
       " 'great': 14540,\n",
       " 'upgrade': 36230,\n",
       " 'from': 13427,\n",
       " 'the': 34161,\n",
       " 'original': 23677,\n",
       " 've': 36482,\n",
       " 'had': 14931,\n",
       " 'mine': 21445,\n",
       " 'for': 13063,\n",
       " 'couple': 7415,\n",
       " 'of': 23344,\n",
       " 'years': 38295,\n",
       " 'pillow': 25069,\n",
       " 'saved': 29399,\n",
       " 'my': 22305,\n",
       " 'back': 2263,\n",
       " 'look': 19840,\n",
       " 'feel': 12293,\n",
       " 'missing': 21618,\n",
       " 'information': 16998,\n",
       " 'on': 23470,\n",
       " 'how': 16159,\n",
       " 'to': 34621,\n",
       " 'use': 36308,\n",
       " 'but': 4503,\n",
       " 'is': 17618,\n",
       " 'product': 26216,\n",
       " 'price': 26062,\n",
       " 'nice': 22761,\n",
       " 'set': 30121,\n",
       " 'good': 14280,\n",
       " 'quality': 26770,\n",
       " 'we': 37263,\n",
       " 'have': 15312,\n",
       " 'two': 35536,\n",
       " 'months': 21895,\n",
       " 'now': 23085,\n",
       " 'not': 23020,\n",
       " 'been': 2834,\n",
       " 'wanted': 37085,\n",
       " 'different': 9193,\n",
       " 'flavors': 12750,\n",
       " 'they': 34243,\n",
       " 'are': 1579,\n",
       " 'perfect': 24695,\n",
       " 'touch': 34863,\n",
       " 'me': 20928,\n",
       " 'only': 23491,\n",
       " 'thing': 34272,\n",
       " 'wish': 37817,\n",
       " 'little': 19679,\n",
       " 'more': 21945,\n",
       " 'space': 31694,\n",
       " 'these': 34234,\n",
       " 'done': 9870,\n",
       " 'fit': 12650,\n",
       " 'smoothness': 31268,\n",
       " 'edges': 10583,\n",
       " 'extra': 11879,\n",
       " 'big': 3139,\n",
       " 'numbers': 23130,\n",
       " 'easy': 10511,\n",
       " 'read': 27204,\n",
       " 'didn': 9163,\n",
       " 'like': 19509,\n",
       " 'size': 30874,\n",
       " 'son': 31561,\n",
       " 'loves': 19964,\n",
       " 'comforter': 6489,\n",
       " 'also': 954,\n",
       " 'baby': 2248,\n",
       " 'as': 1736,\n",
       " 'advertised': 491,\n",
       " 'one': 23478,\n",
       " 'problem': 26168,\n",
       " 'that': 34151,\n",
       " 'really': 27250,\n",
       " 'handy': 15092,\n",
       " 'kids': 18489,\n",
       " 'tools': 34744,\n",
       " 'included': 16786,\n",
       " 'in': 16729,\n",
       " 'package': 24056,\n",
       " 'did': 9157,\n",
       " 'someone': 31545,\n",
       " 'say': 29428,\n",
       " 'oriental': 23670,\n",
       " 'so': 31411,\n",
       " 'flimsy': 12815,\n",
       " 'you': 38368,\n",
       " 'would': 38052,\n",
       " 'expect': 11740,\n",
       " 'piece': 25027,\n",
       " 'furniture': 13562,\n",
       " 'makes': 20350,\n",
       " 'may': 20833,\n",
       " 'tea': 33826,\n",
       " 'with': 37835,\n",
       " 'out': 23774,\n",
       " 'stirring': 32532,\n",
       " 'kind': 18523,\n",
       " 'hard': 15158,\n",
       " 'put': 26693,\n",
       " 'absolutely': 93,\n",
       " 'adorable': 445,\n",
       " 'excellent': 11614,\n",
       " 'wooden': 37944,\n",
       " 'ones': 23481,\n",
       " 'few': 12396,\n",
       " 'an': 1121,\n",
       " 'entire': 11196,\n",
       " 'family': 12071,\n",
       " 'beautiful': 2782,\n",
       " 'mesh': 21191,\n",
       " 'exactly': 11586,\n",
       " 'what': 37462,\n",
       " 'stars': 32313,\n",
       " 'highly': 15729,\n",
       " 'recommend': 27427,\n",
       " 'item': 17675,\n",
       " 'blanket': 3330,\n",
       " 'egg': 10660,\n",
       " 'masher': 20685,\n",
       " 'colors': 6422,\n",
       " 'dimensions': 9266,\n",
       " 'just': 18194,\n",
       " 'pictured': 25020,\n",
       " 'fantastic': 12099,\n",
       " 'supposed': 33199,\n",
       " 'come': 6469,\n",
       " 'hardware': 15183,\n",
       " 'vacuum': 36377,\n",
       " 'seems': 29896,\n",
       " 'be': 2720,\n",
       " 'way': 37246,\n",
       " 'make': 20346,\n",
       " 'smoothie': 31264,\n",
       " 'small': 31192,\n",
       " 'person': 24786,\n",
       " 'am': 997,\n",
       " 'accustomed': 218,\n",
       " 'reason': 27275,\n",
       " 'gave': 13780,\n",
       " 'because': 2794,\n",
       " 'can': 4748,\n",
       " 'seller': 29951,\n",
       " 'yes': 38315,\n",
       " 'thin': 34271,\n",
       " 'plastic': 25245,\n",
       " 'however': 16165,\n",
       " 'handle': 15067,\n",
       " 'has': 15260,\n",
       " 'bought': 3812,\n",
       " 'second': 29831,\n",
       " 'first': 12627,\n",
       " 'sure': 33217,\n",
       " 'wonderful': 37925,\n",
       " 'aroma': 1661,\n",
       " 'throughout': 34385,\n",
       " 'house': 16141,\n",
       " 'received': 27343,\n",
       " 'no': 22889,\n",
       " 'time': 34524,\n",
       " 'flat': 12728,\n",
       " 'husband': 16321,\n",
       " 'likes': 19519,\n",
       " 'too': 34731,\n",
       " 'okay': 23407,\n",
       " 'got': 14355,\n",
       " 'local': 19747,\n",
       " 'store': 32588,\n",
       " 'them': 34183,\n",
       " 'away': 2187,\n",
       " 'thought': 34334,\n",
       " 'addition': 361,\n",
       " 'kitchen': 18583,\n",
       " 'fine': 12545,\n",
       " 'option': 23596,\n",
       " 'separate': 30035,\n",
       " 'awesome': 2194,\n",
       " 'all': 872,\n",
       " 'materials': 20755,\n",
       " 'decent': 8416,\n",
       " 'heavy': 15489,\n",
       " 'everyday': 11543,\n",
       " 'works': 38009,\n",
       " 'part': 24313,\n",
       " 'cup': 7910,\n",
       " 'go': 14186,\n",
       " 'old': 23416,\n",
       " 'suction': 33001,\n",
       " 'cups': 7917,\n",
       " 'removable': 27902,\n",
       " 'expected': 11744,\n",
       " 'looks': 19845,\n",
       " 'design': 8891,\n",
       " 'place': 25192,\n",
       " 'awful': 2199,\n",
       " 'experience': 11763,\n",
       " 'everything': 11547,\n",
       " 'stuck': 32807,\n",
       " 'cooked': 7144,\n",
       " 'evenly': 11520,\n",
       " 'does': 9783,\n",
       " 'job': 17989,\n",
       " 'keeping': 18333,\n",
       " 'doesn': 9785,\n",
       " 'slide': 31079,\n",
       " 'sheet': 30341,\n",
       " 'color': 6410,\n",
       " 'buy': 4530,\n",
       " 'town': 34902,\n",
       " 'save': 29398,\n",
       " 'instead': 17215,\n",
       " 'shipping': 30429,\n",
       " 'box': 3864,\n",
       " 'will': 37693,\n",
       " 'keep': 18330,\n",
       " 'money': 21840,\n",
       " 'towels': 34898,\n",
       " 'real': 27228,\n",
       " 'clean': 6022,\n",
       " 'purchasing': 26636,\n",
       " 'alright': 952,\n",
       " 'was': 37151,\n",
       " 'disappointed': 9366,\n",
       " 'same': 29225,\n",
       " 'paper': 24217,\n",
       " 'corner': 7261,\n",
       " 'cabinet': 4570,\n",
       " 'other': 23741,\n",
       " 'stickers': 32484,\n",
       " 'fabric': 11943,\n",
       " 'thick': 34250,\n",
       " 'enough': 11138,\n",
       " 'hold': 15897,\n",
       " 'amount': 1087,\n",
       " 'coffee': 6294,\n",
       " 'do': 9739,\n",
       " 'need': 22560,\n",
       " 'long': 19818,\n",
       " 'movie': 22101,\n",
       " 'took': 34736,\n",
       " 'finish': 12565,\n",
       " 'review': 28375,\n",
       " 'next': 22739,\n",
       " 'seal': 29779,\n",
       " 'properly': 26353,\n",
       " 'atrocious': 1933,\n",
       " 'break': 3988,\n",
       " 'if': 16475,\n",
       " 'throw': 34390,\n",
       " 'third': 34292,\n",
       " 'dog': 9787,\n",
       " 'much': 22155,\n",
       " 'better': 3075,\n",
       " 'than': 34139,\n",
       " 'get': 13943,\n",
       " 'at': 1891,\n",
       " 'walmart': 37056,\n",
       " 'looking': 19843,\n",
       " 'such': 32987,\n",
       " 'purchase': 26630,\n",
       " 'beat': 2765,\n",
       " 'cheap': 5520,\n",
       " 'intended': 17294,\n",
       " 'choices': 5740,\n",
       " 'bowl': 3855,\n",
       " 'fast': 12166,\n",
       " 'last': 19008,\n",
       " 'forever': 13114,\n",
       " 'keeps': 18335,\n",
       " 'things': 34275,\n",
       " 'cool': 7156,\n",
       " 'warm': 37108,\n",
       " 'bit': 3260,\n",
       " 'bigger': 3143,\n",
       " 'ccozinha': 5209,\n",
       " 'fan': 12076,\n",
       " 'actually': 313,\n",
       " 'super': 33135,\n",
       " 'rough': 28889,\n",
       " 'soft': 31465,\n",
       " 'wash': 37154,\n",
       " 'cloths': 6172,\n",
       " 'bar': 2497,\n",
       " 'guy': 14884,\n",
       " 'often': 23382,\n",
       " 'he': 15375,\n",
       " 'unfold': 35877,\n",
       " 'topremoves': 34787,\n",
       " 'storage': 32587,\n",
       " 'difficult': 9206,\n",
       " 'frame': 13266,\n",
       " 'beautifully': 2783,\n",
       " 'crafted': 7519,\n",
       " 'picture': 25019,\n",
       " 'hot': 16110,\n",
       " 'cocoa': 6279,\n",
       " 'finally': 12529,\n",
       " 'fabulous': 11948,\n",
       " 'friend': 13387,\n",
       " 'low': 19975,\n",
       " 'purchased': 26631,\n",
       " 'christmas': 5804,\n",
       " 'gift': 13992,\n",
       " 'she': 30318,\n",
       " 'accurate': 211,\n",
       " 'description': 8875,\n",
       " 'came': 4695,\n",
       " 'happy': 15146,\n",
       " 'duvet': 10380,\n",
       " 'cover': 7452,\n",
       " 'fluffy': 12918,\n",
       " 'softest': 31474,\n",
       " 'blankets': 3332,\n",
       " 'ever': 11532,\n",
       " 'cozy': 7490,\n",
       " 'smells': 31228,\n",
       " 'mist': 21631,\n",
       " 'dries': 10135,\n",
       " 'quickly': 26824,\n",
       " 'favorite': 12226,\n",
       " 'expecting': 11746,\n",
       " 'curtains': 7957,\n",
       " 'bedroom': 2815,\n",
       " 'hang': 15097,\n",
       " 'pants': 24209,\n",
       " 'skirts': 30959,\n",
       " 'were': 37414,\n",
       " 'something': 31548,\n",
       " 'larger': 18979,\n",
       " 'pricey': 26070,\n",
       " 'charge': 5457,\n",
       " 'kept': 18396,\n",
       " 'up': 36218,\n",
       " 'day': 8285,\n",
       " 'nothing': 23037,\n",
       " 'special': 31782,\n",
       " 'install': 17194,\n",
       " 'described': 8872,\n",
       " 'arrived': 1688,\n",
       " 'timely': 34531,\n",
       " 'manner': 20474,\n",
       " 'sent': 30018,\n",
       " 'work': 37986,\n",
       " 'holds': 15904,\n",
       " 'brushes': 4230,\n",
       " 'pencils': 24611,\n",
       " 'mascara': 20679,\n",
       " 'etc': 11444,\n",
       " 'sheds': 30334,\n",
       " 'over': 23874,\n",
       " 'again': 606,\n",
       " 'pyrex': 26725,\n",
       " 'less': 19326,\n",
       " 'opener': 23528,\n",
       " 'hands': 15081,\n",
       " 'about': 69,\n",
       " 'air': 709,\n",
       " 'tight': 34489,\n",
       " 'glad': 14078,\n",
       " 'cute': 7997,\n",
       " 'zippers': 38517,\n",
       " 'worked': 37993,\n",
       " 'send': 29975,\n",
       " 'grandkids': 14463,\n",
       " 'their': 34177,\n",
       " 'halloween': 14992,\n",
       " 'treats': 35130,\n",
       " 'ton': 34710,\n",
       " 'by': 4543,\n",
       " 'using': 36319,\n",
       " 'weak': 37265,\n",
       " 'barely': 2524,\n",
       " 'bring': 4112,\n",
       " 'any': 1350,\n",
       " 'glasses': 14097,\n",
       " 'feels': 12297,\n",
       " 'grand': 14447,\n",
       " 'daughter': 8260,\n",
       " 'connecting': 6863,\n",
       " 'cctv': 5211,\n",
       " 'power': 25771,\n",
       " 'supply': 33190,\n",
       " 'cameras': 4706,\n",
       " 'definitely': 8562,\n",
       " 'contemporary': 7005,\n",
       " 'assemble': 1806,\n",
       " 'appears': 1433,\n",
       " 'boyfriend': 3877,\n",
       " 'loved': 19951,\n",
       " 'cousin': 7445,\n",
       " 'stopped': 32581,\n",
       " 'working': 37998,\n",
       " 'after': 588,\n",
       " 'still': 32503,\n",
       " 'waiting': 37012,\n",
       " 'refund': 27641,\n",
       " 'reasonably': 27279,\n",
       " 'dialysis': 9113,\n",
       " 'patient': 24412,\n",
       " 'poor': 25586,\n",
       " 'kid': 18468,\n",
       " 'dds': 8317,\n",
       " 'thanks': 34145,\n",
       " 'ruff': 28975,\n",
       " 'under': 35736,\n",
       " 'your': 38380,\n",
       " 'feet': 12300,\n",
       " 'chair': 5353,\n",
       " 'order': 23629,\n",
       " 'photos': 24962,\n",
       " 'wall': 37040,\n",
       " 'weeks': 37343,\n",
       " 'thermal': 34219,\n",
       " 'insulation': 17253,\n",
       " 'helps': 15560,\n",
       " 'food': 13026,\n",
       " 'warmer': 37110,\n",
       " 'wide': 37628,\n",
       " 'opening': 23530,\n",
       " 'best': 3052,\n",
       " 'future': 13586,\n",
       " 'additional': 362,\n",
       " 'convenience': 7091,\n",
       " 'smell': 31225,\n",
       " 'turquoise': 35466,\n",
       " 'almost': 932,\n",
       " 'neon': 22617,\n",
       " 'bright': 4088,\n",
       " 'pink': 25094,\n",
       " 'material': 20751,\n",
       " 'shelves': 30363,\n",
       " 'chocolate': 5736,\n",
       " 'yogurt': 38347,\n",
       " 'or': 23604,\n",
       " 'fruit': 13456,\n",
       " 'think': 34277,\n",
       " 'knives': 18650,\n",
       " 'ottoman': 23759,\n",
       " 'should': 30517,\n",
       " 'father': 12191,\n",
       " 'needed': 22561,\n",
       " 'winter': 37788,\n",
       " 'slept': 31060,\n",
       " 'week': 37338,\n",
       " 'sheets': 30343,\n",
       " 'find': 12539,\n",
       " 'bed': 2805,\n",
       " 'functional': 13517,\n",
       " 'legs': 19250,\n",
       " 'bedding': 2808,\n",
       " 'term': 34032,\n",
       " 'container': 6991,\n",
       " 'bags': 2355,\n",
       " 'type': 35546,\n",
       " 'containers': 6992,\n",
       " 'smooth': 31259,\n",
       " 'solid': 31509,\n",
       " 'fits': 12656,\n",
       " 'grill': 14610,\n",
       " 'large': 18977,\n",
       " 'canvas': 4824,\n",
       " 'tote': 34854,\n",
       " 'lightweight': 19502,\n",
       " 'ordered': 23631,\n",
       " 'light': 19477,\n",
       " 'blue': 3479,\n",
       " 'yellow': 38302,\n",
       " 'used': 36312,\n",
       " 'every': 11541,\n",
       " 'gets': 13947,\n",
       " 'shampoo': 30240,\n",
       " 'conditioner': 6762,\n",
       " 'want': 37083,\n",
       " 'shower': 30541,\n",
       " 'mini': 21458,\n",
       " 'full': 13504,\n",
       " 'mattress': 20792,\n",
       " 'college': 6385,\n",
       " 'terrible': 34054,\n",
       " 'complete': 6631,\n",
       " 'waste': 37170,\n",
       " 'whole': 37592,\n",
       " 'lot': 19913,\n",
       " 'together': 34651,\n",
       " 'difference': 9189,\n",
       " 'deal': 8343,\n",
       " 'far': 12107,\n",
       " 'skinnier': 30945,\n",
       " 'products': 26225,\n",
       " 'quick': 26817,\n",
       " 'customer': 7986,\n",
       " 'service': 30108,\n",
       " 'value': 36414,\n",
       " 'oven': 23872,\n",
       " 'right': 28521,\n",
       " 'height': 15516,\n",
       " 'wait': 37009,\n",
       " 'try': 35344,\n",
       " 'haul': 15294,\n",
       " 'china': 5695,\n",
       " 'mother': 22017,\n",
       " 'spices': 31876,\n",
       " 'anything': 1358,\n",
       " 'else': 10822,\n",
       " 'car': 4883,\n",
       " 'snake': 31301,\n",
       " 'oil': 23398,\n",
       " 'cushion': 7970,\n",
       " 'constructed': 6955,\n",
       " 'easily': 10500,\n",
       " 'washed': 37157,\n",
       " 'haven': 15314,\n",
       " 'takes': 33615,\n",
       " 'mystery': 22328,\n",
       " 'when': 37491,\n",
       " 'meat': 20960,\n",
       " 'finished': 12566,\n",
       " 'cooking': 7149,\n",
       " 'its': 17687,\n",
       " 'organizer': 23654,\n",
       " 'utensils': 36339,\n",
       " 'perfectly': 24701,\n",
       " 'art': 1699,\n",
       " 'rug': 28978,\n",
       " 'some': 31538,\n",
       " 'wrap': 38084,\n",
       " 'longer': 19821,\n",
       " 'tubes': 35370,\n",
       " 'which': 37508,\n",
       " 'disappointing': 9368,\n",
       " 'belts': 2953,\n",
       " 'never': 22697,\n",
       " 'expensive': 11760,\n",
       " 'renting': 27946,\n",
       " 'soften': 31469,\n",
       " 'washing': 37161,\n",
       " 'goes': 14224,\n",
       " 'star': 32293,\n",
       " 'quilts': 26841,\n",
       " 'mug': 22177,\n",
       " 'hers': 15636,\n",
       " 'saver': 29400,\n",
       " 'our': 23770,\n",
       " 'laundry': 19068,\n",
       " 'room': 28798,\n",
       " 'flexible': 12793,\n",
       " 'leading': 19134,\n",
       " 'edge': 10579,\n",
       " 'quite': 26858,\n",
       " 'helpful': 15555,\n",
       " 'conditions': 6764,\n",
       " 'bottom': 3804,\n",
       " 'stay': 32365,\n",
       " 'zero': 38484,\n",
       " 'elegant': 10744,\n",
       " 'glass': 14096,\n",
       " 'improve': 16716,\n",
       " 'taste': 33764,\n",
       " 'wine': 37748,\n",
       " 'side': 30637,\n",
       " 'sleeper': 31043,\n",
       " 'there': 34209,\n",
       " 'mats': 20778,\n",
       " 'new': 22704,\n",
       " 'bathroom': 2651,\n",
       " 'baking': 2381,\n",
       " 'needs': 22568,\n",
       " 'top': 34768,\n",
       " 'notch': 23024,\n",
       " 'artistry': 1725,\n",
       " 'bust': 4495,\n",
       " 'jesters': 17915,\n",
       " 'studios': 32816,\n",
       " 'many': 20512,\n",
       " 'comments': 6519,\n",
       " 'spoon': 31999,\n",
       " 'table': 33540,\n",
       " 'matched': 20742,\n",
       " 'curtain': 7956,\n",
       " 'secondary': 29834,\n",
       " 'apartments': 1376,\n",
       " 'reaching': 27194,\n",
       " 'areas': 1581,\n",
       " 'somewhat': 31552,\n",
       " 'convenient': 7093,\n",
       " 'hoped': 16035,\n",
       " 'battery': 2670,\n",
       " 'candles': 4776,\n",
       " 'brand': 3941,\n",
       " 'ok': 23406,\n",
       " 'firm': 12621,\n",
       " 'perfection': 24698,\n",
       " 'beyond': 3097,\n",
       " 'minimal': 21469,\n",
       " 'effort': 10650,\n",
       " 'froth': 13444,\n",
       " 'smile': 31235,\n",
       " 'fleece': 12767,\n",
       " 'noticed': 23044,\n",
       " 'today': 34636,\n",
       " 'bubbling': 4268,\n",
       " 'where': 37494,\n",
       " 'weighing': 37353,\n",
       " 'lbs': 19121,\n",
       " 'oz': 24030,\n",
       " 'grams': 14443,\n",
       " 'sticks': 32488,\n",
       " 'meal': 20934,\n",
       " 'pho': 24935,\n",
       " 'candy': 4778,\n",
       " 'buffet': 4312,\n",
       " 'certainly': 5307,\n",
       " 'multipurpose': 22207,\n",
       " 'ev': 11493,\n",
       " 'cord': 7216,\n",
       " 'garage': 13695,\n",
       " 'broke': 4162,\n",
       " 'month': 21893,\n",
       " 'tacky': 33572,\n",
       " 'shelf': 30350,\n",
       " 'spare': 31730,\n",
       " 'memory': 21100,\n",
       " 'earlier': 10459,\n",
       " 'packaging': 24059,\n",
       " 'mix': 21677,\n",
       " 'goloka': 14269,\n",
       " 'nag': 22355,\n",
       " 'champa': 5381,\n",
       " 'bride': 4059,\n",
       " 'engraving': 11094,\n",
       " 'slightly': 31088,\n",
       " 'website': 37320,\n",
       " 'pictures': 25022,\n",
       " 'then': 34193,\n",
       " 'year': 38288,\n",
       " 'pint': 25111,\n",
       " 'pick': 24997,\n",
       " 'equipment': 11292,\n",
       " 'rings': 28551,\n",
       " 'either': 10690,\n",
       " 'gone': 14270,\n",
       " 'destroyed': 8934,\n",
       " 'pieces': 25029,\n",
       " 'gifts': 13996,\n",
       " 'trouble': 35283,\n",
       " 'high': 15712,\n",
       " 'end': 11021,\n",
       " 'calming': 4678,\n",
       " 'clock': 6133,\n",
       " 'although': 974,\n",
       " 'flaw': 12752,\n",
       " 'solution': 31523,\n",
       " 'sorting': 31638,\n",
       " 'his': 15809,\n",
       " 'messes': 21209,\n",
       " 'going': 14237,\n",
       " 'dinner': 9301,\n",
       " 'beautious': 2784,\n",
       " 'buying': 4533,\n",
       " 'especially': 11392,\n",
       " 'mugs': 22182,\n",
       " 'nicely': 22763,\n",
       " 'wife': 37652,\n",
       " 'packed': 24061,\n",
       " 'crockpots': 7732,\n",
       " 'variety': 36456,\n",
       " 'myself': 22323,\n",
       " 'hours': 16140,\n",
       " 'mirror': 21536,\n",
       " 'into': 17431,\n",
       " 'hanging': 15103,\n",
       " 'wreath': 38094,\n",
       " 'efficient': 10647,\n",
       " 'adore': 449,\n",
       " 'bowls': 3859,\n",
       " 'batch': 2634,\n",
       " 'cold': 6333,\n",
       " 'drinks': 10148,\n",
       " 'measuring': 20959,\n",
       " 'cupcakes': 7914,\n",
       " 'hand': 15040,\n",
       " 'bottling': 3802,\n",
       " 'fact': 11969,\n",
       " 'padding': 24072,\n",
       " 'popcorn': 25591,\n",
       " 'machine': 20181,\n",
       " 'easier': 10498,\n",
       " 'wrong': 38142,\n",
       " 'countertop': 7400,\n",
       " 'drawer': 10078,\n",
       " 'defective': 8524,\n",
       " 'fix': 12667,\n",
       " 'boy': 3873,\n",
       " 'turn': 35451,\n",
       " 'off': 23348,\n",
       " 'snap': 31303,\n",
       " 'don': 9861,\n",
       " 'burns': 4455,\n",
       " 'hell': 15536,\n",
       " 'temps': 33970,\n",
       " 'replaced': 27995,\n",
       " 'staff': 32214,\n",
       " 'holding': 15902,\n",
       " 'says': 29435,\n",
       " 'favorites': 12227,\n",
       " 'closet': 6158,\n",
       " 'know': 18671,\n",
       " 'tried': 35198,\n",
       " 'before': 2849,\n",
       " 'merchandise': 21145,\n",
       " 'speedy': 31842,\n",
       " 'delivery': 8669,\n",
       " 'american': 1055,\n",
       " 'matching': 20744,\n",
       " 'pie': 25026,\n",
       " 'three': 34359,\n",
       " 'sets': 30125,\n",
       " 'impressed': 16697,\n",
       " 'bag': 2339,\n",
       " 'durable': 10348,\n",
       " 'suppose': 33198,\n",
       " 'water': 37195,\n",
       " 'flash': 12713,\n",
       " 'goblet': 14199,\n",
       " 'fluid': 12919,\n",
       " 'beer': 2839,\n",
       " 'even': 11516,\n",
       " 'sitting': 30856,\n",
       " 'believe': 2915,\n",
       " 'reorder': 27952,\n",
       " 'rated': 27110,\n",
       " 'whwn': 37612,\n",
       " 'originally': 23680,\n",
       " 'noodle': 22958,\n",
       " 'strainer': 32638,\n",
       " 'threads': 34352,\n",
       " 'socket': 31452,\n",
       " 'bulbs': 4345,\n",
       " 'totally': 34852,\n",
       " 'unpacked': 36045,\n",
       " 'yet': 38321,\n",
       " 'styrofoam': 32885,\n",
       " 'pull': 26571,\n",
       " 'along': 938,\n",
       " 'otherwise': 23746,\n",
       " 'clear': 6034,\n",
       " 'toilet': 34662,\n",
       " 'brush': 4228,\n",
       " 'holders': 15901,\n",
       " 'sleek': 31040,\n",
       " 'appear': 1426,\n",
       " 'promised': 26307,\n",
       " 'lovely': 19959,\n",
       " 'lamp': 18906,\n",
       " 'cookie': 7147,\n",
       " 'cutter': 8014,\n",
       " 'track': 34931,\n",
       " 'shoes': 30459,\n",
       " 'floor': 12856,\n",
       " 'visible': 36793,\n",
       " 'shipped': 30427,\n",
       " 'promptly': 26321,\n",
       " 'ten': 33978,\n",
       " 'slow': 31155,\n",
       " 'toasting': 34626,\n",
       " 'rye': 29070,\n",
       " 'bread': 3985,\n",
       " 'becomes': 2802,\n",
       " 'rock': 28681,\n",
       " 'toasted': 34623,\n",
       " 'overall': 23878,\n",
       " 'corners': 7263,\n",
       " 'broken': 4164,\n",
       " 'pasta': 24376,\n",
       " 'cereal': 5299,\n",
       " 'ice': 16402,\n",
       " 'cream': 7603,\n",
       " 'soup': 31667,\n",
       " 'filter': 12508,\n",
       " 'covers': 7459,\n",
       " 'night': 22802,\n",
       " 'noise': 22918,\n",
       " 'variations': 36452,\n",
       " 'fell': 12321,\n",
       " 'apart': 1373,\n",
       " 'became': 2791,\n",
       " 'unusable': 36181,\n",
       " 'strong': 32767,\n",
       " 'vacuume': 36378,\n",
       " 'world': 38018,\n",
       " 'carpet': 4987,\n",
       " 'floral': 12872,\n",
       " 'dead': 8325,\n",
       " 'heading': 15391,\n",
       " 'watering': 37208,\n",
       " 'lghts': 19392,\n",
       " 'rum': 28999,\n",
       " 'infused': 17013,\n",
       " 'covered': 7455,\n",
       " 'strawberries': 32672,\n",
       " 'molded': 21801,\n",
       " 'hearts': 15460,\n",
       " 'shells': 30356,\n",
       " 'tad': 33581,\n",
       " 'loose': 19871,\n",
       " 'eat': 10516,\n",
       " 'breakfast': 3995,\n",
       " 'nook': 22960,\n",
       " 'classic': 5993,\n",
       " 'honey': 15978,\n",
       " 'temperature': 33959,\n",
       " 'dishwasher': 9489,\n",
       " 'area': 1580,\n",
       " 'camis': 4715,\n",
       " 'access': 158,\n",
       " 'burn': 4447,\n",
       " 'white': 37562,\n",
       " 'elephant': 10752,\n",
       " 'liking': 19522,\n",
       " 'daughters': 8261,\n",
       " 'single': 30802,\n",
       " 'fresher': 13366,\n",
       " 'tastes': 33769,\n",
       " 'lighter': 19485,\n",
       " 'soon': 31586,\n",
       " 'surprised': 33249,\n",
       " 'blackout': 3303,\n",
       " 'task': 33757,\n",
       " 'standard': 32271,\n",
       " 'present': 25979,\n",
       " 'guest': 14783,\n",
       " 'ozark': 24031,\n",
       " 'comes': 6481,\n",
       " 'amazing': 1021,\n",
       " 'eggs': 10661,\n",
       " 'reasons': 27283,\n",
       " 'whites': 37567,\n",
       " 'straws': 32674,\n",
       " 'thinner': 34287,\n",
       " 'professional': 26235,\n",
       " 'blender': 3376,\n",
       " 'open': 23525,\n",
       " 'see': 29878,\n",
       " 'wear': 37281,\n",
       " 'tear': 33856,\n",
       " 'ergonomically': 11319,\n",
       " 'correct': 7285,\n",
       " 'mom': 21818,\n",
       " 'summer': 33078,\n",
       " 'tiny': 34575,\n",
       " 'spatulas': 31760,\n",
       " 'unless': 35990,\n",
       " 'spatula': 31759,\n",
       " 'who': 37586,\n",
       " 'arthritis': 1708,\n",
       " 'her': 15594,\n",
       " 'reading': 27215,\n",
       " 'reviews': 28380,\n",
       " 'complements': 6630,\n",
       " 'schemes': 29531,\n",
       " 'vibrant': 36636,\n",
       " 'softer': 31473,\n",
       " 'model': 21745,\n",
       " 'bottles': 3801,\n",
       " 'freezer': 13344,\n",
       " 'fresh': 13362,\n",
       " 'compact': 6564,\n",
       " 'travel': 35091,\n",
       " 'charm': 5478,\n",
       " 'daily': 8095,\n",
       " 'pug': 26560,\n",
       " 'lid': 19439,\n",
       " 'husbands': 16322,\n",
       " 'wrists': 38128,\n",
       " 'cleaned': 6023,\n",
       " 'sooner': 31587,\n",
       " 'thicker': 34253,\n",
       " 'polka': 25512,\n",
       " 'dots': 9941,\n",
       " 'disappear': 9360,\n",
       " 'hooks': 16019,\n",
       " 'ceiling': 5230,\n",
       " 'returned': 28328,\n",
       " 'exchanged': 11639,\n",
       " 'twice': 35514,\n",
       " 'base': 2586,\n",
       " 'knife': 18637,\n",
       " 'sharp': 30282,\n",
       " 'careful': 4925,\n",
       " 'taking': 33618,\n",
       " 'italy': 17669,\n",
       " 'rather': 27114,\n",
       " 'scarce': 29473,\n",
       " 'handles': 15073,\n",
       " 'stronger': 32768,\n",
       " 'quit': 26856,\n",
       " 'wobbles': 37886,\n",
       " 'though': 34332,\n",
       " 'knob': 18652,\n",
       " 'rod': 28704,\n",
       " 'clothes': 6168,\n",
       " 'stuff': 32822,\n",
       " 'rub': 28945,\n",
       " 'hangars': 15100,\n",
       " 'shorter': 30500,\n",
       " 'cotton': 7361,\n",
       " 'king': 18541,\n",
       " 'waterbed': 37197,\n",
       " 'others': 23743,\n",
       " 'mentioned': 21123,\n",
       " 'kinda': 18524,\n",
       " 'hose': 16092,\n",
       " 'stiff': 32491,\n",
       " 'fun': 13512,\n",
       " 'alice': 846,\n",
       " 'wonderland': 37930,\n",
       " 'themed': 34186,\n",
       " 'party': 24347,\n",
       " 'runner': 29014,\n",
       " 'antique': 1331,\n",
       " 'balloon': 2423,\n",
       " 'weight': 37355,\n",
       " 'serves': 30107,\n",
       " 'purpose': 26664,\n",
       " 'both': 3792,\n",
       " 'aesthetically': 535,\n",
       " 'useful': 36313,\n",
       " 'attractive': 1995,\n",
       " 'obsolete': 23263,\n",
       " 'shark': 30279,\n",
       " 'wiil': 37670,\n",
       " 'moldy': 21805,\n",
       " 'speed': 31823,\n",
       " 'home': 15938,\n",
       " 'tamales': 33646,\n",
       " 'cracked': 7505,\n",
       " 'bad': 2320,\n",
       " 'soap': 31418,\n",
       " 'fish': 12632,\n",
       " 'looked': 19841,\n",
       " 'cattie': 5152,\n",
       " 'lunch': 20086,\n",
       " 'several': 30146,\n",
       " 'days': 8299,\n",
       " 'lunchbox': 20088,\n",
       " 'preschooler': 25971,\n",
       " 'plenty': 25336,\n",
       " 'solo': 31518,\n",
       " 'campfire': 4732,\n",
       " 'stove': 32617,\n",
       " 'tested': 34084,\n",
       " 'installation': 17196,\n",
       " 'priced': 26063,\n",
       " 'terms': 34042,\n",
       " 'durability': 10347,\n",
       " 're': 27187,\n",
       " 'scratch': 29671,\n",
       " 'weird': 37368,\n",
       " 'unlike': 35992,\n",
       " 'liners': 19586,\n",
       " 'debris': 8386,\n",
       " 'falls': 12050,\n",
       " 'ends': 11046,\n",
       " 'designed': 8894,\n",
       " 'added': 349,\n",
       " 'organization': 23650,\n",
       " 'provide': 26442,\n",
       " 'pot': 25722,\n",
       " 'most': 22011,\n",
       " 'pleased': 25314,\n",
       " 'shown': 30551,\n",
       " 'mudrooma': 22168,\n",
       " 'towel': 34895,\n",
       " 'rack': 26910,\n",
       " 'projects': 26287,\n",
       " 'sooooooo': 31592,\n",
       " 'worth': 38043,\n",
       " 'hygienic': 16358,\n",
       " 'rimming': 28543,\n",
       " 'salt': 29205,\n",
       " 'margaritas': 20551,\n",
       " 'ordering': 23632,\n",
       " 'trundle': 35329,\n",
       " 'inexpensive': 16934,\n",
       " 'tool': 34737,\n",
       " 'queen': 26793,\n",
       " 'corelle': 7233,\n",
       " ...}"
      ]
     },
     "execution_count": 20,
     "metadata": {},
     "output_type": "execute_result"
    }
   ],
   "source": [
    "vectorization = TfidfVectorizer()\n",
    "transformed_output = vectorization.fit_transform(df['text_'])\n",
    "vectorization.vocabulary_"
   ]
  },
  {
   "cell_type": "code",
   "execution_count": 21,
   "id": "96744bdc",
   "metadata": {},
   "outputs": [],
   "source": [
    "feature_names=vectorization.get_feature_names_out()"
   ]
  },
  {
   "cell_type": "code",
   "execution_count": 22,
   "id": "f80c27ac",
   "metadata": {},
   "outputs": [
    {
     "data": {
      "text/plain": [
       "array(['aa', 'aaa', 'aaas', ..., 'zurg', 'zyliss', 'zymox'], dtype=object)"
      ]
     },
     "execution_count": 22,
     "metadata": {},
     "output_type": "execute_result"
    }
   ],
   "source": [
    "feature_names"
   ]
  },
  {
   "cell_type": "code",
   "execution_count": 23,
   "id": "091c9dab",
   "metadata": {},
   "outputs": [
    {
     "data": {
      "text/plain": [
       "(40432, 38566)"
      ]
     },
     "execution_count": 23,
     "metadata": {},
     "output_type": "execute_result"
    }
   ],
   "source": [
    "transformed_output.shape"
   ]
  },
  {
   "cell_type": "code",
   "execution_count": 24,
   "id": "29fced18",
   "metadata": {
    "scrolled": false
   },
   "outputs": [
    {
     "data": {
      "text/html": [
       "<div>\n",
       "<style scoped>\n",
       "    .dataframe tbody tr th:only-of-type {\n",
       "        vertical-align: middle;\n",
       "    }\n",
       "\n",
       "    .dataframe tbody tr th {\n",
       "        vertical-align: top;\n",
       "    }\n",
       "\n",
       "    .dataframe thead th {\n",
       "        text-align: right;\n",
       "    }\n",
       "</style>\n",
       "<table border=\"1\" class=\"dataframe\">\n",
       "  <thead>\n",
       "    <tr style=\"text-align: right;\">\n",
       "      <th></th>\n",
       "      <th>category</th>\n",
       "      <th>rating</th>\n",
       "      <th>text_</th>\n",
       "      <th>label</th>\n",
       "    </tr>\n",
       "  </thead>\n",
       "  <tbody>\n",
       "    <tr>\n",
       "      <th>0</th>\n",
       "      <td>Home_and_Kitchen_5</td>\n",
       "      <td>5.0</td>\n",
       "      <td>love this   well made  sturdy  and very comfor...</td>\n",
       "      <td>0</td>\n",
       "    </tr>\n",
       "    <tr>\n",
       "      <th>1</th>\n",
       "      <td>Home_and_Kitchen_5</td>\n",
       "      <td>5.0</td>\n",
       "      <td>love it  a great upgrade from the original   i...</td>\n",
       "      <td>0</td>\n",
       "    </tr>\n",
       "    <tr>\n",
       "      <th>2</th>\n",
       "      <td>Home_and_Kitchen_5</td>\n",
       "      <td>5.0</td>\n",
       "      <td>this pillow saved my back  i love the look and...</td>\n",
       "      <td>0</td>\n",
       "    </tr>\n",
       "    <tr>\n",
       "      <th>3</th>\n",
       "      <td>Home_and_Kitchen_5</td>\n",
       "      <td>1.0</td>\n",
       "      <td>missing information on how to use it  but it i...</td>\n",
       "      <td>0</td>\n",
       "    </tr>\n",
       "    <tr>\n",
       "      <th>4</th>\n",
       "      <td>Home_and_Kitchen_5</td>\n",
       "      <td>5.0</td>\n",
       "      <td>very nice set  good quality  we have had the s...</td>\n",
       "      <td>0</td>\n",
       "    </tr>\n",
       "  </tbody>\n",
       "</table>\n",
       "</div>"
      ],
      "text/plain": [
       "             category  rating  \\\n",
       "0  Home_and_Kitchen_5     5.0   \n",
       "1  Home_and_Kitchen_5     5.0   \n",
       "2  Home_and_Kitchen_5     5.0   \n",
       "3  Home_and_Kitchen_5     1.0   \n",
       "4  Home_and_Kitchen_5     5.0   \n",
       "\n",
       "                                               text_  label  \n",
       "0  love this   well made  sturdy  and very comfor...      0  \n",
       "1  love it  a great upgrade from the original   i...      0  \n",
       "2  this pillow saved my back  i love the look and...      0  \n",
       "3  missing information on how to use it  but it i...      0  \n",
       "4  very nice set  good quality  we have had the s...      0  "
      ]
     },
     "execution_count": 24,
     "metadata": {},
     "output_type": "execute_result"
    }
   ],
   "source": [
    "df1.head()"
   ]
  },
  {
   "cell_type": "code",
   "execution_count": 25,
   "id": "d615590a",
   "metadata": {},
   "outputs": [
    {
     "name": "stderr",
     "output_type": "stream",
     "text": [
      "C:\\Users\\user\\anaconda3\\lib\\site-packages\\pandas\\core\\generic.py:6619: SettingWithCopyWarning: \n",
      "A value is trying to be set on a copy of a slice from a DataFrame\n",
      "\n",
      "See the caveats in the documentation: https://pandas.pydata.org/pandas-docs/stable/user_guide/indexing.html#returning-a-view-versus-a-copy\n",
      "  return self._update_inplace(result)\n"
     ]
    }
   ],
   "source": [
    "df1['category'].replace(['Home_and_Kitchen_5', 'Sports_and_Outdoors_5','Electronics_5',\n",
    "       'Movies_and_TV_5', 'Tools_and_Home_Improvement_5',\n",
    "       'Pet_Supplies_5', 'Kindle_Store_5', 'Books_5', 'Toys_and_Games_5',\n",
    "       'Clothing_Shoes_and_Jewelry_5'],\n",
    "                        [0,1,2,3,4,5,6,7,8,9], inplace=True)"
   ]
  },
  {
   "cell_type": "code",
   "execution_count": 26,
   "id": "38dc2d3b",
   "metadata": {
    "scrolled": true
   },
   "outputs": [
    {
     "data": {
      "text/html": [
       "<div>\n",
       "<style scoped>\n",
       "    .dataframe tbody tr th:only-of-type {\n",
       "        vertical-align: middle;\n",
       "    }\n",
       "\n",
       "    .dataframe tbody tr th {\n",
       "        vertical-align: top;\n",
       "    }\n",
       "\n",
       "    .dataframe thead th {\n",
       "        text-align: right;\n",
       "    }\n",
       "</style>\n",
       "<table border=\"1\" class=\"dataframe\">\n",
       "  <thead>\n",
       "    <tr style=\"text-align: right;\">\n",
       "      <th></th>\n",
       "      <th>category</th>\n",
       "      <th>rating</th>\n",
       "      <th>text_</th>\n",
       "      <th>label</th>\n",
       "    </tr>\n",
       "  </thead>\n",
       "  <tbody>\n",
       "    <tr>\n",
       "      <th>0</th>\n",
       "      <td>0</td>\n",
       "      <td>5.0</td>\n",
       "      <td>love this   well made  sturdy  and very comfor...</td>\n",
       "      <td>0</td>\n",
       "    </tr>\n",
       "    <tr>\n",
       "      <th>1</th>\n",
       "      <td>0</td>\n",
       "      <td>5.0</td>\n",
       "      <td>love it  a great upgrade from the original   i...</td>\n",
       "      <td>0</td>\n",
       "    </tr>\n",
       "    <tr>\n",
       "      <th>2</th>\n",
       "      <td>0</td>\n",
       "      <td>5.0</td>\n",
       "      <td>this pillow saved my back  i love the look and...</td>\n",
       "      <td>0</td>\n",
       "    </tr>\n",
       "    <tr>\n",
       "      <th>3</th>\n",
       "      <td>0</td>\n",
       "      <td>1.0</td>\n",
       "      <td>missing information on how to use it  but it i...</td>\n",
       "      <td>0</td>\n",
       "    </tr>\n",
       "    <tr>\n",
       "      <th>4</th>\n",
       "      <td>0</td>\n",
       "      <td>5.0</td>\n",
       "      <td>very nice set  good quality  we have had the s...</td>\n",
       "      <td>0</td>\n",
       "    </tr>\n",
       "  </tbody>\n",
       "</table>\n",
       "</div>"
      ],
      "text/plain": [
       "   category  rating                                              text_  label\n",
       "0         0     5.0  love this   well made  sturdy  and very comfor...      0\n",
       "1         0     5.0  love it  a great upgrade from the original   i...      0\n",
       "2         0     5.0  this pillow saved my back  i love the look and...      0\n",
       "3         0     1.0  missing information on how to use it  but it i...      0\n",
       "4         0     5.0  very nice set  good quality  we have had the s...      0"
      ]
     },
     "execution_count": 26,
     "metadata": {},
     "output_type": "execute_result"
    }
   ],
   "source": [
    "df1.head()"
   ]
  },
  {
   "cell_type": "code",
   "execution_count": 27,
   "id": "81034cd7",
   "metadata": {},
   "outputs": [],
   "source": [
    "df2 = pd.DataFrame(transformed_output.toarray(), columns=vectorization.vocabulary_)"
   ]
  },
  {
   "cell_type": "code",
   "execution_count": 28,
   "id": "f2ffdd70",
   "metadata": {},
   "outputs": [
    {
     "data": {
      "text/html": [
       "<div>\n",
       "<style scoped>\n",
       "    .dataframe tbody tr th:only-of-type {\n",
       "        vertical-align: middle;\n",
       "    }\n",
       "\n",
       "    .dataframe tbody tr th {\n",
       "        vertical-align: top;\n",
       "    }\n",
       "\n",
       "    .dataframe thead th {\n",
       "        text-align: right;\n",
       "    }\n",
       "</style>\n",
       "<table border=\"1\" class=\"dataframe\">\n",
       "  <thead>\n",
       "    <tr style=\"text-align: right;\">\n",
       "      <th></th>\n",
       "      <th>love</th>\n",
       "      <th>this</th>\n",
       "      <th>well</th>\n",
       "      <th>made</th>\n",
       "      <th>sturdy</th>\n",
       "      <th>and</th>\n",
       "      <th>very</th>\n",
       "      <th>comfortable</th>\n",
       "      <th>it</th>\n",
       "      <th>pretty</th>\n",
       "      <th>...</th>\n",
       "      <th>tomahawk</th>\n",
       "      <th>ruck</th>\n",
       "      <th>warmness</th>\n",
       "      <th>minimizer</th>\n",
       "      <th>gallbladder</th>\n",
       "      <th>hippora</th>\n",
       "      <th>hyvent</th>\n",
       "      <th>dwr</th>\n",
       "      <th>ducks</th>\n",
       "      <th>merrels</th>\n",
       "    </tr>\n",
       "  </thead>\n",
       "  <tbody>\n",
       "    <tr>\n",
       "      <th>0</th>\n",
       "      <td>0.0</td>\n",
       "      <td>0.0</td>\n",
       "      <td>0.0</td>\n",
       "      <td>0.0</td>\n",
       "      <td>0.0</td>\n",
       "      <td>0.0</td>\n",
       "      <td>0.0</td>\n",
       "      <td>0.0</td>\n",
       "      <td>0.0</td>\n",
       "      <td>0.0</td>\n",
       "      <td>...</td>\n",
       "      <td>0.0</td>\n",
       "      <td>0.0</td>\n",
       "      <td>0.0</td>\n",
       "      <td>0.0</td>\n",
       "      <td>0.0</td>\n",
       "      <td>0.0</td>\n",
       "      <td>0.0</td>\n",
       "      <td>0.0</td>\n",
       "      <td>0.0</td>\n",
       "      <td>0.0</td>\n",
       "    </tr>\n",
       "    <tr>\n",
       "      <th>1</th>\n",
       "      <td>0.0</td>\n",
       "      <td>0.0</td>\n",
       "      <td>0.0</td>\n",
       "      <td>0.0</td>\n",
       "      <td>0.0</td>\n",
       "      <td>0.0</td>\n",
       "      <td>0.0</td>\n",
       "      <td>0.0</td>\n",
       "      <td>0.0</td>\n",
       "      <td>0.0</td>\n",
       "      <td>...</td>\n",
       "      <td>0.0</td>\n",
       "      <td>0.0</td>\n",
       "      <td>0.0</td>\n",
       "      <td>0.0</td>\n",
       "      <td>0.0</td>\n",
       "      <td>0.0</td>\n",
       "      <td>0.0</td>\n",
       "      <td>0.0</td>\n",
       "      <td>0.0</td>\n",
       "      <td>0.0</td>\n",
       "    </tr>\n",
       "    <tr>\n",
       "      <th>2</th>\n",
       "      <td>0.0</td>\n",
       "      <td>0.0</td>\n",
       "      <td>0.0</td>\n",
       "      <td>0.0</td>\n",
       "      <td>0.0</td>\n",
       "      <td>0.0</td>\n",
       "      <td>0.0</td>\n",
       "      <td>0.0</td>\n",
       "      <td>0.0</td>\n",
       "      <td>0.0</td>\n",
       "      <td>...</td>\n",
       "      <td>0.0</td>\n",
       "      <td>0.0</td>\n",
       "      <td>0.0</td>\n",
       "      <td>0.0</td>\n",
       "      <td>0.0</td>\n",
       "      <td>0.0</td>\n",
       "      <td>0.0</td>\n",
       "      <td>0.0</td>\n",
       "      <td>0.0</td>\n",
       "      <td>0.0</td>\n",
       "    </tr>\n",
       "    <tr>\n",
       "      <th>3</th>\n",
       "      <td>0.0</td>\n",
       "      <td>0.0</td>\n",
       "      <td>0.0</td>\n",
       "      <td>0.0</td>\n",
       "      <td>0.0</td>\n",
       "      <td>0.0</td>\n",
       "      <td>0.0</td>\n",
       "      <td>0.0</td>\n",
       "      <td>0.0</td>\n",
       "      <td>0.0</td>\n",
       "      <td>...</td>\n",
       "      <td>0.0</td>\n",
       "      <td>0.0</td>\n",
       "      <td>0.0</td>\n",
       "      <td>0.0</td>\n",
       "      <td>0.0</td>\n",
       "      <td>0.0</td>\n",
       "      <td>0.0</td>\n",
       "      <td>0.0</td>\n",
       "      <td>0.0</td>\n",
       "      <td>0.0</td>\n",
       "    </tr>\n",
       "    <tr>\n",
       "      <th>4</th>\n",
       "      <td>0.0</td>\n",
       "      <td>0.0</td>\n",
       "      <td>0.0</td>\n",
       "      <td>0.0</td>\n",
       "      <td>0.0</td>\n",
       "      <td>0.0</td>\n",
       "      <td>0.0</td>\n",
       "      <td>0.0</td>\n",
       "      <td>0.0</td>\n",
       "      <td>0.0</td>\n",
       "      <td>...</td>\n",
       "      <td>0.0</td>\n",
       "      <td>0.0</td>\n",
       "      <td>0.0</td>\n",
       "      <td>0.0</td>\n",
       "      <td>0.0</td>\n",
       "      <td>0.0</td>\n",
       "      <td>0.0</td>\n",
       "      <td>0.0</td>\n",
       "      <td>0.0</td>\n",
       "      <td>0.0</td>\n",
       "    </tr>\n",
       "    <tr>\n",
       "      <th>...</th>\n",
       "      <td>...</td>\n",
       "      <td>...</td>\n",
       "      <td>...</td>\n",
       "      <td>...</td>\n",
       "      <td>...</td>\n",
       "      <td>...</td>\n",
       "      <td>...</td>\n",
       "      <td>...</td>\n",
       "      <td>...</td>\n",
       "      <td>...</td>\n",
       "      <td>...</td>\n",
       "      <td>...</td>\n",
       "      <td>...</td>\n",
       "      <td>...</td>\n",
       "      <td>...</td>\n",
       "      <td>...</td>\n",
       "      <td>...</td>\n",
       "      <td>...</td>\n",
       "      <td>...</td>\n",
       "      <td>...</td>\n",
       "      <td>...</td>\n",
       "    </tr>\n",
       "    <tr>\n",
       "      <th>40427</th>\n",
       "      <td>0.0</td>\n",
       "      <td>0.0</td>\n",
       "      <td>0.0</td>\n",
       "      <td>0.0</td>\n",
       "      <td>0.0</td>\n",
       "      <td>0.0</td>\n",
       "      <td>0.0</td>\n",
       "      <td>0.0</td>\n",
       "      <td>0.0</td>\n",
       "      <td>0.0</td>\n",
       "      <td>...</td>\n",
       "      <td>0.0</td>\n",
       "      <td>0.0</td>\n",
       "      <td>0.0</td>\n",
       "      <td>0.0</td>\n",
       "      <td>0.0</td>\n",
       "      <td>0.0</td>\n",
       "      <td>0.0</td>\n",
       "      <td>0.0</td>\n",
       "      <td>0.0</td>\n",
       "      <td>0.0</td>\n",
       "    </tr>\n",
       "    <tr>\n",
       "      <th>40428</th>\n",
       "      <td>0.0</td>\n",
       "      <td>0.0</td>\n",
       "      <td>0.0</td>\n",
       "      <td>0.0</td>\n",
       "      <td>0.0</td>\n",
       "      <td>0.0</td>\n",
       "      <td>0.0</td>\n",
       "      <td>0.0</td>\n",
       "      <td>0.0</td>\n",
       "      <td>0.0</td>\n",
       "      <td>...</td>\n",
       "      <td>0.0</td>\n",
       "      <td>0.0</td>\n",
       "      <td>0.0</td>\n",
       "      <td>0.0</td>\n",
       "      <td>0.0</td>\n",
       "      <td>0.0</td>\n",
       "      <td>0.0</td>\n",
       "      <td>0.0</td>\n",
       "      <td>0.0</td>\n",
       "      <td>0.0</td>\n",
       "    </tr>\n",
       "    <tr>\n",
       "      <th>40429</th>\n",
       "      <td>0.0</td>\n",
       "      <td>0.0</td>\n",
       "      <td>0.0</td>\n",
       "      <td>0.0</td>\n",
       "      <td>0.0</td>\n",
       "      <td>0.0</td>\n",
       "      <td>0.0</td>\n",
       "      <td>0.0</td>\n",
       "      <td>0.0</td>\n",
       "      <td>0.0</td>\n",
       "      <td>...</td>\n",
       "      <td>0.0</td>\n",
       "      <td>0.0</td>\n",
       "      <td>0.0</td>\n",
       "      <td>0.0</td>\n",
       "      <td>0.0</td>\n",
       "      <td>0.0</td>\n",
       "      <td>0.0</td>\n",
       "      <td>0.0</td>\n",
       "      <td>0.0</td>\n",
       "      <td>0.0</td>\n",
       "    </tr>\n",
       "    <tr>\n",
       "      <th>40430</th>\n",
       "      <td>0.0</td>\n",
       "      <td>0.0</td>\n",
       "      <td>0.0</td>\n",
       "      <td>0.0</td>\n",
       "      <td>0.0</td>\n",
       "      <td>0.0</td>\n",
       "      <td>0.0</td>\n",
       "      <td>0.0</td>\n",
       "      <td>0.0</td>\n",
       "      <td>0.0</td>\n",
       "      <td>...</td>\n",
       "      <td>0.0</td>\n",
       "      <td>0.0</td>\n",
       "      <td>0.0</td>\n",
       "      <td>0.0</td>\n",
       "      <td>0.0</td>\n",
       "      <td>0.0</td>\n",
       "      <td>0.0</td>\n",
       "      <td>0.0</td>\n",
       "      <td>0.0</td>\n",
       "      <td>0.0</td>\n",
       "    </tr>\n",
       "    <tr>\n",
       "      <th>40431</th>\n",
       "      <td>0.0</td>\n",
       "      <td>0.0</td>\n",
       "      <td>0.0</td>\n",
       "      <td>0.0</td>\n",
       "      <td>0.0</td>\n",
       "      <td>0.0</td>\n",
       "      <td>0.0</td>\n",
       "      <td>0.0</td>\n",
       "      <td>0.0</td>\n",
       "      <td>0.0</td>\n",
       "      <td>...</td>\n",
       "      <td>0.0</td>\n",
       "      <td>0.0</td>\n",
       "      <td>0.0</td>\n",
       "      <td>0.0</td>\n",
       "      <td>0.0</td>\n",
       "      <td>0.0</td>\n",
       "      <td>0.0</td>\n",
       "      <td>0.0</td>\n",
       "      <td>0.0</td>\n",
       "      <td>0.0</td>\n",
       "    </tr>\n",
       "  </tbody>\n",
       "</table>\n",
       "<p>40432 rows × 38566 columns</p>\n",
       "</div>"
      ],
      "text/plain": [
       "       love  this  well  made  sturdy  and  very  comfortable   it  pretty  \\\n",
       "0       0.0   0.0   0.0   0.0     0.0  0.0   0.0          0.0  0.0     0.0   \n",
       "1       0.0   0.0   0.0   0.0     0.0  0.0   0.0          0.0  0.0     0.0   \n",
       "2       0.0   0.0   0.0   0.0     0.0  0.0   0.0          0.0  0.0     0.0   \n",
       "3       0.0   0.0   0.0   0.0     0.0  0.0   0.0          0.0  0.0     0.0   \n",
       "4       0.0   0.0   0.0   0.0     0.0  0.0   0.0          0.0  0.0     0.0   \n",
       "...     ...   ...   ...   ...     ...  ...   ...          ...  ...     ...   \n",
       "40427   0.0   0.0   0.0   0.0     0.0  0.0   0.0          0.0  0.0     0.0   \n",
       "40428   0.0   0.0   0.0   0.0     0.0  0.0   0.0          0.0  0.0     0.0   \n",
       "40429   0.0   0.0   0.0   0.0     0.0  0.0   0.0          0.0  0.0     0.0   \n",
       "40430   0.0   0.0   0.0   0.0     0.0  0.0   0.0          0.0  0.0     0.0   \n",
       "40431   0.0   0.0   0.0   0.0     0.0  0.0   0.0          0.0  0.0     0.0   \n",
       "\n",
       "       ...  tomahawk  ruck  warmness  minimizer  gallbladder  hippora  hyvent  \\\n",
       "0      ...       0.0   0.0       0.0        0.0          0.0      0.0     0.0   \n",
       "1      ...       0.0   0.0       0.0        0.0          0.0      0.0     0.0   \n",
       "2      ...       0.0   0.0       0.0        0.0          0.0      0.0     0.0   \n",
       "3      ...       0.0   0.0       0.0        0.0          0.0      0.0     0.0   \n",
       "4      ...       0.0   0.0       0.0        0.0          0.0      0.0     0.0   \n",
       "...    ...       ...   ...       ...        ...          ...      ...     ...   \n",
       "40427  ...       0.0   0.0       0.0        0.0          0.0      0.0     0.0   \n",
       "40428  ...       0.0   0.0       0.0        0.0          0.0      0.0     0.0   \n",
       "40429  ...       0.0   0.0       0.0        0.0          0.0      0.0     0.0   \n",
       "40430  ...       0.0   0.0       0.0        0.0          0.0      0.0     0.0   \n",
       "40431  ...       0.0   0.0       0.0        0.0          0.0      0.0     0.0   \n",
       "\n",
       "       dwr  ducks  merrels  \n",
       "0      0.0    0.0      0.0  \n",
       "1      0.0    0.0      0.0  \n",
       "2      0.0    0.0      0.0  \n",
       "3      0.0    0.0      0.0  \n",
       "4      0.0    0.0      0.0  \n",
       "...    ...    ...      ...  \n",
       "40427  0.0    0.0      0.0  \n",
       "40428  0.0    0.0      0.0  \n",
       "40429  0.0    0.0      0.0  \n",
       "40430  0.0    0.0      0.0  \n",
       "40431  0.0    0.0      0.0  \n",
       "\n",
       "[40432 rows x 38566 columns]"
      ]
     },
     "execution_count": 28,
     "metadata": {},
     "output_type": "execute_result"
    }
   ],
   "source": [
    "df2"
   ]
  },
  {
   "cell_type": "code",
   "execution_count": 29,
   "id": "cb70cf19",
   "metadata": {},
   "outputs": [
    {
     "data": {
      "text/plain": [
       "(40432, 38566)"
      ]
     },
     "execution_count": 29,
     "metadata": {},
     "output_type": "execute_result"
    }
   ],
   "source": [
    "df2.shape"
   ]
  },
  {
   "cell_type": "code",
   "execution_count": 30,
   "id": "5edc481d",
   "metadata": {},
   "outputs": [
    {
     "data": {
      "text/plain": [
       "love       0\n",
       "this       0\n",
       "well       0\n",
       "made       0\n",
       "sturdy     0\n",
       "          ..\n",
       "hippora    0\n",
       "hyvent     0\n",
       "dwr        0\n",
       "ducks      0\n",
       "merrels    0\n",
       "Length: 38566, dtype: int64"
      ]
     },
     "execution_count": 30,
     "metadata": {},
     "output_type": "execute_result"
    }
   ],
   "source": [
    "df2.isnull().sum()"
   ]
  },
  {
   "cell_type": "code",
   "execution_count": 31,
   "id": "4137e8d0",
   "metadata": {},
   "outputs": [],
   "source": [
    "df2['Mean'] = df2.mean(axis=1)"
   ]
  },
  {
   "cell_type": "code",
   "execution_count": 32,
   "id": "6fc2faf0",
   "metadata": {},
   "outputs": [
    {
     "name": "stdout",
     "output_type": "stream",
     "text": [
      "0        0.000076\n",
      "1        0.000086\n",
      "2        0.000067\n",
      "3        0.000086\n",
      "4        0.000093\n",
      "           ...   \n",
      "40427    0.000272\n",
      "40428    0.000218\n",
      "40429    0.000293\n",
      "40430    0.000197\n",
      "40431    0.000281\n",
      "Name: Mean, Length: 40432, dtype: float64\n"
     ]
    }
   ],
   "source": [
    "print(df2['Mean'])"
   ]
  },
  {
   "cell_type": "code",
   "execution_count": 33,
   "id": "83e6b99c",
   "metadata": {},
   "outputs": [],
   "source": [
    "extracted_col = df2[\"Mean\"]"
   ]
  },
  {
   "cell_type": "code",
   "execution_count": 34,
   "id": "3a84d86a",
   "metadata": {},
   "outputs": [],
   "source": [
    "df3 = df1.join(extracted_col)"
   ]
  },
  {
   "cell_type": "code",
   "execution_count": 35,
   "id": "ab62b59f",
   "metadata": {},
   "outputs": [
    {
     "data": {
      "text/html": [
       "<div>\n",
       "<style scoped>\n",
       "    .dataframe tbody tr th:only-of-type {\n",
       "        vertical-align: middle;\n",
       "    }\n",
       "\n",
       "    .dataframe tbody tr th {\n",
       "        vertical-align: top;\n",
       "    }\n",
       "\n",
       "    .dataframe thead th {\n",
       "        text-align: right;\n",
       "    }\n",
       "</style>\n",
       "<table border=\"1\" class=\"dataframe\">\n",
       "  <thead>\n",
       "    <tr style=\"text-align: right;\">\n",
       "      <th></th>\n",
       "      <th>category</th>\n",
       "      <th>rating</th>\n",
       "      <th>text_</th>\n",
       "      <th>label</th>\n",
       "      <th>Mean</th>\n",
       "    </tr>\n",
       "  </thead>\n",
       "  <tbody>\n",
       "    <tr>\n",
       "      <th>0</th>\n",
       "      <td>0</td>\n",
       "      <td>5.0</td>\n",
       "      <td>love this   well made  sturdy  and very comfor...</td>\n",
       "      <td>0</td>\n",
       "      <td>0.000076</td>\n",
       "    </tr>\n",
       "    <tr>\n",
       "      <th>1</th>\n",
       "      <td>0</td>\n",
       "      <td>5.0</td>\n",
       "      <td>love it  a great upgrade from the original   i...</td>\n",
       "      <td>0</td>\n",
       "      <td>0.000086</td>\n",
       "    </tr>\n",
       "    <tr>\n",
       "      <th>2</th>\n",
       "      <td>0</td>\n",
       "      <td>5.0</td>\n",
       "      <td>this pillow saved my back  i love the look and...</td>\n",
       "      <td>0</td>\n",
       "      <td>0.000067</td>\n",
       "    </tr>\n",
       "    <tr>\n",
       "      <th>3</th>\n",
       "      <td>0</td>\n",
       "      <td>1.0</td>\n",
       "      <td>missing information on how to use it  but it i...</td>\n",
       "      <td>0</td>\n",
       "      <td>0.000086</td>\n",
       "    </tr>\n",
       "    <tr>\n",
       "      <th>4</th>\n",
       "      <td>0</td>\n",
       "      <td>5.0</td>\n",
       "      <td>very nice set  good quality  we have had the s...</td>\n",
       "      <td>0</td>\n",
       "      <td>0.000093</td>\n",
       "    </tr>\n",
       "    <tr>\n",
       "      <th>...</th>\n",
       "      <td>...</td>\n",
       "      <td>...</td>\n",
       "      <td>...</td>\n",
       "      <td>...</td>\n",
       "      <td>...</td>\n",
       "    </tr>\n",
       "    <tr>\n",
       "      <th>40427</th>\n",
       "      <td>9</td>\n",
       "      <td>4.0</td>\n",
       "      <td>i had read some reviews saying that this bra r...</td>\n",
       "      <td>1</td>\n",
       "      <td>0.000272</td>\n",
       "    </tr>\n",
       "    <tr>\n",
       "      <th>40428</th>\n",
       "      <td>9</td>\n",
       "      <td>5.0</td>\n",
       "      <td>i wasn t sure exactly what it would be  it is ...</td>\n",
       "      <td>0</td>\n",
       "      <td>0.000218</td>\n",
       "    </tr>\n",
       "    <tr>\n",
       "      <th>40429</th>\n",
       "      <td>9</td>\n",
       "      <td>2.0</td>\n",
       "      <td>you can wear the hood by itself  wear it with ...</td>\n",
       "      <td>1</td>\n",
       "      <td>0.000293</td>\n",
       "    </tr>\n",
       "    <tr>\n",
       "      <th>40430</th>\n",
       "      <td>9</td>\n",
       "      <td>1.0</td>\n",
       "      <td>i liked nothing about this dress  the only rea...</td>\n",
       "      <td>0</td>\n",
       "      <td>0.000197</td>\n",
       "    </tr>\n",
       "    <tr>\n",
       "      <th>40431</th>\n",
       "      <td>9</td>\n",
       "      <td>5.0</td>\n",
       "      <td>i work in the wedding industry and have to wor...</td>\n",
       "      <td>1</td>\n",
       "      <td>0.000281</td>\n",
       "    </tr>\n",
       "  </tbody>\n",
       "</table>\n",
       "<p>40432 rows × 5 columns</p>\n",
       "</div>"
      ],
      "text/plain": [
       "       category  rating                                              text_  \\\n",
       "0             0     5.0  love this   well made  sturdy  and very comfor...   \n",
       "1             0     5.0  love it  a great upgrade from the original   i...   \n",
       "2             0     5.0  this pillow saved my back  i love the look and...   \n",
       "3             0     1.0  missing information on how to use it  but it i...   \n",
       "4             0     5.0  very nice set  good quality  we have had the s...   \n",
       "...         ...     ...                                                ...   \n",
       "40427         9     4.0  i had read some reviews saying that this bra r...   \n",
       "40428         9     5.0  i wasn t sure exactly what it would be  it is ...   \n",
       "40429         9     2.0  you can wear the hood by itself  wear it with ...   \n",
       "40430         9     1.0  i liked nothing about this dress  the only rea...   \n",
       "40431         9     5.0  i work in the wedding industry and have to wor...   \n",
       "\n",
       "       label      Mean  \n",
       "0          0  0.000076  \n",
       "1          0  0.000086  \n",
       "2          0  0.000067  \n",
       "3          0  0.000086  \n",
       "4          0  0.000093  \n",
       "...      ...       ...  \n",
       "40427      1  0.000272  \n",
       "40428      0  0.000218  \n",
       "40429      1  0.000293  \n",
       "40430      0  0.000197  \n",
       "40431      1  0.000281  \n",
       "\n",
       "[40432 rows x 5 columns]"
      ]
     },
     "execution_count": 35,
     "metadata": {},
     "output_type": "execute_result"
    }
   ],
   "source": [
    "df3"
   ]
  },
  {
   "cell_type": "code",
   "execution_count": 36,
   "id": "110bd5c2",
   "metadata": {},
   "outputs": [],
   "source": [
    "df4=df3.drop(['text_'], axis=1)"
   ]
  },
  {
   "cell_type": "code",
   "execution_count": 37,
   "id": "3228db82",
   "metadata": {
    "scrolled": false
   },
   "outputs": [
    {
     "data": {
      "text/html": [
       "<div>\n",
       "<style scoped>\n",
       "    .dataframe tbody tr th:only-of-type {\n",
       "        vertical-align: middle;\n",
       "    }\n",
       "\n",
       "    .dataframe tbody tr th {\n",
       "        vertical-align: top;\n",
       "    }\n",
       "\n",
       "    .dataframe thead th {\n",
       "        text-align: right;\n",
       "    }\n",
       "</style>\n",
       "<table border=\"1\" class=\"dataframe\">\n",
       "  <thead>\n",
       "    <tr style=\"text-align: right;\">\n",
       "      <th></th>\n",
       "      <th>category</th>\n",
       "      <th>rating</th>\n",
       "      <th>label</th>\n",
       "      <th>Mean</th>\n",
       "    </tr>\n",
       "  </thead>\n",
       "  <tbody>\n",
       "    <tr>\n",
       "      <th>0</th>\n",
       "      <td>0</td>\n",
       "      <td>5.0</td>\n",
       "      <td>0</td>\n",
       "      <td>0.000076</td>\n",
       "    </tr>\n",
       "    <tr>\n",
       "      <th>1</th>\n",
       "      <td>0</td>\n",
       "      <td>5.0</td>\n",
       "      <td>0</td>\n",
       "      <td>0.000086</td>\n",
       "    </tr>\n",
       "    <tr>\n",
       "      <th>2</th>\n",
       "      <td>0</td>\n",
       "      <td>5.0</td>\n",
       "      <td>0</td>\n",
       "      <td>0.000067</td>\n",
       "    </tr>\n",
       "    <tr>\n",
       "      <th>3</th>\n",
       "      <td>0</td>\n",
       "      <td>1.0</td>\n",
       "      <td>0</td>\n",
       "      <td>0.000086</td>\n",
       "    </tr>\n",
       "    <tr>\n",
       "      <th>4</th>\n",
       "      <td>0</td>\n",
       "      <td>5.0</td>\n",
       "      <td>0</td>\n",
       "      <td>0.000093</td>\n",
       "    </tr>\n",
       "    <tr>\n",
       "      <th>...</th>\n",
       "      <td>...</td>\n",
       "      <td>...</td>\n",
       "      <td>...</td>\n",
       "      <td>...</td>\n",
       "    </tr>\n",
       "    <tr>\n",
       "      <th>40427</th>\n",
       "      <td>9</td>\n",
       "      <td>4.0</td>\n",
       "      <td>1</td>\n",
       "      <td>0.000272</td>\n",
       "    </tr>\n",
       "    <tr>\n",
       "      <th>40428</th>\n",
       "      <td>9</td>\n",
       "      <td>5.0</td>\n",
       "      <td>0</td>\n",
       "      <td>0.000218</td>\n",
       "    </tr>\n",
       "    <tr>\n",
       "      <th>40429</th>\n",
       "      <td>9</td>\n",
       "      <td>2.0</td>\n",
       "      <td>1</td>\n",
       "      <td>0.000293</td>\n",
       "    </tr>\n",
       "    <tr>\n",
       "      <th>40430</th>\n",
       "      <td>9</td>\n",
       "      <td>1.0</td>\n",
       "      <td>0</td>\n",
       "      <td>0.000197</td>\n",
       "    </tr>\n",
       "    <tr>\n",
       "      <th>40431</th>\n",
       "      <td>9</td>\n",
       "      <td>5.0</td>\n",
       "      <td>1</td>\n",
       "      <td>0.000281</td>\n",
       "    </tr>\n",
       "  </tbody>\n",
       "</table>\n",
       "<p>40432 rows × 4 columns</p>\n",
       "</div>"
      ],
      "text/plain": [
       "       category  rating  label      Mean\n",
       "0             0     5.0      0  0.000076\n",
       "1             0     5.0      0  0.000086\n",
       "2             0     5.0      0  0.000067\n",
       "3             0     1.0      0  0.000086\n",
       "4             0     5.0      0  0.000093\n",
       "...         ...     ...    ...       ...\n",
       "40427         9     4.0      1  0.000272\n",
       "40428         9     5.0      0  0.000218\n",
       "40429         9     2.0      1  0.000293\n",
       "40430         9     1.0      0  0.000197\n",
       "40431         9     5.0      1  0.000281\n",
       "\n",
       "[40432 rows x 4 columns]"
      ]
     },
     "execution_count": 37,
     "metadata": {},
     "output_type": "execute_result"
    }
   ],
   "source": [
    "df4"
   ]
  },
  {
   "cell_type": "code",
   "execution_count": 38,
   "id": "4c66fabb",
   "metadata": {},
   "outputs": [],
   "source": [
    "df4.to_csv('df4.csv')"
   ]
  },
  {
   "cell_type": "code",
   "execution_count": 39,
   "id": "52c71187",
   "metadata": {},
   "outputs": [],
   "source": [
    "inp_shape=df4.shape"
   ]
  },
  {
   "cell_type": "code",
   "execution_count": 40,
   "id": "fe912122",
   "metadata": {},
   "outputs": [
    {
     "data": {
      "text/plain": [
       "(40432, 4)"
      ]
     },
     "execution_count": 40,
     "metadata": {},
     "output_type": "execute_result"
    }
   ],
   "source": [
    "inp_shape"
   ]
  },
  {
   "cell_type": "markdown",
   "id": "7eeee3b2",
   "metadata": {},
   "source": [
    "## Naive Bayes Classifier"
   ]
  },
  {
   "cell_type": "code",
   "execution_count": 41,
   "id": "6689a852",
   "metadata": {},
   "outputs": [],
   "source": [
    "import matplotlib.pyplot as mtp"
   ]
  },
  {
   "cell_type": "code",
   "execution_count": 42,
   "id": "7684ad79",
   "metadata": {},
   "outputs": [],
   "source": [
    "x=df4[['category','rating','Mean']]\n",
    "y=df4[['label']]"
   ]
  },
  {
   "cell_type": "code",
   "execution_count": 43,
   "id": "103324c7",
   "metadata": {},
   "outputs": [],
   "source": [
    "from sklearn.model_selection import train_test_split  \n",
    "x_train, x_test, y_train, y_test = train_test_split(x, y, test_size = 0.2, random_state = 0)  "
   ]
  },
  {
   "cell_type": "code",
   "execution_count": 44,
   "id": "ea04a05a",
   "metadata": {},
   "outputs": [
    {
     "name": "stderr",
     "output_type": "stream",
     "text": [
      "C:\\Users\\user\\anaconda3\\lib\\site-packages\\sklearn\\utils\\validation.py:1111: DataConversionWarning: A column-vector y was passed when a 1d array was expected. Please change the shape of y to (n_samples, ), for example using ravel().\n",
      "  y = column_or_1d(y, warn=True)\n"
     ]
    },
    {
     "data": {
      "text/html": [
       "<style>#sk-container-id-1 {color: black;background-color: white;}#sk-container-id-1 pre{padding: 0;}#sk-container-id-1 div.sk-toggleable {background-color: white;}#sk-container-id-1 label.sk-toggleable__label {cursor: pointer;display: block;width: 100%;margin-bottom: 0;padding: 0.3em;box-sizing: border-box;text-align: center;}#sk-container-id-1 label.sk-toggleable__label-arrow:before {content: \"▸\";float: left;margin-right: 0.25em;color: #696969;}#sk-container-id-1 label.sk-toggleable__label-arrow:hover:before {color: black;}#sk-container-id-1 div.sk-estimator:hover label.sk-toggleable__label-arrow:before {color: black;}#sk-container-id-1 div.sk-toggleable__content {max-height: 0;max-width: 0;overflow: hidden;text-align: left;background-color: #f0f8ff;}#sk-container-id-1 div.sk-toggleable__content pre {margin: 0.2em;color: black;border-radius: 0.25em;background-color: #f0f8ff;}#sk-container-id-1 input.sk-toggleable__control:checked~div.sk-toggleable__content {max-height: 200px;max-width: 100%;overflow: auto;}#sk-container-id-1 input.sk-toggleable__control:checked~label.sk-toggleable__label-arrow:before {content: \"▾\";}#sk-container-id-1 div.sk-estimator input.sk-toggleable__control:checked~label.sk-toggleable__label {background-color: #d4ebff;}#sk-container-id-1 div.sk-label input.sk-toggleable__control:checked~label.sk-toggleable__label {background-color: #d4ebff;}#sk-container-id-1 input.sk-hidden--visually {border: 0;clip: rect(1px 1px 1px 1px);clip: rect(1px, 1px, 1px, 1px);height: 1px;margin: -1px;overflow: hidden;padding: 0;position: absolute;width: 1px;}#sk-container-id-1 div.sk-estimator {font-family: monospace;background-color: #f0f8ff;border: 1px dotted black;border-radius: 0.25em;box-sizing: border-box;margin-bottom: 0.5em;}#sk-container-id-1 div.sk-estimator:hover {background-color: #d4ebff;}#sk-container-id-1 div.sk-parallel-item::after {content: \"\";width: 100%;border-bottom: 1px solid gray;flex-grow: 1;}#sk-container-id-1 div.sk-label:hover label.sk-toggleable__label {background-color: #d4ebff;}#sk-container-id-1 div.sk-serial::before {content: \"\";position: absolute;border-left: 1px solid gray;box-sizing: border-box;top: 0;bottom: 0;left: 50%;z-index: 0;}#sk-container-id-1 div.sk-serial {display: flex;flex-direction: column;align-items: center;background-color: white;padding-right: 0.2em;padding-left: 0.2em;position: relative;}#sk-container-id-1 div.sk-item {position: relative;z-index: 1;}#sk-container-id-1 div.sk-parallel {display: flex;align-items: stretch;justify-content: center;background-color: white;position: relative;}#sk-container-id-1 div.sk-item::before, #sk-container-id-1 div.sk-parallel-item::before {content: \"\";position: absolute;border-left: 1px solid gray;box-sizing: border-box;top: 0;bottom: 0;left: 50%;z-index: -1;}#sk-container-id-1 div.sk-parallel-item {display: flex;flex-direction: column;z-index: 1;position: relative;background-color: white;}#sk-container-id-1 div.sk-parallel-item:first-child::after {align-self: flex-end;width: 50%;}#sk-container-id-1 div.sk-parallel-item:last-child::after {align-self: flex-start;width: 50%;}#sk-container-id-1 div.sk-parallel-item:only-child::after {width: 0;}#sk-container-id-1 div.sk-dashed-wrapped {border: 1px dashed gray;margin: 0 0.4em 0.5em 0.4em;box-sizing: border-box;padding-bottom: 0.4em;background-color: white;}#sk-container-id-1 div.sk-label label {font-family: monospace;font-weight: bold;display: inline-block;line-height: 1.2em;}#sk-container-id-1 div.sk-label-container {text-align: center;}#sk-container-id-1 div.sk-container {/* jupyter's `normalize.less` sets `[hidden] { display: none; }` but bootstrap.min.css set `[hidden] { display: none !important; }` so we also need the `!important` here to be able to override the default hidden behavior on the sphinx rendered scikit-learn.org. See: https://github.com/scikit-learn/scikit-learn/issues/21755 */display: inline-block !important;position: relative;}#sk-container-id-1 div.sk-text-repr-fallback {display: none;}</style><div id=\"sk-container-id-1\" class=\"sk-top-container\"><div class=\"sk-text-repr-fallback\"><pre>GaussianNB()</pre><b>In a Jupyter environment, please rerun this cell to show the HTML representation or trust the notebook. <br />On GitHub, the HTML representation is unable to render, please try loading this page with nbviewer.org.</b></div><div class=\"sk-container\" hidden><div class=\"sk-item\"><div class=\"sk-estimator sk-toggleable\"><input class=\"sk-toggleable__control sk-hidden--visually\" id=\"sk-estimator-id-1\" type=\"checkbox\" checked><label for=\"sk-estimator-id-1\" class=\"sk-toggleable__label sk-toggleable__label-arrow\">GaussianNB</label><div class=\"sk-toggleable__content\"><pre>GaussianNB()</pre></div></div></div></div></div>"
      ],
      "text/plain": [
       "GaussianNB()"
      ]
     },
     "execution_count": 44,
     "metadata": {},
     "output_type": "execute_result"
    }
   ],
   "source": [
    "from sklearn.naive_bayes import GaussianNB  \n",
    "classifier = GaussianNB()  \n",
    "classifier.fit(x_train, y_train)  "
   ]
  },
  {
   "cell_type": "code",
   "execution_count": 45,
   "id": "fa0cc4a7",
   "metadata": {},
   "outputs": [
    {
     "data": {
      "text/plain": [
       "0.5707926301471498"
      ]
     },
     "execution_count": 45,
     "metadata": {},
     "output_type": "execute_result"
    }
   ],
   "source": [
    "classifier.score(x_test,y_test)"
   ]
  },
  {
   "cell_type": "code",
   "execution_count": 46,
   "id": "98cb721c",
   "metadata": {},
   "outputs": [],
   "source": [
    "y_predict = classifier.predict(x_test)"
   ]
  },
  {
   "cell_type": "code",
   "execution_count": 47,
   "id": "fb913237",
   "metadata": {},
   "outputs": [
    {
     "name": "stdout",
     "output_type": "stream",
     "text": [
      "              precision    recall  f1-score   support\n",
      "\n",
      "           0       0.55      0.83      0.66      4047\n",
      "           1       0.64      0.31      0.42      4040\n",
      "\n",
      "    accuracy                           0.57      8087\n",
      "   macro avg       0.60      0.57      0.54      8087\n",
      "weighted avg       0.60      0.57      0.54      8087\n",
      "\n"
     ]
    }
   ],
   "source": [
    "from sklearn.metrics import classification_report \n",
    "cr = classification_report(y_test,y_predict)\n",
    "print(cr)"
   ]
  },
  {
   "cell_type": "code",
   "execution_count": 48,
   "id": "aab3b1dd",
   "metadata": {},
   "outputs": [
    {
     "name": "stdout",
     "output_type": "stream",
     "text": [
      "0.5707926301471498\n"
     ]
    }
   ],
   "source": [
    "from sklearn.metrics import accuracy_score\n",
    "acc = accuracy_score(y_test,y_predict)\n",
    "print(acc)"
   ]
  },
  {
   "cell_type": "code",
   "execution_count": 49,
   "id": "e45ae20f",
   "metadata": {},
   "outputs": [],
   "source": [
    "from sklearn.metrics import accuracy_score"
   ]
  },
  {
   "cell_type": "markdown",
   "id": "62610306",
   "metadata": {},
   "source": [
    "## XGBoost"
   ]
  },
  {
   "cell_type": "code",
   "execution_count": 50,
   "id": "8a4e6285",
   "metadata": {},
   "outputs": [
    {
     "name": "stdout",
     "output_type": "stream",
     "text": [
      "Requirement already satisfied: xgboost in c:\\users\\user\\anaconda3\\lib\\site-packages (1.7.4)Note: you may need to restart the kernel to use updated packages.\n",
      "Requirement already satisfied: scipy in c:\\users\\user\\anaconda3\\lib\\site-packages (from xgboost) (1.7.1)\n",
      "Requirement already satisfied: numpy in c:\\users\\user\\anaconda3\\lib\\site-packages (from xgboost) (1.22.4)\n",
      "\n"
     ]
    }
   ],
   "source": [
    "pip install xgboost"
   ]
  },
  {
   "cell_type": "code",
   "execution_count": 51,
   "id": "502d241b",
   "metadata": {},
   "outputs": [
    {
     "name": "stdout",
     "output_type": "stream",
     "text": [
      "Requirement already satisfied: xgboost in c:\\users\\user\\anaconda3\\lib\\site-packages (1.7.4)\n",
      "Requirement already satisfied: numpy in c:\\users\\user\\anaconda3\\lib\\site-packages (from xgboost) (1.22.4)\n",
      "Requirement already satisfied: scipy in c:\\users\\user\\anaconda3\\lib\\site-packages (from xgboost) (1.7.1)\n",
      "Note: you may need to restart the kernel to use updated packages.\n"
     ]
    }
   ],
   "source": [
    "pip install --upgrade xgboost"
   ]
  },
  {
   "cell_type": "code",
   "execution_count": 52,
   "id": "4426578d",
   "metadata": {},
   "outputs": [],
   "source": [
    "from numpy import loadtxt\n",
    "from xgboost import XGBClassifier"
   ]
  },
  {
   "cell_type": "code",
   "execution_count": 53,
   "id": "2e81564b",
   "metadata": {},
   "outputs": [
    {
     "data": {
      "text/html": [
       "<style>#sk-container-id-2 {color: black;background-color: white;}#sk-container-id-2 pre{padding: 0;}#sk-container-id-2 div.sk-toggleable {background-color: white;}#sk-container-id-2 label.sk-toggleable__label {cursor: pointer;display: block;width: 100%;margin-bottom: 0;padding: 0.3em;box-sizing: border-box;text-align: center;}#sk-container-id-2 label.sk-toggleable__label-arrow:before {content: \"▸\";float: left;margin-right: 0.25em;color: #696969;}#sk-container-id-2 label.sk-toggleable__label-arrow:hover:before {color: black;}#sk-container-id-2 div.sk-estimator:hover label.sk-toggleable__label-arrow:before {color: black;}#sk-container-id-2 div.sk-toggleable__content {max-height: 0;max-width: 0;overflow: hidden;text-align: left;background-color: #f0f8ff;}#sk-container-id-2 div.sk-toggleable__content pre {margin: 0.2em;color: black;border-radius: 0.25em;background-color: #f0f8ff;}#sk-container-id-2 input.sk-toggleable__control:checked~div.sk-toggleable__content {max-height: 200px;max-width: 100%;overflow: auto;}#sk-container-id-2 input.sk-toggleable__control:checked~label.sk-toggleable__label-arrow:before {content: \"▾\";}#sk-container-id-2 div.sk-estimator input.sk-toggleable__control:checked~label.sk-toggleable__label {background-color: #d4ebff;}#sk-container-id-2 div.sk-label input.sk-toggleable__control:checked~label.sk-toggleable__label {background-color: #d4ebff;}#sk-container-id-2 input.sk-hidden--visually {border: 0;clip: rect(1px 1px 1px 1px);clip: rect(1px, 1px, 1px, 1px);height: 1px;margin: -1px;overflow: hidden;padding: 0;position: absolute;width: 1px;}#sk-container-id-2 div.sk-estimator {font-family: monospace;background-color: #f0f8ff;border: 1px dotted black;border-radius: 0.25em;box-sizing: border-box;margin-bottom: 0.5em;}#sk-container-id-2 div.sk-estimator:hover {background-color: #d4ebff;}#sk-container-id-2 div.sk-parallel-item::after {content: \"\";width: 100%;border-bottom: 1px solid gray;flex-grow: 1;}#sk-container-id-2 div.sk-label:hover label.sk-toggleable__label {background-color: #d4ebff;}#sk-container-id-2 div.sk-serial::before {content: \"\";position: absolute;border-left: 1px solid gray;box-sizing: border-box;top: 0;bottom: 0;left: 50%;z-index: 0;}#sk-container-id-2 div.sk-serial {display: flex;flex-direction: column;align-items: center;background-color: white;padding-right: 0.2em;padding-left: 0.2em;position: relative;}#sk-container-id-2 div.sk-item {position: relative;z-index: 1;}#sk-container-id-2 div.sk-parallel {display: flex;align-items: stretch;justify-content: center;background-color: white;position: relative;}#sk-container-id-2 div.sk-item::before, #sk-container-id-2 div.sk-parallel-item::before {content: \"\";position: absolute;border-left: 1px solid gray;box-sizing: border-box;top: 0;bottom: 0;left: 50%;z-index: -1;}#sk-container-id-2 div.sk-parallel-item {display: flex;flex-direction: column;z-index: 1;position: relative;background-color: white;}#sk-container-id-2 div.sk-parallel-item:first-child::after {align-self: flex-end;width: 50%;}#sk-container-id-2 div.sk-parallel-item:last-child::after {align-self: flex-start;width: 50%;}#sk-container-id-2 div.sk-parallel-item:only-child::after {width: 0;}#sk-container-id-2 div.sk-dashed-wrapped {border: 1px dashed gray;margin: 0 0.4em 0.5em 0.4em;box-sizing: border-box;padding-bottom: 0.4em;background-color: white;}#sk-container-id-2 div.sk-label label {font-family: monospace;font-weight: bold;display: inline-block;line-height: 1.2em;}#sk-container-id-2 div.sk-label-container {text-align: center;}#sk-container-id-2 div.sk-container {/* jupyter's `normalize.less` sets `[hidden] { display: none; }` but bootstrap.min.css set `[hidden] { display: none !important; }` so we also need the `!important` here to be able to override the default hidden behavior on the sphinx rendered scikit-learn.org. See: https://github.com/scikit-learn/scikit-learn/issues/21755 */display: inline-block !important;position: relative;}#sk-container-id-2 div.sk-text-repr-fallback {display: none;}</style><div id=\"sk-container-id-2\" class=\"sk-top-container\"><div class=\"sk-text-repr-fallback\"><pre>XGBClassifier(base_score=None, booster=None, callbacks=None,\n",
       "              colsample_bylevel=None, colsample_bynode=None,\n",
       "              colsample_bytree=None, early_stopping_rounds=None,\n",
       "              enable_categorical=False, eval_metric=None, feature_types=None,\n",
       "              gamma=None, gpu_id=None, grow_policy=None, importance_type=None,\n",
       "              interaction_constraints=None, learning_rate=None, max_bin=None,\n",
       "              max_cat_threshold=None, max_cat_to_onehot=None,\n",
       "              max_delta_step=None, max_depth=None, max_leaves=None,\n",
       "              min_child_weight=None, missing=nan, monotone_constraints=None,\n",
       "              n_estimators=100, n_jobs=None, num_parallel_tree=None,\n",
       "              predictor=None, random_state=None, ...)</pre><b>In a Jupyter environment, please rerun this cell to show the HTML representation or trust the notebook. <br />On GitHub, the HTML representation is unable to render, please try loading this page with nbviewer.org.</b></div><div class=\"sk-container\" hidden><div class=\"sk-item\"><div class=\"sk-estimator sk-toggleable\"><input class=\"sk-toggleable__control sk-hidden--visually\" id=\"sk-estimator-id-2\" type=\"checkbox\" checked><label for=\"sk-estimator-id-2\" class=\"sk-toggleable__label sk-toggleable__label-arrow\">XGBClassifier</label><div class=\"sk-toggleable__content\"><pre>XGBClassifier(base_score=None, booster=None, callbacks=None,\n",
       "              colsample_bylevel=None, colsample_bynode=None,\n",
       "              colsample_bytree=None, early_stopping_rounds=None,\n",
       "              enable_categorical=False, eval_metric=None, feature_types=None,\n",
       "              gamma=None, gpu_id=None, grow_policy=None, importance_type=None,\n",
       "              interaction_constraints=None, learning_rate=None, max_bin=None,\n",
       "              max_cat_threshold=None, max_cat_to_onehot=None,\n",
       "              max_delta_step=None, max_depth=None, max_leaves=None,\n",
       "              min_child_weight=None, missing=nan, monotone_constraints=None,\n",
       "              n_estimators=100, n_jobs=None, num_parallel_tree=None,\n",
       "              predictor=None, random_state=None, ...)</pre></div></div></div></div></div>"
      ],
      "text/plain": [
       "XGBClassifier(base_score=None, booster=None, callbacks=None,\n",
       "              colsample_bylevel=None, colsample_bynode=None,\n",
       "              colsample_bytree=None, early_stopping_rounds=None,\n",
       "              enable_categorical=False, eval_metric=None, feature_types=None,\n",
       "              gamma=None, gpu_id=None, grow_policy=None, importance_type=None,\n",
       "              interaction_constraints=None, learning_rate=None, max_bin=None,\n",
       "              max_cat_threshold=None, max_cat_to_onehot=None,\n",
       "              max_delta_step=None, max_depth=None, max_leaves=None,\n",
       "              min_child_weight=None, missing=nan, monotone_constraints=None,\n",
       "              n_estimators=100, n_jobs=None, num_parallel_tree=None,\n",
       "              predictor=None, random_state=None, ...)"
      ]
     },
     "execution_count": 53,
     "metadata": {},
     "output_type": "execute_result"
    }
   ],
   "source": [
    "# fit model no training data\n",
    "model = XGBClassifier()\n",
    "model.fit(x_train, y_train)"
   ]
  },
  {
   "cell_type": "code",
   "execution_count": 54,
   "id": "891619d6",
   "metadata": {},
   "outputs": [],
   "source": [
    "# make predictions for test data\n",
    "y_pred = model.predict(x_test)"
   ]
  },
  {
   "cell_type": "code",
   "execution_count": 55,
   "id": "9d23181f",
   "metadata": {},
   "outputs": [
    {
     "name": "stdout",
     "output_type": "stream",
     "text": [
      "Accuracy: 58.29%\n"
     ]
    }
   ],
   "source": [
    "accuracy = accuracy_score(y_test, y_pred)\n",
    "print(\"Accuracy: %.2f%%\" % (accuracy * 100.0))"
   ]
  },
  {
   "cell_type": "code",
   "execution_count": 56,
   "id": "fc0b7bca",
   "metadata": {},
   "outputs": [
    {
     "name": "stdout",
     "output_type": "stream",
     "text": [
      "              precision    recall  f1-score   support\n",
      "\n",
      "           0       0.58      0.60      0.59      4047\n",
      "           1       0.59      0.57      0.58      4040\n",
      "\n",
      "    accuracy                           0.58      8087\n",
      "   macro avg       0.58      0.58      0.58      8087\n",
      "weighted avg       0.58      0.58      0.58      8087\n",
      "\n"
     ]
    }
   ],
   "source": [
    "from sklearn.metrics import classification_report \n",
    "cr_2 = classification_report(y_test,y_pred)\n",
    "print(cr_2)"
   ]
  },
  {
   "cell_type": "markdown",
   "id": "8ad3a9ab",
   "metadata": {},
   "source": [
    "## Logistic Regression"
   ]
  },
  {
   "cell_type": "code",
   "execution_count": 57,
   "id": "01ce0b18",
   "metadata": {},
   "outputs": [
    {
     "name": "stderr",
     "output_type": "stream",
     "text": [
      "C:\\Users\\user\\anaconda3\\lib\\site-packages\\sklearn\\utils\\validation.py:1111: DataConversionWarning: A column-vector y was passed when a 1d array was expected. Please change the shape of y to (n_samples, ), for example using ravel().\n",
      "  y = column_or_1d(y, warn=True)\n"
     ]
    },
    {
     "data": {
      "text/html": [
       "<style>#sk-container-id-3 {color: black;background-color: white;}#sk-container-id-3 pre{padding: 0;}#sk-container-id-3 div.sk-toggleable {background-color: white;}#sk-container-id-3 label.sk-toggleable__label {cursor: pointer;display: block;width: 100%;margin-bottom: 0;padding: 0.3em;box-sizing: border-box;text-align: center;}#sk-container-id-3 label.sk-toggleable__label-arrow:before {content: \"▸\";float: left;margin-right: 0.25em;color: #696969;}#sk-container-id-3 label.sk-toggleable__label-arrow:hover:before {color: black;}#sk-container-id-3 div.sk-estimator:hover label.sk-toggleable__label-arrow:before {color: black;}#sk-container-id-3 div.sk-toggleable__content {max-height: 0;max-width: 0;overflow: hidden;text-align: left;background-color: #f0f8ff;}#sk-container-id-3 div.sk-toggleable__content pre {margin: 0.2em;color: black;border-radius: 0.25em;background-color: #f0f8ff;}#sk-container-id-3 input.sk-toggleable__control:checked~div.sk-toggleable__content {max-height: 200px;max-width: 100%;overflow: auto;}#sk-container-id-3 input.sk-toggleable__control:checked~label.sk-toggleable__label-arrow:before {content: \"▾\";}#sk-container-id-3 div.sk-estimator input.sk-toggleable__control:checked~label.sk-toggleable__label {background-color: #d4ebff;}#sk-container-id-3 div.sk-label input.sk-toggleable__control:checked~label.sk-toggleable__label {background-color: #d4ebff;}#sk-container-id-3 input.sk-hidden--visually {border: 0;clip: rect(1px 1px 1px 1px);clip: rect(1px, 1px, 1px, 1px);height: 1px;margin: -1px;overflow: hidden;padding: 0;position: absolute;width: 1px;}#sk-container-id-3 div.sk-estimator {font-family: monospace;background-color: #f0f8ff;border: 1px dotted black;border-radius: 0.25em;box-sizing: border-box;margin-bottom: 0.5em;}#sk-container-id-3 div.sk-estimator:hover {background-color: #d4ebff;}#sk-container-id-3 div.sk-parallel-item::after {content: \"\";width: 100%;border-bottom: 1px solid gray;flex-grow: 1;}#sk-container-id-3 div.sk-label:hover label.sk-toggleable__label {background-color: #d4ebff;}#sk-container-id-3 div.sk-serial::before {content: \"\";position: absolute;border-left: 1px solid gray;box-sizing: border-box;top: 0;bottom: 0;left: 50%;z-index: 0;}#sk-container-id-3 div.sk-serial {display: flex;flex-direction: column;align-items: center;background-color: white;padding-right: 0.2em;padding-left: 0.2em;position: relative;}#sk-container-id-3 div.sk-item {position: relative;z-index: 1;}#sk-container-id-3 div.sk-parallel {display: flex;align-items: stretch;justify-content: center;background-color: white;position: relative;}#sk-container-id-3 div.sk-item::before, #sk-container-id-3 div.sk-parallel-item::before {content: \"\";position: absolute;border-left: 1px solid gray;box-sizing: border-box;top: 0;bottom: 0;left: 50%;z-index: -1;}#sk-container-id-3 div.sk-parallel-item {display: flex;flex-direction: column;z-index: 1;position: relative;background-color: white;}#sk-container-id-3 div.sk-parallel-item:first-child::after {align-self: flex-end;width: 50%;}#sk-container-id-3 div.sk-parallel-item:last-child::after {align-self: flex-start;width: 50%;}#sk-container-id-3 div.sk-parallel-item:only-child::after {width: 0;}#sk-container-id-3 div.sk-dashed-wrapped {border: 1px dashed gray;margin: 0 0.4em 0.5em 0.4em;box-sizing: border-box;padding-bottom: 0.4em;background-color: white;}#sk-container-id-3 div.sk-label label {font-family: monospace;font-weight: bold;display: inline-block;line-height: 1.2em;}#sk-container-id-3 div.sk-label-container {text-align: center;}#sk-container-id-3 div.sk-container {/* jupyter's `normalize.less` sets `[hidden] { display: none; }` but bootstrap.min.css set `[hidden] { display: none !important; }` so we also need the `!important` here to be able to override the default hidden behavior on the sphinx rendered scikit-learn.org. See: https://github.com/scikit-learn/scikit-learn/issues/21755 */display: inline-block !important;position: relative;}#sk-container-id-3 div.sk-text-repr-fallback {display: none;}</style><div id=\"sk-container-id-3\" class=\"sk-top-container\"><div class=\"sk-text-repr-fallback\"><pre>LogisticRegression()</pre><b>In a Jupyter environment, please rerun this cell to show the HTML representation or trust the notebook. <br />On GitHub, the HTML representation is unable to render, please try loading this page with nbviewer.org.</b></div><div class=\"sk-container\" hidden><div class=\"sk-item\"><div class=\"sk-estimator sk-toggleable\"><input class=\"sk-toggleable__control sk-hidden--visually\" id=\"sk-estimator-id-3\" type=\"checkbox\" checked><label for=\"sk-estimator-id-3\" class=\"sk-toggleable__label sk-toggleable__label-arrow\">LogisticRegression</label><div class=\"sk-toggleable__content\"><pre>LogisticRegression()</pre></div></div></div></div></div>"
      ],
      "text/plain": [
       "LogisticRegression()"
      ]
     },
     "execution_count": 57,
     "metadata": {},
     "output_type": "execute_result"
    }
   ],
   "source": [
    "from sklearn.linear_model import LogisticRegression\n",
    "lr=LogisticRegression()\n",
    "lr.fit(x_train,y_train)"
   ]
  },
  {
   "cell_type": "code",
   "execution_count": 58,
   "id": "69433b0b",
   "metadata": {},
   "outputs": [],
   "source": [
    "y_pred_lr = lr.predict(x_test)"
   ]
  },
  {
   "cell_type": "code",
   "execution_count": 59,
   "id": "d581dc48",
   "metadata": {},
   "outputs": [
    {
     "name": "stdout",
     "output_type": "stream",
     "text": [
      "Accuracy: 49.18%\n"
     ]
    }
   ],
   "source": [
    "accuracy_lr = accuracy_score(y_test, y_pred_lr)\n",
    "print(\"Accuracy: %.2f%%\" % (accuracy_lr * 100.0))"
   ]
  },
  {
   "cell_type": "markdown",
   "id": "2786e673",
   "metadata": {},
   "source": [
    "## Random Forest "
   ]
  },
  {
   "cell_type": "code",
   "execution_count": 60,
   "id": "df5aacd7",
   "metadata": {},
   "outputs": [
    {
     "name": "stderr",
     "output_type": "stream",
     "text": [
      "C:\\Users\\user\\AppData\\Local\\Temp/ipykernel_1236/2390152549.py:3: DataConversionWarning: A column-vector y was passed when a 1d array was expected. Please change the shape of y to (n_samples,), for example using ravel().\n",
      "  regressor.fit(x_train, y_train)\n"
     ]
    },
    {
     "data": {
      "text/html": [
       "<style>#sk-container-id-4 {color: black;background-color: white;}#sk-container-id-4 pre{padding: 0;}#sk-container-id-4 div.sk-toggleable {background-color: white;}#sk-container-id-4 label.sk-toggleable__label {cursor: pointer;display: block;width: 100%;margin-bottom: 0;padding: 0.3em;box-sizing: border-box;text-align: center;}#sk-container-id-4 label.sk-toggleable__label-arrow:before {content: \"▸\";float: left;margin-right: 0.25em;color: #696969;}#sk-container-id-4 label.sk-toggleable__label-arrow:hover:before {color: black;}#sk-container-id-4 div.sk-estimator:hover label.sk-toggleable__label-arrow:before {color: black;}#sk-container-id-4 div.sk-toggleable__content {max-height: 0;max-width: 0;overflow: hidden;text-align: left;background-color: #f0f8ff;}#sk-container-id-4 div.sk-toggleable__content pre {margin: 0.2em;color: black;border-radius: 0.25em;background-color: #f0f8ff;}#sk-container-id-4 input.sk-toggleable__control:checked~div.sk-toggleable__content {max-height: 200px;max-width: 100%;overflow: auto;}#sk-container-id-4 input.sk-toggleable__control:checked~label.sk-toggleable__label-arrow:before {content: \"▾\";}#sk-container-id-4 div.sk-estimator input.sk-toggleable__control:checked~label.sk-toggleable__label {background-color: #d4ebff;}#sk-container-id-4 div.sk-label input.sk-toggleable__control:checked~label.sk-toggleable__label {background-color: #d4ebff;}#sk-container-id-4 input.sk-hidden--visually {border: 0;clip: rect(1px 1px 1px 1px);clip: rect(1px, 1px, 1px, 1px);height: 1px;margin: -1px;overflow: hidden;padding: 0;position: absolute;width: 1px;}#sk-container-id-4 div.sk-estimator {font-family: monospace;background-color: #f0f8ff;border: 1px dotted black;border-radius: 0.25em;box-sizing: border-box;margin-bottom: 0.5em;}#sk-container-id-4 div.sk-estimator:hover {background-color: #d4ebff;}#sk-container-id-4 div.sk-parallel-item::after {content: \"\";width: 100%;border-bottom: 1px solid gray;flex-grow: 1;}#sk-container-id-4 div.sk-label:hover label.sk-toggleable__label {background-color: #d4ebff;}#sk-container-id-4 div.sk-serial::before {content: \"\";position: absolute;border-left: 1px solid gray;box-sizing: border-box;top: 0;bottom: 0;left: 50%;z-index: 0;}#sk-container-id-4 div.sk-serial {display: flex;flex-direction: column;align-items: center;background-color: white;padding-right: 0.2em;padding-left: 0.2em;position: relative;}#sk-container-id-4 div.sk-item {position: relative;z-index: 1;}#sk-container-id-4 div.sk-parallel {display: flex;align-items: stretch;justify-content: center;background-color: white;position: relative;}#sk-container-id-4 div.sk-item::before, #sk-container-id-4 div.sk-parallel-item::before {content: \"\";position: absolute;border-left: 1px solid gray;box-sizing: border-box;top: 0;bottom: 0;left: 50%;z-index: -1;}#sk-container-id-4 div.sk-parallel-item {display: flex;flex-direction: column;z-index: 1;position: relative;background-color: white;}#sk-container-id-4 div.sk-parallel-item:first-child::after {align-self: flex-end;width: 50%;}#sk-container-id-4 div.sk-parallel-item:last-child::after {align-self: flex-start;width: 50%;}#sk-container-id-4 div.sk-parallel-item:only-child::after {width: 0;}#sk-container-id-4 div.sk-dashed-wrapped {border: 1px dashed gray;margin: 0 0.4em 0.5em 0.4em;box-sizing: border-box;padding-bottom: 0.4em;background-color: white;}#sk-container-id-4 div.sk-label label {font-family: monospace;font-weight: bold;display: inline-block;line-height: 1.2em;}#sk-container-id-4 div.sk-label-container {text-align: center;}#sk-container-id-4 div.sk-container {/* jupyter's `normalize.less` sets `[hidden] { display: none; }` but bootstrap.min.css set `[hidden] { display: none !important; }` so we also need the `!important` here to be able to override the default hidden behavior on the sphinx rendered scikit-learn.org. See: https://github.com/scikit-learn/scikit-learn/issues/21755 */display: inline-block !important;position: relative;}#sk-container-id-4 div.sk-text-repr-fallback {display: none;}</style><div id=\"sk-container-id-4\" class=\"sk-top-container\"><div class=\"sk-text-repr-fallback\"><pre>RandomForestClassifier()</pre><b>In a Jupyter environment, please rerun this cell to show the HTML representation or trust the notebook. <br />On GitHub, the HTML representation is unable to render, please try loading this page with nbviewer.org.</b></div><div class=\"sk-container\" hidden><div class=\"sk-item\"><div class=\"sk-estimator sk-toggleable\"><input class=\"sk-toggleable__control sk-hidden--visually\" id=\"sk-estimator-id-4\" type=\"checkbox\" checked><label for=\"sk-estimator-id-4\" class=\"sk-toggleable__label sk-toggleable__label-arrow\">RandomForestClassifier</label><div class=\"sk-toggleable__content\"><pre>RandomForestClassifier()</pre></div></div></div></div></div>"
      ],
      "text/plain": [
       "RandomForestClassifier()"
      ]
     },
     "execution_count": 60,
     "metadata": {},
     "output_type": "execute_result"
    }
   ],
   "source": [
    "from sklearn.ensemble import RandomForestClassifier\n",
    "regressor = RandomForestClassifier(n_estimators = 100)\n",
    "regressor.fit(x_train, y_train) "
   ]
  },
  {
   "cell_type": "code",
   "execution_count": 61,
   "id": "eeee275c",
   "metadata": {},
   "outputs": [],
   "source": [
    "rf_pred=regressor.predict(x_test)\n",
    "rf_accuracy= accuracy_score(y_test, rf_pred)"
   ]
  },
  {
   "cell_type": "code",
   "execution_count": 62,
   "id": "9b3896f7",
   "metadata": {},
   "outputs": [
    {
     "name": "stdout",
     "output_type": "stream",
     "text": [
      "Accuracy: 56.03%\n"
     ]
    }
   ],
   "source": [
    "print(\"Accuracy: %.2f%%\" % (rf_accuracy * 100.0))"
   ]
  },
  {
   "cell_type": "markdown",
   "id": "7a6775aa",
   "metadata": {},
   "source": [
    "## CNN"
   ]
  },
  {
   "cell_type": "code",
   "execution_count": 63,
   "id": "59e3593d",
   "metadata": {},
   "outputs": [],
   "source": [
    "#importing the required libraries\n",
    "from tensorflow.keras.datasets import mnist\n",
    "from tensorflow.keras.models import Sequential\n",
    "from tensorflow.keras.layers import Conv2D\n",
    "from tensorflow.keras.layers import MaxPool2D\n",
    "from tensorflow.keras.layers import Flatten\n",
    "from tensorflow.keras.layers import Dropout\n",
    "from tensorflow.keras.layers import Dense"
   ]
  },
  {
   "cell_type": "code",
   "execution_count": 64,
   "id": "4e6d5671",
   "metadata": {},
   "outputs": [],
   "source": [
    "model=Sequential()\n",
    "model.add(Dense(1000,input_dim=3,activation='relu'))\n",
    "model.add(Dense(500,activation='relu'))\n",
    "model.add(Dense(300,activation='relu'))\n",
    "model.add(Dropout(0.2))\n",
    "model.add(Dense(1,activation='softmax'))\n",
    "model.compile(loss='categorical_crossentropy',optimizer='adam',metrics=['accuracy'])"
   ]
  },
  {
   "cell_type": "code",
   "execution_count": 65,
   "id": "ab5f3e0a",
   "metadata": {},
   "outputs": [
    {
     "name": "stdout",
     "output_type": "stream",
     "text": [
      "Epoch 1/10\n",
      "1618/1618 [==============================] - 38s 22ms/step - loss: 0.0000e+00 - accuracy: 0.5001 - val_loss: 0.0000e+00 - val_accuracy: 0.4996\n",
      "Epoch 2/10\n",
      "1618/1618 [==============================] - 22s 14ms/step - loss: 0.0000e+00 - accuracy: 0.5001 - val_loss: 0.0000e+00 - val_accuracy: 0.4996\n",
      "Epoch 3/10\n",
      "1618/1618 [==============================] - 21s 13ms/step - loss: 0.0000e+00 - accuracy: 0.5001 - val_loss: 0.0000e+00 - val_accuracy: 0.4996\n",
      "Epoch 4/10\n",
      "1618/1618 [==============================] - 20s 12ms/step - loss: 0.0000e+00 - accuracy: 0.5001 - val_loss: 0.0000e+00 - val_accuracy: 0.4996\n",
      "Epoch 5/10\n",
      "1618/1618 [==============================] - 21s 13ms/step - loss: 0.0000e+00 - accuracy: 0.5001 - val_loss: 0.0000e+00 - val_accuracy: 0.4996\n",
      "Epoch 6/10\n",
      "1618/1618 [==============================] - 21s 13ms/step - loss: 0.0000e+00 - accuracy: 0.5001 - val_loss: 0.0000e+00 - val_accuracy: 0.4996\n",
      "Epoch 7/10\n",
      "1618/1618 [==============================] - 25s 16ms/step - loss: 0.0000e+00 - accuracy: 0.5001 - val_loss: 0.0000e+00 - val_accuracy: 0.4996\n",
      "Epoch 8/10\n",
      "1618/1618 [==============================] - 20s 13ms/step - loss: 0.0000e+00 - accuracy: 0.5001 - val_loss: 0.0000e+00 - val_accuracy: 0.4996\n",
      "Epoch 9/10\n",
      "1618/1618 [==============================] - 21s 13ms/step - loss: 0.0000e+00 - accuracy: 0.5001 - val_loss: 0.0000e+00 - val_accuracy: 0.4996\n",
      "Epoch 10/10\n",
      "1618/1618 [==============================] - 22s 13ms/step - loss: 0.0000e+00 - accuracy: 0.5001 - val_loss: 0.0000e+00 - val_accuracy: 0.4996\n"
     ]
    },
    {
     "data": {
      "text/plain": [
       "<keras.callbacks.History at 0x205a9a25700>"
      ]
     },
     "execution_count": 65,
     "metadata": {},
     "output_type": "execute_result"
    }
   ],
   "source": [
    "model.fit(x_train,y_train,validation_data=(x_test,y_test),batch_size=20,epochs=10,verbose=1)"
   ]
  },
  {
   "cell_type": "code",
   "execution_count": 66,
   "id": "e4ce6201",
   "metadata": {},
   "outputs": [
    {
     "name": "stdout",
     "output_type": "stream",
     "text": [
      "253/253 [==============================] - 1s 4ms/step\n"
     ]
    }
   ],
   "source": [
    "prediction=model.predict(x_test)"
   ]
  },
  {
   "cell_type": "code",
   "execution_count": 67,
   "id": "f2ddf43b",
   "metadata": {},
   "outputs": [
    {
     "name": "stdout",
     "output_type": "stream",
     "text": [
      "Accuracy: 49.96%\n"
     ]
    }
   ],
   "source": [
    "accuracy_lr = accuracy_score(y_test, prediction)\n",
    "print(\"Accuracy: %.2f%%\" % (accuracy_lr * 100.0))"
   ]
  },
  {
   "cell_type": "markdown",
   "id": "23339da9",
   "metadata": {},
   "source": [
    "### NB and ADWIN"
   ]
  },
  {
   "cell_type": "code",
   "execution_count": 68,
   "id": "f548aa7a",
   "metadata": {},
   "outputs": [],
   "source": [
    "import matplotlib.pyplot as plt\n",
    "from sklearn.naive_bayes import GaussianNB\n",
    "from sklearn.linear_model import SGDClassifier\n",
    "from sklearn import svm\n",
    "from sklearn.base import clone\n",
    "from menelaus.concept_drift import LinearFourRates, ADWINAccuracy, DDM, EDDM, STEPD, MD3"
   ]
  },
  {
   "cell_type": "code",
   "execution_count": 69,
   "id": "e51ace94",
   "metadata": {},
   "outputs": [],
   "source": [
    "training_size = 30324"
   ]
  },
  {
   "cell_type": "code",
   "execution_count": 70,
   "id": "b9a5d2cc",
   "metadata": {},
   "outputs": [],
   "source": [
    "X_train = df4.loc[0:training_size, ['category','rating','Mean']]\n",
    "y_train = df4.loc[0:training_size, \"label\"]\n",
    "X_test = df4.loc[training_size:len(df4), ['category','rating','Mean']]\n",
    "y_true = df4.loc[training_size:len(df4), \"label\"]"
   ]
  },
  {
   "cell_type": "code",
   "execution_count": 71,
   "id": "e4da7b9d",
   "metadata": {},
   "outputs": [
    {
     "data": {
      "text/html": [
       "<style>#sk-container-id-5 {color: black;background-color: white;}#sk-container-id-5 pre{padding: 0;}#sk-container-id-5 div.sk-toggleable {background-color: white;}#sk-container-id-5 label.sk-toggleable__label {cursor: pointer;display: block;width: 100%;margin-bottom: 0;padding: 0.3em;box-sizing: border-box;text-align: center;}#sk-container-id-5 label.sk-toggleable__label-arrow:before {content: \"▸\";float: left;margin-right: 0.25em;color: #696969;}#sk-container-id-5 label.sk-toggleable__label-arrow:hover:before {color: black;}#sk-container-id-5 div.sk-estimator:hover label.sk-toggleable__label-arrow:before {color: black;}#sk-container-id-5 div.sk-toggleable__content {max-height: 0;max-width: 0;overflow: hidden;text-align: left;background-color: #f0f8ff;}#sk-container-id-5 div.sk-toggleable__content pre {margin: 0.2em;color: black;border-radius: 0.25em;background-color: #f0f8ff;}#sk-container-id-5 input.sk-toggleable__control:checked~div.sk-toggleable__content {max-height: 200px;max-width: 100%;overflow: auto;}#sk-container-id-5 input.sk-toggleable__control:checked~label.sk-toggleable__label-arrow:before {content: \"▾\";}#sk-container-id-5 div.sk-estimator input.sk-toggleable__control:checked~label.sk-toggleable__label {background-color: #d4ebff;}#sk-container-id-5 div.sk-label input.sk-toggleable__control:checked~label.sk-toggleable__label {background-color: #d4ebff;}#sk-container-id-5 input.sk-hidden--visually {border: 0;clip: rect(1px 1px 1px 1px);clip: rect(1px, 1px, 1px, 1px);height: 1px;margin: -1px;overflow: hidden;padding: 0;position: absolute;width: 1px;}#sk-container-id-5 div.sk-estimator {font-family: monospace;background-color: #f0f8ff;border: 1px dotted black;border-radius: 0.25em;box-sizing: border-box;margin-bottom: 0.5em;}#sk-container-id-5 div.sk-estimator:hover {background-color: #d4ebff;}#sk-container-id-5 div.sk-parallel-item::after {content: \"\";width: 100%;border-bottom: 1px solid gray;flex-grow: 1;}#sk-container-id-5 div.sk-label:hover label.sk-toggleable__label {background-color: #d4ebff;}#sk-container-id-5 div.sk-serial::before {content: \"\";position: absolute;border-left: 1px solid gray;box-sizing: border-box;top: 0;bottom: 0;left: 50%;z-index: 0;}#sk-container-id-5 div.sk-serial {display: flex;flex-direction: column;align-items: center;background-color: white;padding-right: 0.2em;padding-left: 0.2em;position: relative;}#sk-container-id-5 div.sk-item {position: relative;z-index: 1;}#sk-container-id-5 div.sk-parallel {display: flex;align-items: stretch;justify-content: center;background-color: white;position: relative;}#sk-container-id-5 div.sk-item::before, #sk-container-id-5 div.sk-parallel-item::before {content: \"\";position: absolute;border-left: 1px solid gray;box-sizing: border-box;top: 0;bottom: 0;left: 50%;z-index: -1;}#sk-container-id-5 div.sk-parallel-item {display: flex;flex-direction: column;z-index: 1;position: relative;background-color: white;}#sk-container-id-5 div.sk-parallel-item:first-child::after {align-self: flex-end;width: 50%;}#sk-container-id-5 div.sk-parallel-item:last-child::after {align-self: flex-start;width: 50%;}#sk-container-id-5 div.sk-parallel-item:only-child::after {width: 0;}#sk-container-id-5 div.sk-dashed-wrapped {border: 1px dashed gray;margin: 0 0.4em 0.5em 0.4em;box-sizing: border-box;padding-bottom: 0.4em;background-color: white;}#sk-container-id-5 div.sk-label label {font-family: monospace;font-weight: bold;display: inline-block;line-height: 1.2em;}#sk-container-id-5 div.sk-label-container {text-align: center;}#sk-container-id-5 div.sk-container {/* jupyter's `normalize.less` sets `[hidden] { display: none; }` but bootstrap.min.css set `[hidden] { display: none !important; }` so we also need the `!important` here to be able to override the default hidden behavior on the sphinx rendered scikit-learn.org. See: https://github.com/scikit-learn/scikit-learn/issues/21755 */display: inline-block !important;position: relative;}#sk-container-id-5 div.sk-text-repr-fallback {display: none;}</style><div id=\"sk-container-id-5\" class=\"sk-top-container\"><div class=\"sk-text-repr-fallback\"><pre>GaussianNB()</pre><b>In a Jupyter environment, please rerun this cell to show the HTML representation or trust the notebook. <br />On GitHub, the HTML representation is unable to render, please try loading this page with nbviewer.org.</b></div><div class=\"sk-container\" hidden><div class=\"sk-item\"><div class=\"sk-estimator sk-toggleable\"><input class=\"sk-toggleable__control sk-hidden--visually\" id=\"sk-estimator-id-5\" type=\"checkbox\" checked><label for=\"sk-estimator-id-5\" class=\"sk-toggleable__label sk-toggleable__label-arrow\">GaussianNB</label><div class=\"sk-toggleable__content\"><pre>GaussianNB()</pre></div></div></div></div></div>"
      ],
      "text/plain": [
       "GaussianNB()"
      ]
     },
     "execution_count": 71,
     "metadata": {},
     "output_type": "execute_result"
    }
   ],
   "source": [
    "np.random.seed(123)\n",
    "clf = GaussianNB()\n",
    "clf.fit(X_train, y_train)"
   ]
  },
  {
   "cell_type": "code",
   "execution_count": 72,
   "id": "6e38a495",
   "metadata": {},
   "outputs": [
    {
     "name": "stdout",
     "output_type": "stream",
     "text": [
      "30324    1.000000\n",
      "30325    1.000000\n",
      "30326    1.000000\n",
      "30327    1.000000\n",
      "30328    1.000000\n",
      "           ...   \n",
      "40427    0.580463\n",
      "40428    0.580406\n",
      "40429    0.580447\n",
      "40430    0.580390\n",
      "40431    0.580431\n",
      "Name: label, Length: 10108, dtype: float64\n"
     ]
    }
   ],
   "source": [
    "acc_orig = np.cumsum(clf.predict(X_test) == y_true)\n",
    "acc_orig = acc_orig / np.arange(1, 1 + len(acc_orig))\n",
    "print(acc_orig)"
   ]
  },
  {
   "cell_type": "code",
   "execution_count": 73,
   "id": "eb8d3719",
   "metadata": {},
   "outputs": [
    {
     "name": "stdout",
     "output_type": "stream",
     "text": [
      "30324    1.000000\n",
      "30325    1.000000\n",
      "30326    1.000000\n",
      "30327    1.000000\n",
      "30328    1.000000\n",
      "           ...   \n",
      "40427    0.580463\n",
      "40428    0.580406\n",
      "40429    0.580447\n",
      "40430    0.580390\n",
      "40431    0.580431\n",
      "Name: label, Length: 10108, dtype: float64\n"
     ]
    }
   ],
   "source": [
    "acc_orig = np.cumsum(clf.predict(X_test) == y_true)\n",
    "acc_orig = acc_orig / np.arange(1, 1 + len(acc_orig))\n",
    "print(acc_orig)"
   ]
  },
  {
   "cell_type": "code",
   "execution_count": 74,
   "id": "75d752a2",
   "metadata": {},
   "outputs": [],
   "source": [
    "import matplotlib.pyplot as plt"
   ]
  },
  {
   "cell_type": "code",
   "execution_count": 75,
   "id": "941c42e1",
   "metadata": {},
   "outputs": [],
   "source": [
    "adwin = ADWINAccuracy()\n",
    "\n",
    "# Set up DF to record results.\n",
    "status = pd.DataFrame(\n",
    "    columns=[\"index\", \"y_true\", \"y_pred\", \"adwin mean\", \"drift_detected\"]\n",
    ")\n",
    "rec_list = []"
   ]
  },
  {
   "cell_type": "code",
   "execution_count": 76,
   "id": "c48340d0",
   "metadata": {},
   "outputs": [],
   "source": [
    "for i in range(training_size, len(df4)):\n",
    "\n",
    "    X_test = df4.loc[[i], ['category','rating','Mean']]\n",
    "    y_pred = int(clf.predict(X_test))\n",
    "    y_true = int(df4.loc[[i], \"label\"])\n",
    "\n",
    "    adwin.update(y_true, y_pred)\n",
    "    status.loc[i] = [\n",
    "        i, y_true, y_pred, adwin.mean(), adwin.drift_state,\n",
    "    ]\n",
    "\n",
    "    # If drift is detected, examine the window and retrain.\n",
    "    if adwin.drift_state == \"drift\":\n",
    "        retrain_start = adwin.retraining_recs[0] + training_size\n",
    "        retrain_end = adwin.retraining_recs[1] + training_size\n",
    "        rec_list.append([retrain_start, retrain_end])\n",
    "\n",
    "        # The retraining recommendations produced here correspond to the samples\n",
    "        # which belong to ADWIN's new, smaller window, after drift is detected.\n",
    "        # If retraining is not desired, omit the next four lines.\n",
    "        X_train = df4.loc[retrain_start:retrain_end, ['category','rating','Mean']]\n",
    "        y_train = df4.loc[retrain_start:retrain_end, \"label\"]\n",
    "        clf = GaussianNB()\n",
    "        clf.fit(X_train, y_train)\n",
    "\n",
    "status['original_accuracy'] = acc_orig\n",
    "status['accuracy'] = np.cumsum(status.y_true == status.y_pred)\n",
    "status['accuracy'] = status['accuracy'] / np.cumsum(np.repeat(1, status.shape[0]))\n"
   ]
  },
  {
   "cell_type": "code",
   "execution_count": 77,
   "id": "7a8dd2fc",
   "metadata": {},
   "outputs": [
    {
     "data": {
      "text/plain": [
       "40431    0.521171\n",
       "Name: accuracy, dtype: float64"
      ]
     },
     "execution_count": 77,
     "metadata": {},
     "output_type": "execute_result"
    }
   ],
   "source": [
    "status['accuracy'].tail(1)"
   ]
  },
  {
   "cell_type": "code",
   "execution_count": 78,
   "id": "46098032",
   "metadata": {},
   "outputs": [
    {
     "data": {
      "text/plain": [
       "40431    0.580431\n",
       "Name: original_accuracy, dtype: float64"
      ]
     },
     "execution_count": 78,
     "metadata": {},
     "output_type": "execute_result"
    }
   ],
   "source": [
    "status['original_accuracy'].tail(1)"
   ]
  },
  {
   "cell_type": "code",
   "execution_count": 79,
   "id": "12e13723",
   "metadata": {},
   "outputs": [
    {
     "data": {
      "image/png": "[encoded data removed]",
      "text/plain": [
       "<Figure size 432x288 with 1 Axes>"
      ]
     },
     "metadata": {
      "needs_background": "light"
     },
     "output_type": "display_data"
    }
   ],
   "source": [
    "plt.figure(figsize=(6,4))\n",
    "plt.scatter(\"index\", \"original_accuracy\", data=status, label=\"Original Accuracy\", color='red')\n",
    "plt.scatter(\"index\", \"accuracy\", data=status, label=\"Retrain Accuracy\", color='green')\n",
    "plt.grid(False, axis=\"x\")\n",
    "plt.xticks(fontsize=8)\n",
    "plt.yticks(fontsize=8)\n",
    "plt.title(\"ADWIN Results: Accuracy\", fontsize=11)\n",
    "plt.ylabel(\"Value\", fontsize=9)\n",
    "plt.xlabel(\"Index\", fontsize=9)\n",
    "ylims = [0, 1.1]\n",
    "plt.ylim(ylims)\n",
    "\n",
    "plt.axvspan(100, 125, alpha=0.5, label=\"Drift Induction Window\")\n",
    "\n",
    "# Draw red lines that indicate where drift was detected\n",
    "plt.vlines(\n",
    "    x=status.loc[status[\"drift_detected\"] == \"drift\"][\"index\"],\n",
    "    ymin=ylims[0],\n",
    "    ymax=ylims[1],\n",
    "    label=\"Drift Detected\",\n",
    "    color=\"red\",\n",
    ")\n",
    "\n",
    "# Create a list of lines that indicate the retraining windows.\n",
    "# Space them evenly, vertically.\n",
    "rec_list = pd.DataFrame(rec_list)\n",
    "rec_list[\"y_val\"] = np.linspace(\n",
    "    start=0.05 * (ylims[1] - ylims[0]) + ylims[0],\n",
    "    stop=0.2 * ylims[1],\n",
    "    num=len(rec_list),\n",
    ")\n",
    "\n",
    "# Draw green lines that indicate where retraining occurred\n",
    "plt.hlines(\n",
    "    y=rec_list[\"y_val\"],\n",
    "    xmin=rec_list[0],\n",
    "    xmax=rec_list[1],\n",
    "    color=\"green\",\n",
    "    label=\"Retraining Windows\",\n",
    ")\n",
    "\n",
    "plt.legend(loc='lower left')\n",
    "plt.show()\n",
    "# plt.savefig(\"example_ADWINAccuracy.png\")"
   ]
  },
  {
   "cell_type": "markdown",
   "id": "3fa719b4",
   "metadata": {},
   "source": [
    "### LR and ADWIN"
   ]
  },
  {
   "cell_type": "code",
   "execution_count": 80,
   "id": "1def608a",
   "metadata": {},
   "outputs": [],
   "source": [
    "X_train = df4.loc[0:training_size, ['category','rating','Mean']]\n",
    "y_train = df4.loc[0:training_size, \"label\"]\n",
    "X_test = df4.loc[training_size:len(df4), ['category','rating','Mean']]\n",
    "y_true = df4.loc[training_size:len(df4), \"label\"]"
   ]
  },
  {
   "cell_type": "code",
   "execution_count": 81,
   "id": "199d6407",
   "metadata": {},
   "outputs": [
    {
     "name": "stdout",
     "output_type": "stream",
     "text": [
      "30324    1.000000\n",
      "30325    0.500000\n",
      "30326    0.666667\n",
      "30327    0.750000\n",
      "30328    0.800000\n",
      "           ...   \n",
      "40427    0.502573\n",
      "40428    0.502622\n",
      "40429    0.502672\n",
      "40430    0.502622\n",
      "40431    0.502572\n",
      "Name: label, Length: 10108, dtype: float64\n"
     ]
    }
   ],
   "source": [
    "from sklearn.linear_model import LogisticRegression\n",
    "model = LogisticRegression()\n",
    "model.fit(X_train, y_train)\n",
    "acc_orig = np.cumsum(model.predict(X_test) == y_true)\n",
    "acc_orig = acc_orig / np.arange(1, 1 + len(acc_orig))\n",
    "print(acc_orig)"
   ]
  },
  {
   "cell_type": "code",
   "execution_count": 82,
   "id": "263f49c1",
   "metadata": {},
   "outputs": [],
   "source": [
    "adwin = ADWINAccuracy()\n",
    "\n",
    "# Set up DF to record results.\n",
    "status = pd.DataFrame(\n",
    "    columns=[\"index\", \"y_true\", \"y_pred\", \"adwin mean\", \"drift_detected\"]\n",
    ")\n",
    "rec_list = []"
   ]
  },
  {
   "cell_type": "code",
   "execution_count": 83,
   "id": "d4695022",
   "metadata": {},
   "outputs": [],
   "source": [
    "for i in range(training_size, len(df4)):\n",
    "\n",
    "    X_test = df4.loc[[i], ['category','rating','Mean']]\n",
    "    y_pred = int(model.predict(X_test))\n",
    "    y_true = int(df4.loc[[i], \"label\"])\n",
    "\n",
    "    adwin.update(y_true, y_pred)\n",
    "    status.loc[i] = [\n",
    "        i, y_true, y_pred, adwin.mean(), adwin.drift_state,\n",
    "    ]\n",
    "\n",
    "    # If drift is detected, examine the window and retrain.\n",
    "    if adwin.drift_state == \"drift\":\n",
    "        retrain_start = adwin.retraining_recs[0] + training_size\n",
    "        retrain_end = adwin.retraining_recs[1] + training_size\n",
    "        rec_list.append([retrain_start, retrain_end])\n",
    "\n",
    "        # The retraining recommendations produced here correspond to the samples\n",
    "        # which belong to ADWIN's new, smaller window, after drift is detected.\n",
    "        # If retraining is not desired, omit the next four lines.\n",
    "        X_train = df4.loc[retrain_start:retrain_end, ['category','rating','Mean']]\n",
    "        y_train = df4.loc[retrain_start:retrain_end, \"label\"]\n",
    "        model = LogisticRegression()\n",
    "        model.fit(X_train, y_train)\n",
    "status['original_accuracy'] = acc_orig\n",
    "status['accuracy'] = np.cumsum(status.y_true == status.y_pred)\n",
    "status['accuracy'] = status['accuracy'] / np.cumsum(np.repeat(1, status.shape[0]))\n"
   ]
  },
  {
   "cell_type": "code",
   "execution_count": 84,
   "id": "2238a917",
   "metadata": {},
   "outputs": [
    {
     "data": {
      "text/plain": [
       "40431    0.502572\n",
       "Name: accuracy, dtype: float64"
      ]
     },
     "execution_count": 84,
     "metadata": {},
     "output_type": "execute_result"
    }
   ],
   "source": [
    "status['accuracy'].tail(1)"
   ]
  },
  {
   "cell_type": "code",
   "execution_count": 85,
   "id": "0b340324",
   "metadata": {},
   "outputs": [
    {
     "data": {
      "text/plain": [
       "40431    0.502572\n",
       "Name: original_accuracy, dtype: float64"
      ]
     },
     "execution_count": 85,
     "metadata": {},
     "output_type": "execute_result"
    }
   ],
   "source": [
    "status['original_accuracy'].tail(1)"
   ]
  },
  {
   "cell_type": "code",
   "execution_count": 88,
   "id": "08fc7cb8",
   "metadata": {},
   "outputs": [
    {
     "ename": "KeyError",
     "evalue": "0",
     "output_type": "error",
     "traceback": [
      "\u001b[1;31m---------------------------------------------------------------------------\u001b[0m",
      "\u001b[1;31mKeyError\u001b[0m                                  Traceback (most recent call last)",
      "\u001b[1;32m~\\anaconda3\\lib\\site-packages\\pandas\\core\\indexes\\base.py\u001b[0m in \u001b[0;36mget_loc\u001b[1;34m(self, key, method, tolerance)\u001b[0m\n\u001b[0;32m   3360\u001b[0m             \u001b[1;32mtry\u001b[0m\u001b[1;33m:\u001b[0m\u001b[1;33m\u001b[0m\u001b[1;33m\u001b[0m\u001b[0m\n\u001b[1;32m-> 3361\u001b[1;33m                 \u001b[1;32mreturn\u001b[0m \u001b[0mself\u001b[0m\u001b[1;33m.\u001b[0m\u001b[0m_engine\u001b[0m\u001b[1;33m.\u001b[0m\u001b[0mget_loc\u001b[0m\u001b[1;33m(\u001b[0m\u001b[0mcasted_key\u001b[0m\u001b[1;33m)\u001b[0m\u001b[1;33m\u001b[0m\u001b[1;33m\u001b[0m\u001b[0m\n\u001b[0m\u001b[0;32m   3362\u001b[0m             \u001b[1;32mexcept\u001b[0m \u001b[0mKeyError\u001b[0m \u001b[1;32mas\u001b[0m \u001b[0merr\u001b[0m\u001b[1;33m:\u001b[0m\u001b[1;33m\u001b[0m\u001b[1;33m\u001b[0m\u001b[0m\n",
      "\u001b[1;32m~\\anaconda3\\lib\\site-packages\\pandas\\_libs\\index.pyx\u001b[0m in \u001b[0;36mpandas._libs.index.IndexEngine.get_loc\u001b[1;34m()\u001b[0m\n",
      "\u001b[1;32m~\\anaconda3\\lib\\site-packages\\pandas\\_libs\\index.pyx\u001b[0m in \u001b[0;36mpandas._libs.index.IndexEngine.get_loc\u001b[1;34m()\u001b[0m\n",
      "\u001b[1;32mpandas\\_libs\\hashtable_class_helper.pxi\u001b[0m in \u001b[0;36mpandas._libs.hashtable.PyObjectHashTable.get_item\u001b[1;34m()\u001b[0m\n",
      "\u001b[1;32mpandas\\_libs\\hashtable_class_helper.pxi\u001b[0m in \u001b[0;36mpandas._libs.hashtable.PyObjectHashTable.get_item\u001b[1;34m()\u001b[0m\n",
      "\u001b[1;31mKeyError\u001b[0m: 0",
      "\nThe above exception was the direct cause of the following exception:\n",
      "\u001b[1;31mKeyError\u001b[0m                                  Traceback (most recent call last)",
      "\u001b[1;32m~\\AppData\\Local\\Temp/ipykernel_1236/379674254.py\u001b[0m in \u001b[0;36m<cell line: 34>\u001b[1;34m()\u001b[0m\n\u001b[0;32m     34\u001b[0m plt.hlines(\n\u001b[0;32m     35\u001b[0m     \u001b[0my\u001b[0m\u001b[1;33m=\u001b[0m\u001b[0mrec_list\u001b[0m\u001b[1;33m[\u001b[0m\u001b[1;34m\"y_val\"\u001b[0m\u001b[1;33m]\u001b[0m\u001b[1;33m,\u001b[0m\u001b[1;33m\u001b[0m\u001b[1;33m\u001b[0m\u001b[0m\n\u001b[1;32m---> 36\u001b[1;33m     \u001b[0mxmin\u001b[0m\u001b[1;33m=\u001b[0m\u001b[0mrec_list\u001b[0m\u001b[1;33m[\u001b[0m\u001b[1;36m0\u001b[0m\u001b[1;33m]\u001b[0m\u001b[1;33m,\u001b[0m\u001b[1;33m\u001b[0m\u001b[1;33m\u001b[0m\u001b[0m\n\u001b[0m\u001b[0;32m     37\u001b[0m     \u001b[0mxmax\u001b[0m\u001b[1;33m=\u001b[0m\u001b[0mrec_list\u001b[0m\u001b[1;33m[\u001b[0m\u001b[1;36m1\u001b[0m\u001b[1;33m]\u001b[0m\u001b[1;33m,\u001b[0m\u001b[1;33m\u001b[0m\u001b[1;33m\u001b[0m\u001b[0m\n\u001b[0;32m     38\u001b[0m     \u001b[0mcolor\u001b[0m\u001b[1;33m=\u001b[0m\u001b[1;34m\"green\"\u001b[0m\u001b[1;33m,\u001b[0m\u001b[1;33m\u001b[0m\u001b[1;33m\u001b[0m\u001b[0m\n",
      "\u001b[1;32m~\\anaconda3\\lib\\site-packages\\pandas\\core\\frame.py\u001b[0m in \u001b[0;36m__getitem__\u001b[1;34m(self, key)\u001b[0m\n\u001b[0;32m   3456\u001b[0m             \u001b[1;32mif\u001b[0m \u001b[0mself\u001b[0m\u001b[1;33m.\u001b[0m\u001b[0mcolumns\u001b[0m\u001b[1;33m.\u001b[0m\u001b[0mnlevels\u001b[0m \u001b[1;33m>\u001b[0m \u001b[1;36m1\u001b[0m\u001b[1;33m:\u001b[0m\u001b[1;33m\u001b[0m\u001b[1;33m\u001b[0m\u001b[0m\n\u001b[0;32m   3457\u001b[0m                 \u001b[1;32mreturn\u001b[0m \u001b[0mself\u001b[0m\u001b[1;33m.\u001b[0m\u001b[0m_getitem_multilevel\u001b[0m\u001b[1;33m(\u001b[0m\u001b[0mkey\u001b[0m\u001b[1;33m)\u001b[0m\u001b[1;33m\u001b[0m\u001b[1;33m\u001b[0m\u001b[0m\n\u001b[1;32m-> 3458\u001b[1;33m             \u001b[0mindexer\u001b[0m \u001b[1;33m=\u001b[0m \u001b[0mself\u001b[0m\u001b[1;33m.\u001b[0m\u001b[0mcolumns\u001b[0m\u001b[1;33m.\u001b[0m\u001b[0mget_loc\u001b[0m\u001b[1;33m(\u001b[0m\u001b[0mkey\u001b[0m\u001b[1;33m)\u001b[0m\u001b[1;33m\u001b[0m\u001b[1;33m\u001b[0m\u001b[0m\n\u001b[0m\u001b[0;32m   3459\u001b[0m             \u001b[1;32mif\u001b[0m \u001b[0mis_integer\u001b[0m\u001b[1;33m(\u001b[0m\u001b[0mindexer\u001b[0m\u001b[1;33m)\u001b[0m\u001b[1;33m:\u001b[0m\u001b[1;33m\u001b[0m\u001b[1;33m\u001b[0m\u001b[0m\n\u001b[0;32m   3460\u001b[0m                 \u001b[0mindexer\u001b[0m \u001b[1;33m=\u001b[0m \u001b[1;33m[\u001b[0m\u001b[0mindexer\u001b[0m\u001b[1;33m]\u001b[0m\u001b[1;33m\u001b[0m\u001b[1;33m\u001b[0m\u001b[0m\n",
      "\u001b[1;32m~\\anaconda3\\lib\\site-packages\\pandas\\core\\indexes\\base.py\u001b[0m in \u001b[0;36mget_loc\u001b[1;34m(self, key, method, tolerance)\u001b[0m\n\u001b[0;32m   3361\u001b[0m                 \u001b[1;32mreturn\u001b[0m \u001b[0mself\u001b[0m\u001b[1;33m.\u001b[0m\u001b[0m_engine\u001b[0m\u001b[1;33m.\u001b[0m\u001b[0mget_loc\u001b[0m\u001b[1;33m(\u001b[0m\u001b[0mcasted_key\u001b[0m\u001b[1;33m)\u001b[0m\u001b[1;33m\u001b[0m\u001b[1;33m\u001b[0m\u001b[0m\n\u001b[0;32m   3362\u001b[0m             \u001b[1;32mexcept\u001b[0m \u001b[0mKeyError\u001b[0m \u001b[1;32mas\u001b[0m \u001b[0merr\u001b[0m\u001b[1;33m:\u001b[0m\u001b[1;33m\u001b[0m\u001b[1;33m\u001b[0m\u001b[0m\n\u001b[1;32m-> 3363\u001b[1;33m                 \u001b[1;32mraise\u001b[0m \u001b[0mKeyError\u001b[0m\u001b[1;33m(\u001b[0m\u001b[0mkey\u001b[0m\u001b[1;33m)\u001b[0m \u001b[1;32mfrom\u001b[0m \u001b[0merr\u001b[0m\u001b[1;33m\u001b[0m\u001b[1;33m\u001b[0m\u001b[0m\n\u001b[0m\u001b[0;32m   3364\u001b[0m \u001b[1;33m\u001b[0m\u001b[0m\n\u001b[0;32m   3365\u001b[0m         \u001b[1;32mif\u001b[0m \u001b[0mis_scalar\u001b[0m\u001b[1;33m(\u001b[0m\u001b[0mkey\u001b[0m\u001b[1;33m)\u001b[0m \u001b[1;32mand\u001b[0m \u001b[0misna\u001b[0m\u001b[1;33m(\u001b[0m\u001b[0mkey\u001b[0m\u001b[1;33m)\u001b[0m \u001b[1;32mand\u001b[0m \u001b[1;32mnot\u001b[0m \u001b[0mself\u001b[0m\u001b[1;33m.\u001b[0m\u001b[0mhasnans\u001b[0m\u001b[1;33m:\u001b[0m\u001b[1;33m\u001b[0m\u001b[1;33m\u001b[0m\u001b[0m\n",
      "\u001b[1;31mKeyError\u001b[0m: 0"
     ]
    },
    {
     "data": {
      "image/png": "[encoded data removed]",
      "text/plain": [
       "<Figure size 432x288 with 1 Axes>"
      ]
     },
     "metadata": {
      "needs_background": "light"
     },
     "output_type": "display_data"
    }
   ],
   "source": [
    "plt.figure(figsize=(6,4))\n",
    "plt.scatter(\"index\", \"original_accuracy\", data=status, label=\"Original Accuracy\", color='red')\n",
    "plt.scatter(\"index\", \"accuracy\", data=status, label=\"Retrain Accuracy\", color='green')\n",
    "plt.grid(False, axis=\"x\")\n",
    "plt.xticks(fontsize=8)\n",
    "plt.yticks(fontsize=8)\n",
    "plt.title(\"ADWIN Results: Accuracy\", fontsize=11)\n",
    "plt.ylabel(\"Value\", fontsize=9)\n",
    "plt.xlabel(\"Index\", fontsize=9)\n",
    "ylims = [0, 1.1]\n",
    "plt.ylim(ylims)\n",
    "\n",
    "plt.axvspan(100, 125, alpha=0.5, label=\"Drift Induction Window\")\n",
    "\n",
    "# Draw red lines that indicate where drift was detected\n",
    "plt.vlines(\n",
    "    x=status.loc[status[\"drift_detected\"] == \"drift\"][\"index\"],\n",
    "    ymin=ylims[0],\n",
    "    ymax=ylims[1],\n",
    "    label=\"Drift Detected\",\n",
    "    color=\"red\",\n",
    ")\n",
    "\n",
    "# Create a list of lines that indicate the retraining windows.\n",
    "# Space them evenly, vertically.\n",
    "rec_list = pd.DataFrame(rec_list)\n",
    "rec_list[\"y_val\"] = np.linspace(\n",
    "    start=0.05 * (ylims[1] - ylims[0]) + ylims[0],\n",
    "    stop=0.2 * ylims[1],\n",
    "    num=len(rec_list),\n",
    ")\n",
    "\n",
    "# Draw green lines that indicate where retraining occurred\n",
    "plt.hlines(\n",
    "    y=rec_list[\"y_val\"],\n",
    "    xmin=rec_list[0],\n",
    "    xmax=rec_list[1],\n",
    "    color=\"green\",\n",
    "    label=\"Retraining Windows\",\n",
    ")\n",
    "\n",
    "plt.legend(loc='lower left')\n",
    "plt.show()\n",
    "# plt.savefig(\"example_ADWINAccuracy.png\")"
   ]
  },
  {
   "cell_type": "markdown",
   "id": "8a837c67",
   "metadata": {},
   "source": [
    "### RF and ADWIN"
   ]
  },
  {
   "cell_type": "code",
   "execution_count": 89,
   "id": "c09f0f3a",
   "metadata": {},
   "outputs": [],
   "source": [
    "X_train = df4.loc[0:training_size, ['category','rating','Mean']]\n",
    "y_train = df4.loc[0:training_size, \"label\"]\n",
    "X_test = df4.loc[training_size:len(df4), ['category','rating','Mean']]\n",
    "y_true = df4.loc[training_size:len(df4), \"label\"]"
   ]
  },
  {
   "cell_type": "code",
   "execution_count": 90,
   "id": "73eeb78e",
   "metadata": {},
   "outputs": [],
   "source": [
    "from sklearn.ensemble import RandomForestClassifier"
   ]
  },
  {
   "cell_type": "code",
   "execution_count": 91,
   "id": "9a107cc2",
   "metadata": {},
   "outputs": [
    {
     "name": "stdout",
     "output_type": "stream",
     "text": [
      "30324    0.000000\n",
      "30325    0.000000\n",
      "30326    0.000000\n",
      "30327    0.000000\n",
      "30328    0.000000\n",
      "           ...   \n",
      "40427    0.557205\n",
      "40428    0.557150\n",
      "40429    0.557194\n",
      "40430    0.557139\n",
      "40431    0.557182\n",
      "Name: label, Length: 10108, dtype: float64\n"
     ]
    }
   ],
   "source": [
    "np.random.seed(123)\n",
    "clf = RandomForestClassifier(n_estimators = 100) \n",
    "clf.fit(X_train, y_train)\n",
    "acc_orig = np.cumsum(clf.predict(X_test) == y_true)\n",
    "acc_orig = acc_orig / np.arange(1, 1 + len(acc_orig))\n",
    "print(acc_orig)"
   ]
  },
  {
   "cell_type": "code",
   "execution_count": 92,
   "id": "8cdc78bd",
   "metadata": {},
   "outputs": [],
   "source": [
    "adwin = ADWINAccuracy()\n",
    "\n",
    "# Set up DF to record results.\n",
    "status = pd.DataFrame(\n",
    "    columns=[\"index\", \"y_true\", \"y_pred\", \"adwin mean\", \"drift_detected\"]\n",
    ")\n",
    "rec_list = []"
   ]
  },
  {
   "cell_type": "code",
   "execution_count": 93,
   "id": "f9e0d336",
   "metadata": {},
   "outputs": [],
   "source": [
    "for i in range(training_size, len(df4)):\n",
    "\n",
    "    X_test = df4.loc[[i], ['category','rating','Mean']]\n",
    "    y_pred = int(clf.predict(X_test))\n",
    "    y_true = int(df4.loc[[i], \"label\"])\n",
    "\n",
    "    adwin.update(y_true, y_pred)\n",
    "    status.loc[i] = [\n",
    "        i, y_true, y_pred, adwin.mean(), adwin.drift_state,\n",
    "    ]\n",
    "\n",
    "    # If drift is detected, examine the window and retrain.\n",
    "    if adwin.drift_state == \"drift\":\n",
    "        retrain_start = adwin.retraining_recs[0] + training_size\n",
    "        retrain_end = adwin.retraining_recs[1] + training_size\n",
    "        rec_list.append([retrain_start, retrain_end])\n",
    "\n",
    "        # The retraining recommendations produced here correspond to the samples\n",
    "        # which belong to ADWIN's new, smaller window, after drift is detected.\n",
    "        # If retraining is not desired, omit the next four lines.\n",
    "        X_train = df4.loc[retrain_start:retrain_end, ['category','rating','Mean']]\n",
    "        y_train = df4.loc[retrain_start:retrain_end, \"label\"]\n",
    "        clf = RandomForestClassifier(n_estimators = 100) \n",
    "        clf.fit(X_train, y_train)\n",
    "status['original_accuracy'] = acc_orig\n",
    "status['accuracy'] = np.cumsum(status.y_true == status.y_pred)\n",
    "status['accuracy'] = status['accuracy'] / np.cumsum(np.repeat(1, status.shape[0]))"
   ]
  },
  {
   "cell_type": "code",
   "execution_count": 94,
   "id": "97f8fc95",
   "metadata": {},
   "outputs": [
    {
     "data": {
      "text/plain": [
       "40431    0.525623\n",
       "Name: accuracy, dtype: float64"
      ]
     },
     "execution_count": 94,
     "metadata": {},
     "output_type": "execute_result"
    }
   ],
   "source": [
    "status['accuracy'].tail(1)"
   ]
  },
  {
   "cell_type": "code",
   "execution_count": 95,
   "id": "ba96222c",
   "metadata": {},
   "outputs": [
    {
     "data": {
      "text/plain": [
       "40431    0.557182\n",
       "Name: original_accuracy, dtype: float64"
      ]
     },
     "execution_count": 95,
     "metadata": {},
     "output_type": "execute_result"
    }
   ],
   "source": [
    "status['original_accuracy'].tail(1)"
   ]
  },
  {
   "cell_type": "code",
   "execution_count": 96,
   "id": "8a2d96f2",
   "metadata": {},
   "outputs": [
    {
     "data": {
      "image/png": "[encoded data removed]",
      "text/plain": [
       "<Figure size 432x288 with 1 Axes>"
      ]
     },
     "metadata": {
      "needs_background": "light"
     },
     "output_type": "display_data"
    }
   ],
   "source": [
    "plt.figure(figsize=(6, 4))\n",
    "plt.scatter(\"index\", \"original_accuracy\", data=status, label=\"Original Accuracy\", color='red')\n",
    "plt.scatter(\"index\", \"accuracy\", data=status, label=\"Retrain Accuracy\", color='green')\n",
    "plt.grid(False, axis=\"x\")\n",
    "plt.xticks(fontsize=8)\n",
    "plt.yticks(fontsize=8)\n",
    "plt.title(\"ADWIN Results: Accuracy\", fontsize=11)\n",
    "plt.ylabel(\"Value\", fontsize=9)\n",
    "plt.xlabel(\"Index\", fontsize=9)\n",
    "ylims = [0, 1.1]\n",
    "plt.ylim(ylims)\n",
    "\n",
    "plt.axvspan(100, 125, alpha=0.5, label=\"Drift Induction Window\")\n",
    "\n",
    "# Draw red lines that indicate where drift was detected\n",
    "plt.vlines(\n",
    "    x=status.loc[status[\"drift_detected\"] == \"drift\"][\"index\"],\n",
    "    ymin=ylims[0],\n",
    "    ymax=ylims[1],\n",
    "    label=\"Drift Detected\",\n",
    "    color=\"red\",\n",
    ")\n",
    "\n",
    "# Create a list of lines that indicate the retraining windows.\n",
    "# Space them evenly, vertically.\n",
    "rec_list = pd.DataFrame(rec_list)\n",
    "rec_list[\"y_val\"] = np.linspace(\n",
    "    start=0.05 * (ylims[1] - ylims[0]) + ylims[0],\n",
    "    stop=0.2 * ylims[1],\n",
    "    num=len(rec_list),\n",
    ")\n",
    "\n",
    "# Draw green lines that indicate where retraining occurred\n",
    "plt.hlines(\n",
    "    y=rec_list[\"y_val\"],\n",
    "    xmin=rec_list[0],\n",
    "    xmax=rec_list[1],\n",
    "    color=\"green\",\n",
    "    label=\"Retraining Windows\",\n",
    ")\n",
    "\n",
    "plt.legend(loc='lower left')\n",
    "plt.show()\n",
    "# plt.savefig(\"example_ADWINAccuracy.png\")\n"
   ]
  },
  {
   "cell_type": "markdown",
   "id": "532098df",
   "metadata": {},
   "source": [
    "### CNN and ADWIN"
   ]
  },
  {
   "cell_type": "code",
   "execution_count": 97,
   "id": "3376a269",
   "metadata": {},
   "outputs": [],
   "source": [
    "training_size = 30324"
   ]
  },
  {
   "cell_type": "code",
   "execution_count": 98,
   "id": "4600bd52",
   "metadata": {},
   "outputs": [],
   "source": [
    "X_train = df4.loc[0:training_size, ['category','rating','Mean']]\n",
    "y_train = df4.loc[0:training_size, \"label\"]\n",
    "X_test = df4.loc[training_size:len(df4), ['category','rating','Mean']]\n",
    "y_true = df4.loc[training_size:len(df4), \"label\"]"
   ]
  },
  {
   "cell_type": "code",
   "execution_count": 99,
   "id": "388c4da5",
   "metadata": {},
   "outputs": [],
   "source": [
    "model=Sequential()\n",
    "model.add(Dense(1000,input_dim=3,activation='relu'))\n",
    "model.add(Dense(500,activation='relu'))\n",
    "model.add(Dense(300,activation='relu'))\n",
    "model.add(Dropout(0.2))\n",
    "model.add(Dense(1,activation='softmax'))\n",
    "model.compile(loss='categorical_crossentropy',optimizer='adam',metrics=['accuracy'])"
   ]
  },
  {
   "cell_type": "code",
   "execution_count": 100,
   "id": "205715a3",
   "metadata": {},
   "outputs": [
    {
     "name": "stdout",
     "output_type": "stream",
     "text": [
      "Epoch 1/10\n",
      "1517/1517 [==============================] - 21s 13ms/step - loss: 0.0000e+00 - accuracy: 0.4999 - val_loss: 0.0000e+00 - val_accuracy: 0.5002\n",
      "Epoch 2/10\n",
      "1517/1517 [==============================] - 22s 15ms/step - loss: 0.0000e+00 - accuracy: 0.4999 - val_loss: 0.0000e+00 - val_accuracy: 0.5002\n",
      "Epoch 3/10\n",
      "1517/1517 [==============================] - 22s 14ms/step - loss: 0.0000e+00 - accuracy: 0.4999 - val_loss: 0.0000e+00 - val_accuracy: 0.5002\n",
      "Epoch 4/10\n",
      "1517/1517 [==============================] - 19s 13ms/step - loss: 0.0000e+00 - accuracy: 0.4999 - val_loss: 0.0000e+00 - val_accuracy: 0.5002\n",
      "Epoch 5/10\n",
      "1517/1517 [==============================] - 20s 13ms/step - loss: 0.0000e+00 - accuracy: 0.4999 - val_loss: 0.0000e+00 - val_accuracy: 0.5002\n",
      "Epoch 6/10\n",
      "1517/1517 [==============================] - 20s 13ms/step - loss: 0.0000e+00 - accuracy: 0.4999 - val_loss: 0.0000e+00 - val_accuracy: 0.5002\n",
      "Epoch 7/10\n",
      "1517/1517 [==============================] - 23s 15ms/step - loss: 0.0000e+00 - accuracy: 0.4999 - val_loss: 0.0000e+00 - val_accuracy: 0.5002\n",
      "Epoch 8/10\n",
      "1517/1517 [==============================] - 23s 15ms/step - loss: 0.0000e+00 - accuracy: 0.4999 - val_loss: 0.0000e+00 - val_accuracy: 0.5002\n",
      "Epoch 9/10\n",
      "1517/1517 [==============================] - 23s 15ms/step - loss: 0.0000e+00 - accuracy: 0.4999 - val_loss: 0.0000e+00 - val_accuracy: 0.5002\n",
      "Epoch 10/10\n",
      "1517/1517 [==============================] - 26s 17ms/step - loss: 0.0000e+00 - accuracy: 0.4999 - val_loss: 0.0000e+00 - val_accuracy: 0.5002\n"
     ]
    },
    {
     "data": {
      "text/plain": [
       "<keras.callbacks.History at 0x205a9af43a0>"
      ]
     },
     "execution_count": 100,
     "metadata": {},
     "output_type": "execute_result"
    }
   ],
   "source": [
    "model.fit(X_train,y_train,validation_data=(X_test,y_true),batch_size=20,epochs=10,verbose=1)"
   ]
  },
  {
   "cell_type": "code",
   "execution_count": 101,
   "id": "8b662bfa",
   "metadata": {},
   "outputs": [
    {
     "name": "stdout",
     "output_type": "stream",
     "text": [
      "30324    1.000000\n",
      "30325    1.000000\n",
      "30326    1.000000\n",
      "30327    1.000000\n",
      "30328    1.000000\n",
      "           ...   \n",
      "40427    0.589766\n",
      "40428    0.589807\n",
      "40429    0.589848\n",
      "40430    0.589789\n",
      "40431    0.589830\n",
      "Name: label, Length: 10108, dtype: float64\n"
     ]
    }
   ],
   "source": [
    "acc_orig = np.cumsum(clf.predict(X_test) == y_true)\n",
    "acc_orig = acc_orig / np.arange(1, 1 + len(acc_orig))\n",
    "print(acc_orig)"
   ]
  },
  {
   "cell_type": "code",
   "execution_count": 102,
   "id": "498c1b83",
   "metadata": {},
   "outputs": [],
   "source": [
    "for i in range(training_size,len(df4)-i):\n",
    "\n",
    "    X_test = df4.loc[[i], ['category','rating','Mean']]\n",
    "    y_pred = int(clf.predict(X_test))\n",
    "    y_true = int(df4.loc[[i], \"label\"])\n",
    "\n",
    "    adwin.update(y_true, y_pred)\n",
    "    status.loc[i] = [\n",
    "        i, y_true, y_pred, adwin.mean(), adwin.drift_state,\n",
    "    ]"
   ]
  },
  {
   "cell_type": "code",
   "execution_count": 103,
   "id": "425be4b6",
   "metadata": {},
   "outputs": [],
   "source": [
    "    # If drift is detected, examine the window and retrain.\n",
    "    if adwin.drift_state == \"drift\":\n",
    "        retrain_start = adwin.retraining_recs[0] + training_size\n",
    "        retrain_end = adwin.retraining_recs[1] + training_size\n",
    "        rec_list.append([retrain_start, retrain_end])\n",
    "\n",
    "        # The retraining recommendations produced here correspond to the samples\n",
    "        # which belong to ADWIN's new, smaller window, after drift is detected.\n",
    "        # If retraining is not desired, omit the next four lines.\n",
    "        X_train = df4.loc[retrain_start:retrain_end, ['category','rating','Mean']]\n",
    "        y_train = df4.loc[retrain_start:retrain_end, \"label\"]\n",
    "        model=Sequential()\n",
    "        model.add(Dense(1000,input_dim=3,activation='relu'))\n",
    "        model.add(Dense(500,activation='relu'))\n",
    "        model.add(Dense(300,activation='relu'))\n",
    "        model.add(Dropout(0.2))\n",
    "        model.add(Dense(1,activation='softmax'))\n",
    "        model.compile(loss='categorical_crossentropy',optimizer='adam',metrics=['accuracy'])\n",
    "        model.fit(X_train,y_train,validation_data=(X_test,y_true),batch_size=20,epochs=10,verbose=1)\n",
    "status['original_accuracy'] = acc_orig\n",
    "status['accuracy'] = np.cumsum(status.y_true == status.y_pred)\n",
    "status['accuracy'] = status['accuracy'] / np.cumsum(np.repeat(1, status.shape[0]))"
   ]
  },
  {
   "cell_type": "code",
   "execution_count": 104,
   "id": "efb73a49",
   "metadata": {},
   "outputs": [
    {
     "data": {
      "text/plain": [
       "40431    0.525623\n",
       "Name: accuracy, dtype: float64"
      ]
     },
     "execution_count": 104,
     "metadata": {},
     "output_type": "execute_result"
    }
   ],
   "source": [
    "status['accuracy'].tail(1)"
   ]
  },
  {
   "cell_type": "code",
   "execution_count": 105,
   "id": "9de19481",
   "metadata": {},
   "outputs": [
    {
     "data": {
      "text/plain": [
       "40431    0.58983\n",
       "Name: original_accuracy, dtype: float64"
      ]
     },
     "execution_count": 105,
     "metadata": {},
     "output_type": "execute_result"
    }
   ],
   "source": [
    "status['original_accuracy'].tail(1)"
   ]
  },
  {
   "cell_type": "code",
   "execution_count": 106,
   "id": "c2b26bc6",
   "metadata": {},
   "outputs": [
    {
     "data": {
      "image/png": "[encoded data removed]",
      "text/plain": [
       "<Figure size 432x288 with 1 Axes>"
      ]
     },
     "metadata": {
      "needs_background": "light"
     },
     "output_type": "display_data"
    }
   ],
   "source": [
    "plt.figure(figsize=(6,4))\n",
    "plt.scatter(\"index\", \"original_accuracy\", data=status, label=\"Original Accuracy\", color='red')\n",
    "plt.scatter(\"index\", \"accuracy\", data=status, label=\"Retrain Accuracy\", color='green')\n",
    "plt.grid(False, axis=\"x\")\n",
    "plt.xticks(fontsize=8)\n",
    "plt.yticks(fontsize=8)\n",
    "plt.title(\"ADWIN Results: Accuracy\", fontsize=11)\n",
    "plt.ylabel(\"Value\", fontsize=9)\n",
    "plt.xlabel(\"Index\", fontsize=9)\n",
    "ylims = [0, 1.1]\n",
    "plt.ylim(ylims)\n",
    "\n",
    "plt.axvspan(100, 125, alpha=0.5, label=\"Drift Induction Window\")\n",
    "\n",
    "# Draw red lines that indicate where drift was detected\n",
    "plt.vlines(\n",
    "    x=status.loc[status[\"drift_detected\"] == \"drift\"][\"index\"],\n",
    "    ymin=ylims[0],\n",
    "    ymax=ylims[1],\n",
    "    label=\"Drift Detected\",\n",
    "    color=\"red\",\n",
    ")\n",
    "\n",
    "# Create a list of lines that indicate the retraining windows.\n",
    "# Space them evenly, vertically.\n",
    "rec_list = pd.DataFrame(rec_list)\n",
    "rec_list[\"y_val\"] = np.linspace(\n",
    "    start=0.05 * (ylims[1] - ylims[0]) + ylims[0],\n",
    "    stop=0.2 * ylims[1],\n",
    "    num=len(rec_list),\n",
    ")\n",
    "\n",
    "# Draw green lines that indicate where retraining occurred\n",
    "plt.hlines(\n",
    "    y=rec_list[\"y_val\"],\n",
    "    xmin=rec_list[0],\n",
    "    xmax=rec_list[1],\n",
    "    color=\"green\",\n",
    "    label=\"Retraining Windows\",\n",
    ")\n",
    "\n",
    "plt.legend(loc='lower left')\n",
    "plt.show()\n",
    "# plt.savefig(\"example_ADWINAccuracy.png\")\n"
   ]
  },
  {
   "cell_type": "markdown",
   "id": "3d4db22d",
   "metadata": {},
   "source": [
    "### NB and EDDM "
   ]
  },
  {
   "cell_type": "code",
   "execution_count": 107,
   "id": "490e8ab9",
   "metadata": {},
   "outputs": [],
   "source": [
    "np.random.seed(123)\n",
    "# setup classifier: train on first 500 rows\n",
    "X_train = df4.loc[0:training_size, ['category','rating','Mean']]\n",
    "y_train = df4.loc[0:training_size, \"label\"]\n",
    "X_test = df4.loc[training_size:len(df3), ['category','rating','Mean']]\n",
    "y_true = df4.loc[training_size:len(df3), \"label\"]\n",
    "\n",
    "clf = GaussianNB()\n",
    "clf.fit(X_train, y_train)\n",
    "\n",
    "acc_orig = np.cumsum(clf.predict(X_test) == y_true)\n",
    "acc_orig = acc_orig / np.arange(1, 1 + len(acc_orig))"
   ]
  },
  {
   "cell_type": "code",
   "execution_count": 108,
   "id": "460e154f",
   "metadata": {},
   "outputs": [],
   "source": [
    "eddm = EDDM(n_threshold=30, warning_thresh=0.7, drift_thresh=0.5)\n",
    "\n",
    "# setup DF to store results\n",
    "status = pd.DataFrame(columns=[\"index\", \"y_true\", \"y_pred\", \"drift_detected\"])\n",
    "rec_list = []\n"
   ]
  },
  {
   "cell_type": "code",
   "execution_count": 109,
   "id": "680af7ed",
   "metadata": {},
   "outputs": [],
   "source": [
    "for i in range(training_size, len(df4)):\n",
    "\n",
    "    X_test = df4.loc[[i], ['category','rating','Mean']]\n",
    "    y_pred = int(clf.predict(X_test))\n",
    "    y_true = int(df4.loc[[i], \"label\"])\n",
    "\n",
    "    eddm.update(y_true, y_pred)\n",
    "    status.loc[i] = [i, y_true, y_pred, eddm.drift_state]\n",
    "\n",
    "    # If drift is detected, examine the window and retrain.\n",
    "    if eddm.drift_state == \"drift\":\n",
    "        retrain_start = eddm.retraining_recs[0] + training_size\n",
    "        retrain_end = eddm.retraining_recs[1] + training_size\n",
    "        if (\n",
    "            retrain_start == retrain_end\n",
    "        ):  # minimum retraining window in case of sudden drift\n",
    "            retrain_start = max(0, retrain_start - 300)\n",
    "        rec_list.append([retrain_start, retrain_end])\n",
    "\n",
    "        # If retraining is not desired, omit the next four lines.\n",
    "        X_train = df4.loc[retrain_start:retrain_end, ['category','rating','Mean']]\n",
    "        y_train = df4.loc[retrain_start:retrain_end, \"label\"]\n",
    "        clf = GaussianNB()\n",
    "        clf.fit(X_train, y_train)\n",
    "\n",
    "status['original_accuracy'] = acc_orig\n",
    "status['accuracy'] = np.cumsum(status.y_true == status.y_pred)\n",
    "status['accuracy'] = status['accuracy'] / np.cumsum(np.repeat(1, status.shape[0]))"
   ]
  },
  {
   "cell_type": "code",
   "execution_count": 110,
   "id": "e6c0a205",
   "metadata": {},
   "outputs": [
    {
     "data": {
      "text/plain": [
       "40431    0.560744\n",
       "Name: accuracy, dtype: float64"
      ]
     },
     "execution_count": 110,
     "metadata": {},
     "output_type": "execute_result"
    }
   ],
   "source": [
    "status['accuracy'].tail(1)"
   ]
  },
  {
   "cell_type": "code",
   "execution_count": 111,
   "id": "39cc25f3",
   "metadata": {},
   "outputs": [
    {
     "data": {
      "text/plain": [
       "40431    0.580431\n",
       "Name: original_accuracy, dtype: float64"
      ]
     },
     "execution_count": 111,
     "metadata": {},
     "output_type": "execute_result"
    }
   ],
   "source": [
    "status['original_accuracy'].tail(1)"
   ]
  },
  {
   "cell_type": "code",
   "execution_count": 112,
   "id": "8c4e0273",
   "metadata": {},
   "outputs": [
    {
     "data": {
      "image/png": "[encoded data removed]",
      "text/plain": [
       "<Figure size 432x288 with 1 Axes>"
      ]
     },
     "metadata": {
      "needs_background": "light"
     },
     "output_type": "display_data"
    }
   ],
   "source": [
    "plt.figure(figsize=(6,4))\n",
    "plt.scatter(\"index\", \"original_accuracy\", data=status, label=\"Original Accuracy\", color='red')\n",
    "plt.scatter(\"index\", \"accuracy\", data=status, label=\"Retrain Accuracy\", color='green')\n",
    "plt.grid(False, axis=\"x\")\n",
    "plt.xticks(fontsize=8)\n",
    "plt.yticks(fontsize=8)\n",
    "plt.title(\"EDDM Results: Accuracy\", fontsize=11)\n",
    "plt.ylabel(\"Value\", fontsize=9)\n",
    "plt.xlabel(\"Index\", fontsize=9)\n",
    "ylims = [-0.05, 1.1]\n",
    "plt.ylim(ylims)\n",
    "\n",
    "plt.axvspan(100, 125, alpha=0.5, label=\"Drift Induction Window\")\n",
    "\n",
    "# Draw orange lines that indicate where warnings of drift were provided\n",
    "plt.vlines(\n",
    "    x=status.loc[status[\"drift_detected\"] == \"warning\"][\"index\"],\n",
    "    ymin=ylims[0],\n",
    "    ymax=ylims[1],\n",
    "    label=\"Warning\",\n",
    "    color=\"orange\",\n",
    "    alpha=0.3,\n",
    ")\n",
    "\n",
    "# Draw red lines that indicate where drift was detected\n",
    "plt.vlines(\n",
    "    x=status.loc[status[\"drift_detected\"] == \"drift\"][\"index\"],\n",
    "    ymin=ylims[0],\n",
    "    ymax=ylims[1],\n",
    "    label=\"Drift Detected\",\n",
    "    color=\"red\",\n",
    ")\n",
    "# Create a list of lines that indicate the retraining windows.\n",
    "# Space them evenly, vertically.\n",
    "rec_list = pd.DataFrame(rec_list)\n",
    "rec_list[\"y_val\"] = np.linspace(\n",
    "    start=0.05 * (ylims[1] - ylims[0]) + ylims[0],\n",
    "    stop=0.2 * ylims[1],\n",
    "    num=len(rec_list),\n",
    ")\n",
    "\n",
    "# Draw green lines that indicate where retraining occurred\n",
    "plt.hlines(\n",
    "    y=rec_list[\"y_val\"],\n",
    "    xmin=rec_list[0],\n",
    "    xmax=rec_list[1],\n",
    "    color=\"green\",\n",
    "    label=\"Retraining Windows\",\n",
    "    alpha=0.3,\n",
    ")\n",
    "\n",
    "plt.legend(loc=\"lower left\")\n",
    "plt.show()\n",
    "# plt.savefig(\"example_EDDM.png\")"
   ]
  },
  {
   "cell_type": "markdown",
   "id": "b97610ed",
   "metadata": {},
   "source": [
    "### LR and EDDM "
   ]
  },
  {
   "cell_type": "code",
   "execution_count": 113,
   "id": "0d4f9341",
   "metadata": {},
   "outputs": [],
   "source": [
    "X_train = df4.loc[0:training_size, ['category','rating','Mean']]\n",
    "y_train = df4.loc[0:training_size, \"label\"]\n",
    "X_test = df4.loc[training_size:len(df4), ['category','rating','Mean']]\n",
    "y_true = df4.loc[training_size:len(df4), \"label\"]"
   ]
  },
  {
   "cell_type": "code",
   "execution_count": 114,
   "id": "10dfc801",
   "metadata": {},
   "outputs": [
    {
     "data": {
      "text/plain": [
       "array([0, 1], dtype=int64)"
      ]
     },
     "execution_count": 114,
     "metadata": {},
     "output_type": "execute_result"
    }
   ],
   "source": [
    "y_train.unique()"
   ]
  },
  {
   "cell_type": "code",
   "execution_count": 115,
   "id": "775f40e6",
   "metadata": {},
   "outputs": [
    {
     "name": "stdout",
     "output_type": "stream",
     "text": [
      "30324    1.000000\n",
      "30325    0.500000\n",
      "30326    0.666667\n",
      "30327    0.750000\n",
      "30328    0.800000\n",
      "           ...   \n",
      "40427    0.502573\n",
      "40428    0.502622\n",
      "40429    0.502672\n",
      "40430    0.502622\n",
      "40431    0.502572\n",
      "Name: label, Length: 10108, dtype: float64\n"
     ]
    }
   ],
   "source": [
    "model = LogisticRegression()\n",
    "model.fit(X_train, y_train)\n",
    "acc_orig = np.cumsum(model.predict(X_test) == y_true)\n",
    "acc_orig = acc_orig / np.arange(1, 1 + len(acc_orig))\n",
    "print(acc_orig)"
   ]
  },
  {
   "cell_type": "code",
   "execution_count": 116,
   "id": "a81e19f4",
   "metadata": {},
   "outputs": [],
   "source": [
    "eddm = EDDM(n_threshold=30, warning_thresh=0.7, drift_thresh=0.5)\n",
    "\n",
    "# setup DF to store results\n",
    "status = pd.DataFrame(columns=[\"index\", \"y_true\", \"y_pred\", \"drift_detected\"])\n",
    "rec_list = []"
   ]
  },
  {
   "cell_type": "code",
   "execution_count": 117,
   "id": "f9087e37",
   "metadata": {
    "scrolled": false
   },
   "outputs": [
    {
     "ename": "ValueError",
     "evalue": "This solver needs samples of at least 2 classes in the data, but the data contains only one class: 0",
     "output_type": "error",
     "traceback": [
      "\u001b[1;31m---------------------------------------------------------------------------\u001b[0m",
      "\u001b[1;31mValueError\u001b[0m                                Traceback (most recent call last)",
      "\u001b[1;32m~\\AppData\\Local\\Temp/ipykernel_1236/291968151.py\u001b[0m in \u001b[0;36m<cell line: 1>\u001b[1;34m()\u001b[0m\n\u001b[0;32m     22\u001b[0m         \u001b[0my_train\u001b[0m \u001b[1;33m=\u001b[0m \u001b[0mdf4\u001b[0m\u001b[1;33m.\u001b[0m\u001b[0mloc\u001b[0m\u001b[1;33m[\u001b[0m\u001b[0mretrain_start\u001b[0m\u001b[1;33m:\u001b[0m\u001b[0mretrain_end\u001b[0m\u001b[1;33m,\u001b[0m \u001b[1;34m\"label\"\u001b[0m\u001b[1;33m]\u001b[0m\u001b[1;33m\u001b[0m\u001b[1;33m\u001b[0m\u001b[0m\n\u001b[0;32m     23\u001b[0m         \u001b[0mmodel\u001b[0m \u001b[1;33m=\u001b[0m \u001b[0mLogisticRegression\u001b[0m\u001b[1;33m(\u001b[0m\u001b[1;33m)\u001b[0m\u001b[1;33m\u001b[0m\u001b[1;33m\u001b[0m\u001b[0m\n\u001b[1;32m---> 24\u001b[1;33m         \u001b[0mmodel\u001b[0m\u001b[1;33m.\u001b[0m\u001b[0mfit\u001b[0m\u001b[1;33m(\u001b[0m\u001b[0mX_train\u001b[0m\u001b[1;33m,\u001b[0m \u001b[0my_train\u001b[0m\u001b[1;33m)\u001b[0m\u001b[1;33m\u001b[0m\u001b[1;33m\u001b[0m\u001b[0m\n\u001b[0m\u001b[0;32m     25\u001b[0m \u001b[1;33m\u001b[0m\u001b[0m\n\u001b[0;32m     26\u001b[0m \u001b[0mstatus\u001b[0m\u001b[1;33m[\u001b[0m\u001b[1;34m'original_accuracy'\u001b[0m\u001b[1;33m]\u001b[0m \u001b[1;33m=\u001b[0m \u001b[0macc_orig\u001b[0m\u001b[1;33m\u001b[0m\u001b[1;33m\u001b[0m\u001b[0m\n",
      "\u001b[1;32m~\\anaconda3\\lib\\site-packages\\sklearn\\linear_model\\_logistic.py\u001b[0m in \u001b[0;36mfit\u001b[1;34m(self, X, y, sample_weight)\u001b[0m\n\u001b[0;32m   1181\u001b[0m         \u001b[0mclasses_\u001b[0m \u001b[1;33m=\u001b[0m \u001b[0mself\u001b[0m\u001b[1;33m.\u001b[0m\u001b[0mclasses_\u001b[0m\u001b[1;33m\u001b[0m\u001b[1;33m\u001b[0m\u001b[0m\n\u001b[0;32m   1182\u001b[0m         \u001b[1;32mif\u001b[0m \u001b[0mn_classes\u001b[0m \u001b[1;33m<\u001b[0m \u001b[1;36m2\u001b[0m\u001b[1;33m:\u001b[0m\u001b[1;33m\u001b[0m\u001b[1;33m\u001b[0m\u001b[0m\n\u001b[1;32m-> 1183\u001b[1;33m             raise ValueError(\n\u001b[0m\u001b[0;32m   1184\u001b[0m                 \u001b[1;34m\"This solver needs samples of at least 2 classes\"\u001b[0m\u001b[1;33m\u001b[0m\u001b[1;33m\u001b[0m\u001b[0m\n\u001b[0;32m   1185\u001b[0m                 \u001b[1;34m\" in the data, but the data contains only one\"\u001b[0m\u001b[1;33m\u001b[0m\u001b[1;33m\u001b[0m\u001b[0m\n",
      "\u001b[1;31mValueError\u001b[0m: This solver needs samples of at least 2 classes in the data, but the data contains only one class: 0"
     ]
    }
   ],
   "source": [
    "for i in range(training_size, len(df4)):\n",
    "\n",
    "    X_test = df4.loc[[i], ['category','rating','Mean']]\n",
    "    y_pred = int(model.predict(X_test))\n",
    "    y_true = int(df4.loc[[i], \"label\"])\n",
    "\n",
    "    eddm.update(y_true, y_pred)\n",
    "    status.loc[i] = [i, y_true, y_pred, eddm.drift_state]\n",
    "\n",
    "    # If drift is detected, examine the window and retrain.\n",
    "    if eddm.drift_state == \"drift\":\n",
    "        retrain_start = eddm.retraining_recs[0] + training_size\n",
    "        retrain_end = eddm.retraining_recs[1] + training_size\n",
    "        if (\n",
    "            retrain_start == retrain_end\n",
    "        ):  # minimum retraining window in case of sudden drift\n",
    "            retrain_start = max(0, retrain_start - 300)\n",
    "        rec_list.append([retrain_start, retrain_end])\n",
    "\n",
    "        # If retraining is not desired, omit the next four lines.\n",
    "        X_train = df4.loc[retrain_start:retrain_end, ['category','rating','Mean']]\n",
    "        y_train = df4.loc[retrain_start:retrain_end, \"label\"]\n",
    "        model = LogisticRegression()\n",
    "        model.fit(X_train, y_train)\n",
    "\n",
    "status['original_accuracy'] = acc_orig\n",
    "status['accuracy'] = np.cumsum(status.y_true == status.y_pred)\n",
    "status['accuracy'] = status['accuracy'] / np.cumsum(np.repeat(1, status.shape[0]))"
   ]
  },
  {
   "cell_type": "code",
   "execution_count": null,
   "id": "3667c141",
   "metadata": {},
   "outputs": [],
   "source": [
    "status['accuracy'].tail(1)"
   ]
  },
  {
   "cell_type": "code",
   "execution_count": null,
   "id": "3d06eebd",
   "metadata": {},
   "outputs": [],
   "source": [
    "status['original_accuracy'].tail(1)"
   ]
  },
  {
   "cell_type": "code",
   "execution_count": null,
   "id": "1bbb061d",
   "metadata": {},
   "outputs": [],
   "source": [
    "y_train.unique()"
   ]
  },
  {
   "cell_type": "code",
   "execution_count": null,
   "id": "8dcbf240",
   "metadata": {
    "scrolled": true
   },
   "outputs": [],
   "source": [
    "plt.figure(figsize=(6,4))\n",
    "plt.scatter(\"index\", \"original_accuracy\", data=status, label=\"Original Accuracy\", color='red')\n",
    "plt.scatter(\"index\", \"accuracy\", data=status, label=\"Retrain Accuracy\", color='green')\n",
    "plt.grid(False, axis=\"x\")\n",
    "plt.xticks(fontsize=8)\n",
    "plt.yticks(fontsize=8)\n",
    "plt.title(\"EDDM Results: Accuracy\", fontsize=11)\n",
    "plt.ylabel(\"Value\", fontsize=9)\n",
    "plt.xlabel(\"Index\", fontsize=9)\n",
    "ylims = [-0.05, 1.1]\n",
    "plt.ylim(ylims)\n",
    "\n",
    "plt.axvspan(100, 125, alpha=0.5, label=\"Drift Induction Window\")\n",
    "\n",
    "# Draw orange lines that indicate where warnings of drift were provided\n",
    "plt.vlines(\n",
    "    x=status.loc[status[\"drift_detected\"] == \"warning\"][\"index\"],\n",
    "    ymin=ylims[0],\n",
    "    ymax=ylims[1],\n",
    "    label=\"Warning\",\n",
    "    color=\"orange\",\n",
    "    alpha=0.3,\n",
    ")\n",
    "\n",
    "# Draw red lines that indicate where drift was detected\n",
    "plt.vlines(\n",
    "    x=status.loc[status[\"drift_detected\"] == \"drift\"][\"index\"],\n",
    "    ymin=ylims[0],\n",
    "    ymax=ylims[1],\n",
    "    label=\"Drift Detected\",\n",
    "    color=\"red\",\n",
    ")\n",
    "# Create a list of lines that indicate the retraining windows.\n",
    "# Space them evenly, vertically.\n",
    "rec_list = pd.DataFrame(rec_list)\n",
    "rec_list[\"y_val\"] = np.linspace(\n",
    "    start=0.05 * (ylims[1] - ylims[0]) + ylims[0],\n",
    "    stop=0.2 * ylims[1],\n",
    "    num=len(rec_list),\n",
    ")\n",
    "\n",
    "# Draw green lines that indicate where retraining occurred\n",
    "plt.hlines(\n",
    "    y=rec_list[\"y_val\"],\n",
    "    xmin=rec_list[0],\n",
    "    xmax=rec_list[1],\n",
    "    color=\"green\",\n",
    "    label=\"Retraining Windows\",\n",
    "    alpha=0.3,\n",
    ")\n",
    "\n",
    "plt.legend(loc=\"lower left\")\n",
    "plt.show()\n",
    "# plt.savefig(\"example_EDDM.png\")"
   ]
  },
  {
   "cell_type": "markdown",
   "id": "76343ec1",
   "metadata": {},
   "source": [
    "### RF and EDDM"
   ]
  },
  {
   "cell_type": "code",
   "execution_count": 161,
   "id": "a4bde157",
   "metadata": {},
   "outputs": [],
   "source": [
    "eddm = EDDM(n_threshold=30, warning_thresh=0.7, drift_thresh=0.5)\n",
    "\n",
    "# setup DF to store results\n",
    "status = pd.DataFrame(columns=[\"index\", \"y_true\", \"y_pred\", \"drift_detected\"])\n",
    "rec_list = []"
   ]
  },
  {
   "cell_type": "code",
   "execution_count": 162,
   "id": "a53157e0",
   "metadata": {},
   "outputs": [],
   "source": [
    "for i in range(training_size, len(df4)):\n",
    "\n",
    "    X_test = df4.loc[[i], ['category','rating','Mean']]\n",
    "    y_pred = int(clf.predict(X_test))\n",
    "    y_true = int(df4.loc[[i], \"label\"])\n",
    "\n",
    "    eddm.update(y_true, y_pred)\n",
    "    status.loc[i] = [i, y_true, y_pred, eddm.drift_state]\n",
    "\n",
    "    # If drift is detected, examine the window and retrain.\n",
    "    if eddm.drift_state == \"drift\":\n",
    "        retrain_start = eddm.retraining_recs[0] + training_size\n",
    "        retrain_end = eddm.retraining_recs[1] + training_size\n",
    "        if (\n",
    "            retrain_start == retrain_end\n",
    "        ):  # minimum retraining window in case of sudden drift\n",
    "            retrain_start = max(0, retrain_start - 300)\n",
    "        rec_list.append([retrain_start, retrain_end])\n",
    "\n",
    "        # If retraining is not desired, omit the next four lines.\n",
    "        X_train = df4.loc[retrain_start:retrain_end, ['category','rating','Mean']]\n",
    "        y_train = df4.loc[retrain_start:retrain_end, \"label\"]\n",
    "        clf = RandomForestClassifier(n_estimators = 100) \n",
    "        clf.fit(X_train, y_train)\n",
    "\n",
    "status['original_accuracy'] = acc_orig\n",
    "status['accuracy'] = np.cumsum(status.y_true == status.y_pred)\n",
    "status['accuracy'] = status['accuracy'] / np.cumsum(np.repeat(1, status.shape[0]))"
   ]
  },
  {
   "cell_type": "code",
   "execution_count": 163,
   "id": "f88617cf",
   "metadata": {},
   "outputs": [
    {
     "data": {
      "text/plain": [
       "40431    0.58429\n",
       "Name: accuracy, dtype: float64"
      ]
     },
     "execution_count": 163,
     "metadata": {},
     "output_type": "execute_result"
    }
   ],
   "source": [
    "status['accuracy'].tail(1)"
   ]
  },
  {
   "cell_type": "code",
   "execution_count": 164,
   "id": "87eaac52",
   "metadata": {},
   "outputs": [
    {
     "data": {
      "text/plain": [
       "40431    0.502572\n",
       "Name: original_accuracy, dtype: float64"
      ]
     },
     "execution_count": 164,
     "metadata": {},
     "output_type": "execute_result"
    }
   ],
   "source": [
    "status['original_accuracy'].tail(1)"
   ]
  },
  {
   "cell_type": "code",
   "execution_count": 168,
   "id": "5b6930b6",
   "metadata": {},
   "outputs": [
    {
     "data": {
      "image/png": "[encoded data removed]",
      "text/plain": [
       "<Figure size 432x288 with 1 Axes>"
      ]
     },
     "metadata": {
      "needs_background": "light"
     },
     "output_type": "display_data"
    }
   ],
   "source": [
    "plt.figure(figsize=(6,4))\n",
    "plt.scatter(\"index\", \"original_accuracy\", data=status, label=\"Original Accuracy\", color='red')\n",
    "plt.scatter(\"index\", \"accuracy\", data=status, label=\"Retrain Accuracy\", color='green')\n",
    "plt.grid(False, axis=\"x\")\n",
    "plt.xticks(fontsize=8)\n",
    "plt.yticks(fontsize=8)\n",
    "plt.title(\"EDDM Results: Accuracy\", fontsize=11)\n",
    "plt.ylabel(\"Value\", fontsize=9)\n",
    "plt.xlabel(\"Index\", fontsize=9)\n",
    "ylims = [-0.05, 1.1]\n",
    "plt.ylim(ylims)\n",
    "\n",
    "plt.axvspan(100, 125, alpha=0.5, label=\"Drift Induction Window\")\n",
    "\n",
    "# Draw red lines that indicate where drift was detected\n",
    "plt.vlines(\n",
    "    x=status.loc[status[\"drift_detected\"] == \"drift\"][\"index\"],\n",
    "    ymin=ylims[0],\n",
    "    ymax=ylims[1],\n",
    "    label=\"Drift Detected\",\n",
    "    color=\"red\",\n",
    ")\n",
    "# Create a list of lines that indicate the retraining windows.\n",
    "# Space them evenly, vertically.\n",
    "rec_list = pd.DataFrame(rec_list)\n",
    "rec_list[\"y_val\"] = np.linspace(\n",
    "    start=0.05 * (ylims[1] - ylims[0]) + ylims[0],\n",
    "    stop=0.2 * ylims[1],\n",
    "    num=len(rec_list),\n",
    ")\n",
    "\n",
    "# Draw green lines that indicate where retraining occurred\n",
    "plt.hlines(\n",
    "    y=rec_list[\"y_val\"],\n",
    "    xmin=rec_list[0],\n",
    "    xmax=rec_list[1],\n",
    "    color=\"green\",\n",
    "    label=\"Retraining Windows\",\n",
    "    alpha=0.3,\n",
    ")\n",
    "\n",
    "plt.legend(loc=\"lower left\")\n",
    "plt.show()\n",
    "# plt.savefig(\"example_EDDM.png\")"
   ]
  },
  {
   "cell_type": "markdown",
   "id": "9d97d021",
   "metadata": {},
   "source": [
    "### CNN and EDDM "
   ]
  },
  {
   "cell_type": "code",
   "execution_count": 170,
   "id": "47173358",
   "metadata": {},
   "outputs": [],
   "source": [
    "X_train = df4.loc[0:training_size, ['category','rating','Mean']]\n",
    "y_train = df4.loc[0:training_size, \"label\"]\n",
    "X_test = df4.loc[training_size:len(df4), ['category','rating','Mean']]\n",
    "y_true = df4.loc[training_size:len(df4), \"label\"]"
   ]
  },
  {
   "cell_type": "code",
   "execution_count": 171,
   "id": "ee6e1343",
   "metadata": {},
   "outputs": [],
   "source": [
    "model=Sequential()\n",
    "model.add(Dense(1000,input_dim=3,activation='relu'))\n",
    "model.add(Dense(500,activation='relu'))\n",
    "model.add(Dense(300,activation='relu'))\n",
    "model.add(Dropout(0.2))\n",
    "model.add(Dense(1,activation='softmax'))\n",
    "model.compile(loss='categorical_crossentropy',optimizer='adam',metrics=['accuracy'])"
   ]
  },
  {
   "cell_type": "code",
   "execution_count": 172,
   "id": "dd3ef66f",
   "metadata": {},
   "outputs": [
    {
     "name": "stdout",
     "output_type": "stream",
     "text": [
      "Epoch 1/10\n",
      "1517/1517 [==============================] - 22s 14ms/step - loss: 0.0000e+00 - accuracy: 0.4999 - val_loss: 0.0000e+00 - val_accuracy: 0.5002\n",
      "Epoch 2/10\n",
      "1517/1517 [==============================] - 19s 12ms/step - loss: 0.0000e+00 - accuracy: 0.4999 - val_loss: 0.0000e+00 - val_accuracy: 0.5002\n",
      "Epoch 3/10\n",
      "1517/1517 [==============================] - 20s 13ms/step - loss: 0.0000e+00 - accuracy: 0.4999 - val_loss: 0.0000e+00 - val_accuracy: 0.5002\n",
      "Epoch 4/10\n",
      "1517/1517 [==============================] - 20s 13ms/step - loss: 0.0000e+00 - accuracy: 0.4999 - val_loss: 0.0000e+00 - val_accuracy: 0.5002\n",
      "Epoch 5/10\n",
      "1517/1517 [==============================] - 19s 13ms/step - loss: 0.0000e+00 - accuracy: 0.4999 - val_loss: 0.0000e+00 - val_accuracy: 0.5002\n",
      "Epoch 6/10\n",
      "1517/1517 [==============================] - 19s 13ms/step - loss: 0.0000e+00 - accuracy: 0.4999 - val_loss: 0.0000e+00 - val_accuracy: 0.5002\n",
      "Epoch 7/10\n",
      "1517/1517 [==============================] - 24s 16ms/step - loss: 0.0000e+00 - accuracy: 0.4999 - val_loss: 0.0000e+00 - val_accuracy: 0.5002\n",
      "Epoch 8/10\n",
      "1517/1517 [==============================] - 28s 19ms/step - loss: 0.0000e+00 - accuracy: 0.4999 - val_loss: 0.0000e+00 - val_accuracy: 0.5002\n",
      "Epoch 9/10\n",
      "1517/1517 [==============================] - 23s 15ms/step - loss: 0.0000e+00 - accuracy: 0.4999 - val_loss: 0.0000e+00 - val_accuracy: 0.5002\n",
      "Epoch 10/10\n",
      "1517/1517 [==============================] - 22s 14ms/step - loss: 0.0000e+00 - accuracy: 0.4999 - val_loss: 0.0000e+00 - val_accuracy: 0.5002\n"
     ]
    },
    {
     "data": {
      "text/plain": [
       "<keras.callbacks.History at 0x205b858b220>"
      ]
     },
     "execution_count": 172,
     "metadata": {},
     "output_type": "execute_result"
    }
   ],
   "source": [
    "model.fit(X_train,y_train,validation_data=(X_test,y_true),batch_size=20,epochs=10,verbose=1)"
   ]
  },
  {
   "cell_type": "code",
   "execution_count": 173,
   "id": "3abeae72",
   "metadata": {},
   "outputs": [
    {
     "name": "stdout",
     "output_type": "stream",
     "text": [
      "30324    1.000000\n",
      "30325    1.000000\n",
      "30326    1.000000\n",
      "30327    1.000000\n",
      "30328    1.000000\n",
      "           ...   \n",
      "40427    0.478820\n",
      "40428    0.478872\n",
      "40429    0.478824\n",
      "40430    0.478777\n",
      "40431    0.478730\n",
      "Name: label, Length: 10108, dtype: float64\n"
     ]
    }
   ],
   "source": [
    "acc_orig = np.cumsum(clf.predict(X_test) == y_true)\n",
    "acc_orig = acc_orig / np.arange(1, 1 + len(acc_orig))\n",
    "print(acc_orig)"
   ]
  },
  {
   "cell_type": "code",
   "execution_count": 174,
   "id": "cd6d1321",
   "metadata": {},
   "outputs": [],
   "source": [
    "for i in range(training_size,len(df4)-i):\n",
    "\n",
    "    X_test = df4.loc[[i], ['category','rating','Mean']]\n",
    "    y_pred = int(clf.predict(X_test))\n",
    "    y_true = int(df4.loc[[i], \"label\"])\n",
    "\n",
    "    eddm.update(y_true, y_pred)\n",
    "    status.loc[i] = [\n",
    "        i, y_true, y_pred, eddm.mean(), eddm.drift_state,\n",
    "    ]"
   ]
  },
  {
   "cell_type": "code",
   "execution_count": 175,
   "id": "d16d8875",
   "metadata": {},
   "outputs": [],
   "source": [
    "    # If drift is detected, examine the window and retrain.\n",
    "    if eddm.drift_state == \"drift\":\n",
    "        retrain_start = eddm.retraining_recs[0] + training_size\n",
    "        retrain_end = eddm.retraining_recs[1] + training_size\n",
    "        rec_list.append([retrain_start, retrain_end])\n",
    "\n",
    "        # The retraining recommendations produced here correspond to the samples\n",
    "        # which belong to ADWIN's new, smaller window, after drift is detected.\n",
    "        # If retraining is not desired, omit the next four lines.\n",
    "        X_train = df4.loc[retrain_start:retrain_end, ['category','rating','Mean']]\n",
    "        y_train = df4.loc[retrain_start:retrain_end, \"label\"]\n",
    "        model=Sequential()\n",
    "        model.add(Dense(1000,input_dim=3,activation='relu'))\n",
    "        model.add(Dense(500,activation='relu'))\n",
    "        model.add(Dense(300,activation='relu'))\n",
    "        model.add(Dropout(0.2))\n",
    "        model.add(Dense(1,activation='softmax'))\n",
    "        model.compile(loss='categorical_crossentropy',optimizer='adam',metrics=['accuracy'])\n",
    "        model.fit(X_train,y_train,validation_data=(X_test,y_true),batch_size=20,epochs=10,verbose=1)\n",
    "status['original_accuracy'] = acc_orig\n",
    "status['accuracy'] = np.cumsum(status.y_true == status.y_pred)\n",
    "status['accuracy'] = status['accuracy'] / np.cumsum(np.repeat(1, status.shape[0]))"
   ]
  },
  {
   "cell_type": "code",
   "execution_count": 176,
   "id": "f99c8e31",
   "metadata": {},
   "outputs": [
    {
     "data": {
      "text/plain": [
       "40431    0.47873\n",
       "Name: original_accuracy, dtype: float64"
      ]
     },
     "execution_count": 176,
     "metadata": {},
     "output_type": "execute_result"
    }
   ],
   "source": [
    "status['original_accuracy'].tail(1)"
   ]
  },
  {
   "cell_type": "code",
   "execution_count": 177,
   "id": "a9558da5",
   "metadata": {},
   "outputs": [
    {
     "data": {
      "text/plain": [
       "40431    0.58429\n",
       "Name: accuracy, dtype: float64"
      ]
     },
     "execution_count": 177,
     "metadata": {},
     "output_type": "execute_result"
    }
   ],
   "source": [
    "status['accuracy'].tail(1)"
   ]
  },
  {
   "cell_type": "code",
   "execution_count": 178,
   "id": "cbe302d6",
   "metadata": {},
   "outputs": [
    {
     "data": {
      "image/png": "[encoded data removed]",
      "text/plain": [
       "<Figure size 432x288 with 1 Axes>"
      ]
     },
     "metadata": {
      "needs_background": "light"
     },
     "output_type": "display_data"
    }
   ],
   "source": [
    "plt.figure(figsize=(6,4))\n",
    "plt.scatter(\"index\", \"original_accuracy\", data=status, label=\"Original Accuracy\", color='red')\n",
    "plt.scatter(\"index\", \"accuracy\", data=status, label=\"Retrain Accuracy\", color='green')\n",
    "plt.grid(False, axis=\"x\")\n",
    "plt.xticks(fontsize=8)\n",
    "plt.yticks(fontsize=8)\n",
    "plt.title(\"EDDM Results: Accuracy\", fontsize=11)\n",
    "plt.ylabel(\"Value\", fontsize=9)\n",
    "plt.xlabel(\"Index\", fontsize=9)\n",
    "ylims = [0, 1.1]\n",
    "plt.ylim(ylims)\n",
    "\n",
    "plt.axvspan(1000, 125, alpha=0.5, label=\"Drift Induction Window\")\n",
    "\n",
    "# Draw red lines that indicate where drift was detected\n",
    "plt.vlines(\n",
    "    x=status.loc[status[\"drift_detected\"] == \"drift\"][\"index\"],\n",
    "    ymin=ylims[0],\n",
    "    ymax=ylims[1],\n",
    "    label=\"Drift Detected\",\n",
    "    color=\"red\",\n",
    ")\n",
    "\n",
    "# Create a list of lines that indicate the retraining windows.\n",
    "# Space them evenly, vertically.\n",
    "rec_list = pd.DataFrame(rec_list)\n",
    "rec_list[\"y_val\"] = np.linspace(\n",
    "    start=0.05 * (ylims[1] - ylims[0]) + ylims[0],\n",
    "    stop=0.2 * ylims[1],\n",
    "    num=len(rec_list),\n",
    ")\n",
    "\n",
    "# Draw green lines that indicate where retraining occurred\n",
    "plt.hlines(\n",
    "    y=rec_list[\"y_val\"],\n",
    "    xmin=rec_list[0],\n",
    "    xmax=rec_list[1],\n",
    "    color=\"green\",\n",
    "    label=\"Retraining Windows\",\n",
    ")\n",
    "\n",
    "plt.legend(loc='lower left')\n",
    "plt.show()\n",
    "# plt.savefig(\"example_ADWINAccuracy.png\")"
   ]
  },
  {
   "cell_type": "markdown",
   "id": "61945bc9",
   "metadata": {},
   "source": [
    "### LR and DDM"
   ]
  },
  {
   "cell_type": "code",
   "execution_count": 179,
   "id": "9fe7883b",
   "metadata": {},
   "outputs": [],
   "source": [
    "X_train = df4.loc[0:training_size, ['category','rating','Mean']]\n",
    "y_train = df4.loc[0:training_size, \"label\"]\n",
    "X_test = df4.loc[training_size:len(df4), ['category','rating','Mean']]\n",
    "y_true = df4.loc[training_size:len(df4), \"label\"]"
   ]
  },
  {
   "cell_type": "code",
   "execution_count": 180,
   "id": "90490e01",
   "metadata": {},
   "outputs": [
    {
     "name": "stdout",
     "output_type": "stream",
     "text": [
      "30324    1.000000\n",
      "30325    0.500000\n",
      "30326    0.666667\n",
      "30327    0.750000\n",
      "30328    0.800000\n",
      "           ...   \n",
      "40427    0.502573\n",
      "40428    0.502622\n",
      "40429    0.502672\n",
      "40430    0.502622\n",
      "40431    0.502572\n",
      "Name: label, Length: 10108, dtype: float64\n"
     ]
    }
   ],
   "source": [
    "from sklearn.linear_model import LogisticRegression\n",
    "model = LogisticRegression()\n",
    "model.fit(X_train, y_train)\n",
    "acc_orig = np.cumsum(model.predict(X_test) == y_true)\n",
    "acc_orig = acc_orig / np.arange(1, 1 + len(acc_orig))\n",
    "print(acc_orig)"
   ]
  },
  {
   "cell_type": "code",
   "execution_count": 181,
   "id": "2eb6c51e",
   "metadata": {},
   "outputs": [],
   "source": [
    "ddm = DDM(n_threshold=100, warning_scale=7, drift_scale=10)\n",
    "\n",
    "# setup DF to store results\n",
    "status = pd.DataFrame(columns=[\"index\", \"y_true\", \"y_pred\", \"drift_detected\"])\n",
    "rec_list = []"
   ]
  },
  {
   "cell_type": "code",
   "execution_count": 182,
   "id": "10299916",
   "metadata": {},
   "outputs": [],
   "source": [
    "for i in range(training_size, len(df4)):\n",
    "\n",
    "    X_test = df4.loc[[i], ['category','rating','Mean']]\n",
    "    y_pred = int(model.predict(X_test))\n",
    "    y_true = int(df4.loc[[i], \"label\"])\n",
    "\n",
    "    ddm.update(y_true, y_pred)\n",
    "    status.loc[i] = [i, y_true, y_pred, ddm.drift_state]\n",
    "\n",
    "    # If drift is detected, examine the window and retrain.\n",
    "    if ddm.drift_state == \"drift\":\n",
    "        print(\"Detected at\"+str(i))\n",
    "        retrain_start = ddm.retraining_recs[0] +training_size\n",
    "        retrain_end = ddm.retraining_recs[1] + training_size\n",
    "        if (\n",
    "            retrain_start == retrain_end\n",
    "        ):  # minimum retraining window in case of sudden drift\n",
    "            retrain_start = max(0, retrain_start - 300)\n",
    "        rec_list.append([retrain_start, retrain_end])\n",
    "\n",
    "        # If retraining is not desired, omit the next four lines.\n",
    "        X_train = df4.loc[retrain_start:retrain_end, ['category','rating','Mean']]\n",
    "        y_train = df4.loc[retrain_start:retrain_end, \"label\"]\n",
    "        model = LogisticRegression()\n",
    "        model.fit(X_train, y_train)\n",
    "\n",
    "status['original_accuracy'] = acc_orig\n",
    "status['accuracy'] = np.cumsum(status.y_true == status.y_pred)\n",
    "status['accuracy'] = status['accuracy'] / np.cumsum(np.repeat(1, status.shape[0]))"
   ]
  },
  {
   "cell_type": "code",
   "execution_count": 183,
   "id": "0b9a1561",
   "metadata": {},
   "outputs": [
    {
     "data": {
      "text/plain": [
       "40431    0.502572\n",
       "Name: original_accuracy, dtype: float64"
      ]
     },
     "execution_count": 183,
     "metadata": {},
     "output_type": "execute_result"
    }
   ],
   "source": [
    "status['original_accuracy'].tail(1)"
   ]
  },
  {
   "cell_type": "code",
   "execution_count": 184,
   "id": "8dc87890",
   "metadata": {},
   "outputs": [
    {
     "data": {
      "text/plain": [
       "40431    0.502572\n",
       "Name: accuracy, dtype: float64"
      ]
     },
     "execution_count": 184,
     "metadata": {},
     "output_type": "execute_result"
    }
   ],
   "source": [
    "status['accuracy'].tail(1)"
   ]
  },
  {
   "cell_type": "code",
   "execution_count": 185,
   "id": "eaf6efa8",
   "metadata": {},
   "outputs": [
    {
     "ename": "KeyError",
     "evalue": "0",
     "output_type": "error",
     "traceback": [
      "\u001b[1;31m---------------------------------------------------------------------------\u001b[0m",
      "\u001b[1;31mKeyError\u001b[0m                                  Traceback (most recent call last)",
      "\u001b[1;32m~\\anaconda3\\lib\\site-packages\\pandas\\core\\indexes\\base.py\u001b[0m in \u001b[0;36mget_loc\u001b[1;34m(self, key, method, tolerance)\u001b[0m\n\u001b[0;32m   3360\u001b[0m             \u001b[1;32mtry\u001b[0m\u001b[1;33m:\u001b[0m\u001b[1;33m\u001b[0m\u001b[1;33m\u001b[0m\u001b[0m\n\u001b[1;32m-> 3361\u001b[1;33m                 \u001b[1;32mreturn\u001b[0m \u001b[0mself\u001b[0m\u001b[1;33m.\u001b[0m\u001b[0m_engine\u001b[0m\u001b[1;33m.\u001b[0m\u001b[0mget_loc\u001b[0m\u001b[1;33m(\u001b[0m\u001b[0mcasted_key\u001b[0m\u001b[1;33m)\u001b[0m\u001b[1;33m\u001b[0m\u001b[1;33m\u001b[0m\u001b[0m\n\u001b[0m\u001b[0;32m   3362\u001b[0m             \u001b[1;32mexcept\u001b[0m \u001b[0mKeyError\u001b[0m \u001b[1;32mas\u001b[0m \u001b[0merr\u001b[0m\u001b[1;33m:\u001b[0m\u001b[1;33m\u001b[0m\u001b[1;33m\u001b[0m\u001b[0m\n",
      "\u001b[1;32m~\\anaconda3\\lib\\site-packages\\pandas\\_libs\\index.pyx\u001b[0m in \u001b[0;36mpandas._libs.index.IndexEngine.get_loc\u001b[1;34m()\u001b[0m\n",
      "\u001b[1;32m~\\anaconda3\\lib\\site-packages\\pandas\\_libs\\index.pyx\u001b[0m in \u001b[0;36mpandas._libs.index.IndexEngine.get_loc\u001b[1;34m()\u001b[0m\n",
      "\u001b[1;32mpandas\\_libs\\hashtable_class_helper.pxi\u001b[0m in \u001b[0;36mpandas._libs.hashtable.PyObjectHashTable.get_item\u001b[1;34m()\u001b[0m\n",
      "\u001b[1;32mpandas\\_libs\\hashtable_class_helper.pxi\u001b[0m in \u001b[0;36mpandas._libs.hashtable.PyObjectHashTable.get_item\u001b[1;34m()\u001b[0m\n",
      "\u001b[1;31mKeyError\u001b[0m: 0",
      "\nThe above exception was the direct cause of the following exception:\n",
      "\u001b[1;31mKeyError\u001b[0m                                  Traceback (most recent call last)",
      "\u001b[1;32m~\\AppData\\Local\\Temp/ipykernel_1236/1899501452.py\u001b[0m in \u001b[0;36m<cell line: 45>\u001b[1;34m()\u001b[0m\n\u001b[0;32m     45\u001b[0m plt.hlines(\n\u001b[0;32m     46\u001b[0m     \u001b[0my\u001b[0m\u001b[1;33m=\u001b[0m\u001b[0mrec_list\u001b[0m\u001b[1;33m[\u001b[0m\u001b[1;34m\"y_val\"\u001b[0m\u001b[1;33m]\u001b[0m\u001b[1;33m,\u001b[0m\u001b[1;33m\u001b[0m\u001b[1;33m\u001b[0m\u001b[0m\n\u001b[1;32m---> 47\u001b[1;33m     \u001b[0mxmin\u001b[0m\u001b[1;33m=\u001b[0m\u001b[0mrec_list\u001b[0m\u001b[1;33m[\u001b[0m\u001b[1;36m0\u001b[0m\u001b[1;33m]\u001b[0m\u001b[1;33m,\u001b[0m\u001b[1;33m\u001b[0m\u001b[1;33m\u001b[0m\u001b[0m\n\u001b[0m\u001b[0;32m     48\u001b[0m     \u001b[0mxmax\u001b[0m\u001b[1;33m=\u001b[0m\u001b[0mrec_list\u001b[0m\u001b[1;33m[\u001b[0m\u001b[1;36m1\u001b[0m\u001b[1;33m]\u001b[0m\u001b[1;33m,\u001b[0m\u001b[1;33m\u001b[0m\u001b[1;33m\u001b[0m\u001b[0m\n\u001b[0;32m     49\u001b[0m     \u001b[0mcolor\u001b[0m\u001b[1;33m=\u001b[0m\u001b[1;34m\"green\"\u001b[0m\u001b[1;33m,\u001b[0m\u001b[1;33m\u001b[0m\u001b[1;33m\u001b[0m\u001b[0m\n",
      "\u001b[1;32m~\\anaconda3\\lib\\site-packages\\pandas\\core\\frame.py\u001b[0m in \u001b[0;36m__getitem__\u001b[1;34m(self, key)\u001b[0m\n\u001b[0;32m   3456\u001b[0m             \u001b[1;32mif\u001b[0m \u001b[0mself\u001b[0m\u001b[1;33m.\u001b[0m\u001b[0mcolumns\u001b[0m\u001b[1;33m.\u001b[0m\u001b[0mnlevels\u001b[0m \u001b[1;33m>\u001b[0m \u001b[1;36m1\u001b[0m\u001b[1;33m:\u001b[0m\u001b[1;33m\u001b[0m\u001b[1;33m\u001b[0m\u001b[0m\n\u001b[0;32m   3457\u001b[0m                 \u001b[1;32mreturn\u001b[0m \u001b[0mself\u001b[0m\u001b[1;33m.\u001b[0m\u001b[0m_getitem_multilevel\u001b[0m\u001b[1;33m(\u001b[0m\u001b[0mkey\u001b[0m\u001b[1;33m)\u001b[0m\u001b[1;33m\u001b[0m\u001b[1;33m\u001b[0m\u001b[0m\n\u001b[1;32m-> 3458\u001b[1;33m             \u001b[0mindexer\u001b[0m \u001b[1;33m=\u001b[0m \u001b[0mself\u001b[0m\u001b[1;33m.\u001b[0m\u001b[0mcolumns\u001b[0m\u001b[1;33m.\u001b[0m\u001b[0mget_loc\u001b[0m\u001b[1;33m(\u001b[0m\u001b[0mkey\u001b[0m\u001b[1;33m)\u001b[0m\u001b[1;33m\u001b[0m\u001b[1;33m\u001b[0m\u001b[0m\n\u001b[0m\u001b[0;32m   3459\u001b[0m             \u001b[1;32mif\u001b[0m \u001b[0mis_integer\u001b[0m\u001b[1;33m(\u001b[0m\u001b[0mindexer\u001b[0m\u001b[1;33m)\u001b[0m\u001b[1;33m:\u001b[0m\u001b[1;33m\u001b[0m\u001b[1;33m\u001b[0m\u001b[0m\n\u001b[0;32m   3460\u001b[0m                 \u001b[0mindexer\u001b[0m \u001b[1;33m=\u001b[0m \u001b[1;33m[\u001b[0m\u001b[0mindexer\u001b[0m\u001b[1;33m]\u001b[0m\u001b[1;33m\u001b[0m\u001b[1;33m\u001b[0m\u001b[0m\n",
      "\u001b[1;32m~\\anaconda3\\lib\\site-packages\\pandas\\core\\indexes\\base.py\u001b[0m in \u001b[0;36mget_loc\u001b[1;34m(self, key, method, tolerance)\u001b[0m\n\u001b[0;32m   3361\u001b[0m                 \u001b[1;32mreturn\u001b[0m \u001b[0mself\u001b[0m\u001b[1;33m.\u001b[0m\u001b[0m_engine\u001b[0m\u001b[1;33m.\u001b[0m\u001b[0mget_loc\u001b[0m\u001b[1;33m(\u001b[0m\u001b[0mcasted_key\u001b[0m\u001b[1;33m)\u001b[0m\u001b[1;33m\u001b[0m\u001b[1;33m\u001b[0m\u001b[0m\n\u001b[0;32m   3362\u001b[0m             \u001b[1;32mexcept\u001b[0m \u001b[0mKeyError\u001b[0m \u001b[1;32mas\u001b[0m \u001b[0merr\u001b[0m\u001b[1;33m:\u001b[0m\u001b[1;33m\u001b[0m\u001b[1;33m\u001b[0m\u001b[0m\n\u001b[1;32m-> 3363\u001b[1;33m                 \u001b[1;32mraise\u001b[0m \u001b[0mKeyError\u001b[0m\u001b[1;33m(\u001b[0m\u001b[0mkey\u001b[0m\u001b[1;33m)\u001b[0m \u001b[1;32mfrom\u001b[0m \u001b[0merr\u001b[0m\u001b[1;33m\u001b[0m\u001b[1;33m\u001b[0m\u001b[0m\n\u001b[0m\u001b[0;32m   3364\u001b[0m \u001b[1;33m\u001b[0m\u001b[0m\n\u001b[0;32m   3365\u001b[0m         \u001b[1;32mif\u001b[0m \u001b[0mis_scalar\u001b[0m\u001b[1;33m(\u001b[0m\u001b[0mkey\u001b[0m\u001b[1;33m)\u001b[0m \u001b[1;32mand\u001b[0m \u001b[0misna\u001b[0m\u001b[1;33m(\u001b[0m\u001b[0mkey\u001b[0m\u001b[1;33m)\u001b[0m \u001b[1;32mand\u001b[0m \u001b[1;32mnot\u001b[0m \u001b[0mself\u001b[0m\u001b[1;33m.\u001b[0m\u001b[0mhasnans\u001b[0m\u001b[1;33m:\u001b[0m\u001b[1;33m\u001b[0m\u001b[1;33m\u001b[0m\u001b[0m\n",
      "\u001b[1;31mKeyError\u001b[0m: 0"
     ]
    },
    {
     "data": {
      "image/png": "[encoded data removed]",
      "text/plain": [
       "<Figure size 432x288 with 1 Axes>"
      ]
     },
     "metadata": {
      "needs_background": "light"
     },
     "output_type": "display_data"
    }
   ],
   "source": [
    "plt.figure(figsize=(6,4))\n",
    "plt.scatter(\"index\", \"original_accuracy\", data=status, label=\"Original Accuracy\", color='red')\n",
    "plt.scatter(\"index\", \"accuracy\", data=status, label=\"Retrain Accuracy\", color='green')\n",
    "plt.grid(False, axis=\"x\")\n",
    "plt.xticks(fontsize=8)\n",
    "plt.yticks(fontsize=8)\n",
    "plt.title(\"DDM Results: Accuracy\", fontsize=11)\n",
    "plt.ylabel(\"Value\", fontsize=9)\n",
    "plt.xlabel(\"Index\", fontsize=9)\n",
    "ylims = [-0.05, 1.1]\n",
    "plt.ylim(ylims)\n",
    "\n",
    "plt.axvspan(100, 125, alpha=0.5, label=\"Drift Induction Window\")\n",
    "\n",
    "# Draw red lines that indicate where drift was detected\n",
    "plt.vlines(\n",
    "    x=status.loc[status[\"drift_detected\"] == \"drift\"][\"index\"],\n",
    "    ymin=ylims[0],\n",
    "    ymax=ylims[1],\n",
    "    label=\"Drift Detected\",\n",
    "    color=\"red\",\n",
    "    linewidth=3,\n",
    ")\n",
    "\n",
    "# Draw orange lines that indicate where warnings of drift were provided\n",
    "plt.vlines(\n",
    "    x=status.loc[status[\"drift_detected\"] == \"warning\"][\"index\"],\n",
    "    ymin=ylims[0],\n",
    "    ymax=ylims[1],\n",
    "    label=\"Warning\",\n",
    "    color=\"orange\",\n",
    "    alpha=0.3,\n",
    ")\n",
    "\n",
    "# Create a list of lines that indicate the retraining windows.\n",
    "# Space them evenly, vertically.\n",
    "rec_list = pd.DataFrame(rec_list)\n",
    "rec_list[\"y_val\"] = np.linspace(\n",
    "    start=0.05 * (ylims[1] - ylims[0]) + ylims[0],\n",
    "    stop=0.2 * ylims[1],\n",
    "    num=len(rec_list),\n",
    ")\n",
    "\n",
    "# Draw green lines that indicate where retraining occurred\n",
    "plt.hlines(\n",
    "    y=rec_list[\"y_val\"],\n",
    "    xmin=rec_list[0],\n",
    "    xmax=rec_list[1],\n",
    "    color=\"green\",\n",
    "    label=\"Retraining Windows\",\n",
    ")\n",
    "\n",
    "plt.legend(loc=\"Lower Left\")\n",
    "plt.show()\n",
    "# plt.savefig(\"example_DDM.png\")"
   ]
  },
  {
   "cell_type": "markdown",
   "id": "e29442e0",
   "metadata": {},
   "source": [
    "### RF and DDM"
   ]
  },
  {
   "cell_type": "code",
   "execution_count": 186,
   "id": "7897517d",
   "metadata": {},
   "outputs": [],
   "source": [
    "ddm = DDM(n_threshold=100, warning_scale=7, drift_scale=10)\n",
    "\n",
    "# setup DF to store results\n",
    "status = pd.DataFrame(columns=[\"index\", \"y_true\", \"y_pred\", \"drift_detected\"])\n",
    "rec_list = []"
   ]
  },
  {
   "cell_type": "code",
   "execution_count": 187,
   "id": "fe5184ce",
   "metadata": {},
   "outputs": [],
   "source": [
    "for i in range(training_size, len(df3)):\n",
    "\n",
    "    X_test = df4.loc[[i], ['category','rating','Mean']]\n",
    "    y_pred = int(clf.predict(X_test))\n",
    "    y_true = int(df4.loc[[i], \"label\"])\n",
    "\n",
    "    ddm.update(y_true, y_pred)\n",
    "    status.loc[i] = [i, y_true, y_pred, ddm.drift_state]\n",
    "\n",
    "    # If drift is detected, examine the window and retrain.\n",
    "    if ddm.drift_state == \"drift\":\n",
    "        print(\"Detected at\"+str(i))\n",
    "        retrain_start = ddm.retraining_recs[0] +training_size\n",
    "        retrain_end = ddm.retraining_recs[1] + training_size\n",
    "        if (\n",
    "            retrain_start == retrain_end\n",
    "        ):  # minimum retraining window in case of sudden drift\n",
    "            retrain_start = max(0, retrain_start - 300)\n",
    "        rec_list.append([retrain_start, retrain_end])\n",
    "\n",
    "        # If retraining is not desired, omit the next four lines.\n",
    "        X_train = df4.loc[retrain_start:retrain_end, ['category','rating','Mean']]\n",
    "        y_train = df4.loc[retrain_start:retrain_end, \"label\"]\n",
    "        clf = RandomForestClassifier(n_estimators = 100) \n",
    "        clf.fit(X_train, y_train)\n",
    "\n",
    "status['original_accuracy'] = acc_orig\n",
    "status['accuracy'] = np.cumsum(status.y_true == status.y_pred)\n",
    "status['accuracy'] = status['accuracy'] / np.cumsum(np.repeat(1, status.shape[0]))"
   ]
  },
  {
   "cell_type": "code",
   "execution_count": 188,
   "id": "4da69a57",
   "metadata": {},
   "outputs": [
    {
     "data": {
      "text/plain": [
       "40431    0.502572\n",
       "Name: original_accuracy, dtype: float64"
      ]
     },
     "execution_count": 188,
     "metadata": {},
     "output_type": "execute_result"
    }
   ],
   "source": [
    "status['original_accuracy'].tail(1)"
   ]
  },
  {
   "cell_type": "code",
   "execution_count": 189,
   "id": "a8e633d6",
   "metadata": {},
   "outputs": [
    {
     "data": {
      "text/plain": [
       "40431    0.47873\n",
       "Name: accuracy, dtype: float64"
      ]
     },
     "execution_count": 189,
     "metadata": {},
     "output_type": "execute_result"
    }
   ],
   "source": [
    "status['accuracy'].tail(1)"
   ]
  },
  {
   "cell_type": "code",
   "execution_count": 190,
   "id": "dec2eb15",
   "metadata": {},
   "outputs": [
    {
     "ename": "KeyError",
     "evalue": "0",
     "output_type": "error",
     "traceback": [
      "\u001b[1;31m---------------------------------------------------------------------------\u001b[0m",
      "\u001b[1;31mKeyError\u001b[0m                                  Traceback (most recent call last)",
      "\u001b[1;32m~\\anaconda3\\lib\\site-packages\\pandas\\core\\indexes\\base.py\u001b[0m in \u001b[0;36mget_loc\u001b[1;34m(self, key, method, tolerance)\u001b[0m\n\u001b[0;32m   3360\u001b[0m             \u001b[1;32mtry\u001b[0m\u001b[1;33m:\u001b[0m\u001b[1;33m\u001b[0m\u001b[1;33m\u001b[0m\u001b[0m\n\u001b[1;32m-> 3361\u001b[1;33m                 \u001b[1;32mreturn\u001b[0m \u001b[0mself\u001b[0m\u001b[1;33m.\u001b[0m\u001b[0m_engine\u001b[0m\u001b[1;33m.\u001b[0m\u001b[0mget_loc\u001b[0m\u001b[1;33m(\u001b[0m\u001b[0mcasted_key\u001b[0m\u001b[1;33m)\u001b[0m\u001b[1;33m\u001b[0m\u001b[1;33m\u001b[0m\u001b[0m\n\u001b[0m\u001b[0;32m   3362\u001b[0m             \u001b[1;32mexcept\u001b[0m \u001b[0mKeyError\u001b[0m \u001b[1;32mas\u001b[0m \u001b[0merr\u001b[0m\u001b[1;33m:\u001b[0m\u001b[1;33m\u001b[0m\u001b[1;33m\u001b[0m\u001b[0m\n",
      "\u001b[1;32m~\\anaconda3\\lib\\site-packages\\pandas\\_libs\\index.pyx\u001b[0m in \u001b[0;36mpandas._libs.index.IndexEngine.get_loc\u001b[1;34m()\u001b[0m\n",
      "\u001b[1;32m~\\anaconda3\\lib\\site-packages\\pandas\\_libs\\index.pyx\u001b[0m in \u001b[0;36mpandas._libs.index.IndexEngine.get_loc\u001b[1;34m()\u001b[0m\n",
      "\u001b[1;32mpandas\\_libs\\hashtable_class_helper.pxi\u001b[0m in \u001b[0;36mpandas._libs.hashtable.PyObjectHashTable.get_item\u001b[1;34m()\u001b[0m\n",
      "\u001b[1;32mpandas\\_libs\\hashtable_class_helper.pxi\u001b[0m in \u001b[0;36mpandas._libs.hashtable.PyObjectHashTable.get_item\u001b[1;34m()\u001b[0m\n",
      "\u001b[1;31mKeyError\u001b[0m: 0",
      "\nThe above exception was the direct cause of the following exception:\n",
      "\u001b[1;31mKeyError\u001b[0m                                  Traceback (most recent call last)",
      "\u001b[1;32m~\\AppData\\Local\\Temp/ipykernel_1236/1899501452.py\u001b[0m in \u001b[0;36m<cell line: 45>\u001b[1;34m()\u001b[0m\n\u001b[0;32m     45\u001b[0m plt.hlines(\n\u001b[0;32m     46\u001b[0m     \u001b[0my\u001b[0m\u001b[1;33m=\u001b[0m\u001b[0mrec_list\u001b[0m\u001b[1;33m[\u001b[0m\u001b[1;34m\"y_val\"\u001b[0m\u001b[1;33m]\u001b[0m\u001b[1;33m,\u001b[0m\u001b[1;33m\u001b[0m\u001b[1;33m\u001b[0m\u001b[0m\n\u001b[1;32m---> 47\u001b[1;33m     \u001b[0mxmin\u001b[0m\u001b[1;33m=\u001b[0m\u001b[0mrec_list\u001b[0m\u001b[1;33m[\u001b[0m\u001b[1;36m0\u001b[0m\u001b[1;33m]\u001b[0m\u001b[1;33m,\u001b[0m\u001b[1;33m\u001b[0m\u001b[1;33m\u001b[0m\u001b[0m\n\u001b[0m\u001b[0;32m     48\u001b[0m     \u001b[0mxmax\u001b[0m\u001b[1;33m=\u001b[0m\u001b[0mrec_list\u001b[0m\u001b[1;33m[\u001b[0m\u001b[1;36m1\u001b[0m\u001b[1;33m]\u001b[0m\u001b[1;33m,\u001b[0m\u001b[1;33m\u001b[0m\u001b[1;33m\u001b[0m\u001b[0m\n\u001b[0;32m     49\u001b[0m     \u001b[0mcolor\u001b[0m\u001b[1;33m=\u001b[0m\u001b[1;34m\"green\"\u001b[0m\u001b[1;33m,\u001b[0m\u001b[1;33m\u001b[0m\u001b[1;33m\u001b[0m\u001b[0m\n",
      "\u001b[1;32m~\\anaconda3\\lib\\site-packages\\pandas\\core\\frame.py\u001b[0m in \u001b[0;36m__getitem__\u001b[1;34m(self, key)\u001b[0m\n\u001b[0;32m   3456\u001b[0m             \u001b[1;32mif\u001b[0m \u001b[0mself\u001b[0m\u001b[1;33m.\u001b[0m\u001b[0mcolumns\u001b[0m\u001b[1;33m.\u001b[0m\u001b[0mnlevels\u001b[0m \u001b[1;33m>\u001b[0m \u001b[1;36m1\u001b[0m\u001b[1;33m:\u001b[0m\u001b[1;33m\u001b[0m\u001b[1;33m\u001b[0m\u001b[0m\n\u001b[0;32m   3457\u001b[0m                 \u001b[1;32mreturn\u001b[0m \u001b[0mself\u001b[0m\u001b[1;33m.\u001b[0m\u001b[0m_getitem_multilevel\u001b[0m\u001b[1;33m(\u001b[0m\u001b[0mkey\u001b[0m\u001b[1;33m)\u001b[0m\u001b[1;33m\u001b[0m\u001b[1;33m\u001b[0m\u001b[0m\n\u001b[1;32m-> 3458\u001b[1;33m             \u001b[0mindexer\u001b[0m \u001b[1;33m=\u001b[0m \u001b[0mself\u001b[0m\u001b[1;33m.\u001b[0m\u001b[0mcolumns\u001b[0m\u001b[1;33m.\u001b[0m\u001b[0mget_loc\u001b[0m\u001b[1;33m(\u001b[0m\u001b[0mkey\u001b[0m\u001b[1;33m)\u001b[0m\u001b[1;33m\u001b[0m\u001b[1;33m\u001b[0m\u001b[0m\n\u001b[0m\u001b[0;32m   3459\u001b[0m             \u001b[1;32mif\u001b[0m \u001b[0mis_integer\u001b[0m\u001b[1;33m(\u001b[0m\u001b[0mindexer\u001b[0m\u001b[1;33m)\u001b[0m\u001b[1;33m:\u001b[0m\u001b[1;33m\u001b[0m\u001b[1;33m\u001b[0m\u001b[0m\n\u001b[0;32m   3460\u001b[0m                 \u001b[0mindexer\u001b[0m \u001b[1;33m=\u001b[0m \u001b[1;33m[\u001b[0m\u001b[0mindexer\u001b[0m\u001b[1;33m]\u001b[0m\u001b[1;33m\u001b[0m\u001b[1;33m\u001b[0m\u001b[0m\n",
      "\u001b[1;32m~\\anaconda3\\lib\\site-packages\\pandas\\core\\indexes\\base.py\u001b[0m in \u001b[0;36mget_loc\u001b[1;34m(self, key, method, tolerance)\u001b[0m\n\u001b[0;32m   3361\u001b[0m                 \u001b[1;32mreturn\u001b[0m \u001b[0mself\u001b[0m\u001b[1;33m.\u001b[0m\u001b[0m_engine\u001b[0m\u001b[1;33m.\u001b[0m\u001b[0mget_loc\u001b[0m\u001b[1;33m(\u001b[0m\u001b[0mcasted_key\u001b[0m\u001b[1;33m)\u001b[0m\u001b[1;33m\u001b[0m\u001b[1;33m\u001b[0m\u001b[0m\n\u001b[0;32m   3362\u001b[0m             \u001b[1;32mexcept\u001b[0m \u001b[0mKeyError\u001b[0m \u001b[1;32mas\u001b[0m \u001b[0merr\u001b[0m\u001b[1;33m:\u001b[0m\u001b[1;33m\u001b[0m\u001b[1;33m\u001b[0m\u001b[0m\n\u001b[1;32m-> 3363\u001b[1;33m                 \u001b[1;32mraise\u001b[0m \u001b[0mKeyError\u001b[0m\u001b[1;33m(\u001b[0m\u001b[0mkey\u001b[0m\u001b[1;33m)\u001b[0m \u001b[1;32mfrom\u001b[0m \u001b[0merr\u001b[0m\u001b[1;33m\u001b[0m\u001b[1;33m\u001b[0m\u001b[0m\n\u001b[0m\u001b[0;32m   3364\u001b[0m \u001b[1;33m\u001b[0m\u001b[0m\n\u001b[0;32m   3365\u001b[0m         \u001b[1;32mif\u001b[0m \u001b[0mis_scalar\u001b[0m\u001b[1;33m(\u001b[0m\u001b[0mkey\u001b[0m\u001b[1;33m)\u001b[0m \u001b[1;32mand\u001b[0m \u001b[0misna\u001b[0m\u001b[1;33m(\u001b[0m\u001b[0mkey\u001b[0m\u001b[1;33m)\u001b[0m \u001b[1;32mand\u001b[0m \u001b[1;32mnot\u001b[0m \u001b[0mself\u001b[0m\u001b[1;33m.\u001b[0m\u001b[0mhasnans\u001b[0m\u001b[1;33m:\u001b[0m\u001b[1;33m\u001b[0m\u001b[1;33m\u001b[0m\u001b[0m\n",
      "\u001b[1;31mKeyError\u001b[0m: 0"
     ]
    },
    {
     "data": {
      "image/png": "[encoded data removed]",
      "text/plain": [
       "<Figure size 432x288 with 1 Axes>"
      ]
     },
     "metadata": {
      "needs_background": "light"
     },
     "output_type": "display_data"
    }
   ],
   "source": [
    "plt.figure(figsize=(6,4))\n",
    "plt.scatter(\"index\", \"original_accuracy\", data=status, label=\"Original Accuracy\", color='red')\n",
    "plt.scatter(\"index\", \"accuracy\", data=status, label=\"Retrain Accuracy\", color='green')\n",
    "plt.grid(False, axis=\"x\")\n",
    "plt.xticks(fontsize=8)\n",
    "plt.yticks(fontsize=8)\n",
    "plt.title(\"DDM Results: Accuracy\", fontsize=11)\n",
    "plt.ylabel(\"Value\", fontsize=9)\n",
    "plt.xlabel(\"Index\", fontsize=9)\n",
    "ylims = [-0.05, 1.1]\n",
    "plt.ylim(ylims)\n",
    "\n",
    "plt.axvspan(100, 125, alpha=0.5, label=\"Drift Induction Window\")\n",
    "\n",
    "# Draw red lines that indicate where drift was detected\n",
    "plt.vlines(\n",
    "    x=status.loc[status[\"drift_detected\"] == \"drift\"][\"index\"],\n",
    "    ymin=ylims[0],\n",
    "    ymax=ylims[1],\n",
    "    label=\"Drift Detected\",\n",
    "    color=\"red\",\n",
    "    linewidth=3,\n",
    ")\n",
    "\n",
    "# Draw orange lines that indicate where warnings of drift were provided\n",
    "plt.vlines(\n",
    "    x=status.loc[status[\"drift_detected\"] == \"warning\"][\"index\"],\n",
    "    ymin=ylims[0],\n",
    "    ymax=ylims[1],\n",
    "    label=\"Warning\",\n",
    "    color=\"orange\",\n",
    "    alpha=0.3,\n",
    ")\n",
    "\n",
    "# Create a list of lines that indicate the retraining windows.\n",
    "# Space them evenly, vertically.\n",
    "rec_list = pd.DataFrame(rec_list)\n",
    "rec_list[\"y_val\"] = np.linspace(\n",
    "    start=0.05 * (ylims[1] - ylims[0]) + ylims[0],\n",
    "    stop=0.2 * ylims[1],\n",
    "    num=len(rec_list),\n",
    ")\n",
    "\n",
    "# Draw green lines that indicate where retraining occurred\n",
    "plt.hlines(\n",
    "    y=rec_list[\"y_val\"],\n",
    "    xmin=rec_list[0],\n",
    "    xmax=rec_list[1],\n",
    "    color=\"green\",\n",
    "    label=\"Retraining Windows\",\n",
    ")\n",
    "\n",
    "plt.legend(loc=\"Lower Left\")\n",
    "plt.show()\n",
    "# plt.savefig(\"example_DDM.png\")"
   ]
  },
  {
   "cell_type": "markdown",
   "id": "d82758d9",
   "metadata": {},
   "source": [
    "### NB and DDM "
   ]
  },
  {
   "cell_type": "code",
   "execution_count": 191,
   "id": "03e7f900",
   "metadata": {},
   "outputs": [],
   "source": [
    "np.random.seed(123)\n",
    "# setup classifier: train on first training_size rows\n",
    "X_train = df4.loc[0:training_size, ['category','rating','Mean']]\n",
    "y_train = df4.loc[0:training_size, \"label\"]\n",
    "X_test = df4.loc[training_size:len(df4),  ['category','rating','Mean']]\n",
    "y_true = df4.loc[training_size:len(df4), \"label\"]\n",
    "\n",
    "clf = GaussianNB()\n",
    "clf.fit(X_train, y_train)\n",
    "\n",
    "acc_orig = np.cumsum(clf.predict(X_test) == y_true)\n",
    "acc_orig = acc_orig / np.arange(1, 1 + len(acc_orig))"
   ]
  },
  {
   "cell_type": "code",
   "execution_count": 192,
   "id": "b71c099a",
   "metadata": {},
   "outputs": [],
   "source": [
    "ddm = DDM(n_threshold=100, warning_scale=7, drift_scale=10)\n",
    "\n",
    "# setup DF to store results\n",
    "status = pd.DataFrame(columns=[\"index\", \"y_true\", \"y_pred\", \"drift_detected\"])\n",
    "rec_list = []"
   ]
  },
  {
   "cell_type": "code",
   "execution_count": 193,
   "id": "cd8f3ebc",
   "metadata": {},
   "outputs": [
    {
     "name": "stdout",
     "output_type": "stream",
     "text": [
      "Detected at33842\n",
      "Detected at40387\n"
     ]
    }
   ],
   "source": [
    "for i in range(training_size, len(df4)):\n",
    "\n",
    "    X_test = df3.loc[[i], ['category','rating','Mean']]\n",
    "    y_pred = int(clf.predict(X_test))\n",
    "    y_true = int(df3.loc[[i], \"label\"])\n",
    "\n",
    "    ddm.update(y_true, y_pred)\n",
    "    status.loc[i] = [i, y_true, y_pred, ddm.drift_state]\n",
    "\n",
    "    # If drift is detected, examine the window and retrain.\n",
    "    if ddm.drift_state == \"drift\":\n",
    "        print(\"Detected at\"+str(i))\n",
    "        retrain_start = ddm.retraining_recs[0] +training_size\n",
    "        retrain_end = ddm.retraining_recs[1] + training_size\n",
    "        if (\n",
    "            retrain_start == retrain_end\n",
    "        ):  # minimum retraining window in case of sudden drift\n",
    "            retrain_start = max(0, retrain_start - 300)\n",
    "        rec_list.append([retrain_start, retrain_end])\n",
    "\n",
    "        # If retraining is not desired, omit the next four lines.\n",
    "        X_train = df4.loc[retrain_start:retrain_end, ['category','rating','Mean']]\n",
    "        y_train = df4.loc[retrain_start:retrain_end, \"label\"]\n",
    "        clf = GaussianNB()\n",
    "        clf.fit(X_train, y_train)\n",
    "\n",
    "status['original_accuracy'] = acc_orig\n",
    "status['accuracy'] = np.cumsum(status.y_true == status.y_pred)\n",
    "status['accuracy'] = status['accuracy'] / np.cumsum(np.repeat(1, status.shape[0]))"
   ]
  },
  {
   "cell_type": "code",
   "execution_count": 194,
   "id": "b0af3d59",
   "metadata": {},
   "outputs": [
    {
     "data": {
      "text/plain": [
       "40431    0.582905\n",
       "Name: accuracy, dtype: float64"
      ]
     },
     "execution_count": 194,
     "metadata": {},
     "output_type": "execute_result"
    }
   ],
   "source": [
    "status['accuracy'].tail(1)"
   ]
  },
  {
   "cell_type": "code",
   "execution_count": 195,
   "id": "472d60d5",
   "metadata": {},
   "outputs": [
    {
     "data": {
      "text/plain": [
       "40431    0.580431\n",
       "Name: original_accuracy, dtype: float64"
      ]
     },
     "execution_count": 195,
     "metadata": {},
     "output_type": "execute_result"
    }
   ],
   "source": [
    "status['original_accuracy'].tail(1)"
   ]
  },
  {
   "cell_type": "code",
   "execution_count": 197,
   "id": "fc6bd435",
   "metadata": {},
   "outputs": [
    {
     "data": {
      "image/png": "[encoded data removed]",
      "text/plain": [
       "<Figure size 432x288 with 1 Axes>"
      ]
     },
     "metadata": {
      "needs_background": "light"
     },
     "output_type": "display_data"
    }
   ],
   "source": [
    "plt.figure(figsize=(6,4))\n",
    "plt.scatter(\"index\", \"original_accuracy\", data=status, label=\"Original Accuracy\", color='red')\n",
    "plt.scatter(\"index\", \"accuracy\", data=status, label=\"Retrain Accuracy\", color='green')\n",
    "plt.grid(False, axis=\"x\")\n",
    "plt.xticks(fontsize=8)\n",
    "plt.yticks(fontsize=8)\n",
    "plt.title(\"DDM Results: Accuracy\", fontsize=11)\n",
    "plt.ylabel(\"Value\", fontsize=9)\n",
    "plt.xlabel(\"Index\", fontsize=9)\n",
    "ylims = [-0.05, 1.1]\n",
    "plt.ylim(ylims)\n",
    "\n",
    "plt.axvspan(100, 125, alpha=0.5, label=\"Drift Induction Window\")\n",
    "\n",
    "# Draw red lines that indicate where drift was detected\n",
    "plt.vlines(\n",
    "    x=status.loc[status[\"drift_detected\"] == \"drift\"][\"index\"],\n",
    "    ymin=ylims[0],\n",
    "    ymax=ylims[1],\n",
    "    label=\"Drift Detected\",\n",
    "    color=\"red\",\n",
    "    linewidth=3,\n",
    ")\n",
    "\n",
    "# Draw orange lines that indicate where warnings of drift were provided\n",
    "plt.vlines(\n",
    "    x=status.loc[status[\"drift_detected\"] == \"warning\"][\"index\"],\n",
    "    ymin=ylims[0],\n",
    "    ymax=ylims[1],\n",
    "    label=\"Warning\",\n",
    "    color=\"orange\",\n",
    "    alpha=0.3,\n",
    ")\n",
    "\n",
    "# Create a list of lines that indicate the retraining windows.\n",
    "# Space them evenly, vertically.\n",
    "rec_list = pd.DataFrame(rec_list)\n",
    "rec_list[\"y_val\"] = np.linspace(\n",
    "    start=0.05 * (ylims[1] - ylims[0]) + ylims[0],\n",
    "    stop=0.2 * ylims[1],\n",
    "    num=len(rec_list),\n",
    ")\n",
    "\n",
    "# Draw green lines that indicate where retraining occurred\n",
    "plt.hlines(\n",
    "    y=rec_list[\"y_val\"],\n",
    "    xmin=rec_list[0],\n",
    "    xmax=rec_list[1],\n",
    "    color=\"green\",\n",
    "    label=\"Retraining Windows\",\n",
    ")\n",
    "\n",
    "plt.legend(loc=\"lower left\")\n",
    "plt.show()\n",
    "# plt.savefig(\"example_DDM.png\")"
   ]
  },
  {
   "cell_type": "markdown",
   "id": "20121d11",
   "metadata": {},
   "source": [
    "### CNN and DDM "
   ]
  },
  {
   "cell_type": "code",
   "execution_count": 198,
   "id": "3e9466a8",
   "metadata": {},
   "outputs": [],
   "source": [
    "X_train = df4.loc[0:training_size, ['category','rating','Mean']]\n",
    "y_train = df4.loc[0:training_size, \"label\"]\n",
    "X_test = df4.loc[training_size:len(df4), ['category','rating','Mean']]\n",
    "y_true = df4.loc[training_size:len(df4), \"label\"]"
   ]
  },
  {
   "cell_type": "code",
   "execution_count": 199,
   "id": "d16e42ee",
   "metadata": {},
   "outputs": [],
   "source": [
    "model=Sequential()\n",
    "model.add(Dense(1000,input_dim=3,activation='relu'))\n",
    "model.add(Dense(500,activation='relu'))\n",
    "model.add(Dense(300,activation='relu'))\n",
    "model.add(Dropout(0.2))\n",
    "model.add(Dense(1,activation='softmax'))\n",
    "model.compile(loss='categorical_crossentropy',optimizer='adam',metrics=['accuracy'])"
   ]
  },
  {
   "cell_type": "code",
   "execution_count": 200,
   "id": "d470ba5c",
   "metadata": {},
   "outputs": [
    {
     "name": "stdout",
     "output_type": "stream",
     "text": [
      "Epoch 1/10\n",
      "1517/1517 [==============================] - 21s 13ms/step - loss: 0.0000e+00 - accuracy: 0.4999 - val_loss: 0.0000e+00 - val_accuracy: 0.5002\n",
      "Epoch 2/10\n",
      "1517/1517 [==============================] - 19s 13ms/step - loss: 0.0000e+00 - accuracy: 0.4999 - val_loss: 0.0000e+00 - val_accuracy: 0.5002\n",
      "Epoch 3/10\n",
      "1517/1517 [==============================] - 23s 15ms/step - loss: 0.0000e+00 - accuracy: 0.4999 - val_loss: 0.0000e+00 - val_accuracy: 0.5002\n",
      "Epoch 4/10\n",
      "1517/1517 [==============================] - 22s 14ms/step - loss: 0.0000e+00 - accuracy: 0.4999 - val_loss: 0.0000e+00 - val_accuracy: 0.5002\n",
      "Epoch 5/10\n",
      "1517/1517 [==============================] - 23s 15ms/step - loss: 0.0000e+00 - accuracy: 0.4999 - val_loss: 0.0000e+00 - val_accuracy: 0.5002\n",
      "Epoch 6/10\n",
      "1517/1517 [==============================] - 21s 14ms/step - loss: 0.0000e+00 - accuracy: 0.4999 - val_loss: 0.0000e+00 - val_accuracy: 0.5002\n",
      "Epoch 7/10\n",
      "1517/1517 [==============================] - 20s 13ms/step - loss: 0.0000e+00 - accuracy: 0.4999 - val_loss: 0.0000e+00 - val_accuracy: 0.5002\n",
      "Epoch 8/10\n",
      "1517/1517 [==============================] - 21s 14ms/step - loss: 0.0000e+00 - accuracy: 0.4999 - val_loss: 0.0000e+00 - val_accuracy: 0.5002\n",
      "Epoch 9/10\n",
      "1517/1517 [==============================] - 22s 15ms/step - loss: 0.0000e+00 - accuracy: 0.4999 - val_loss: 0.0000e+00 - val_accuracy: 0.5002\n",
      "Epoch 10/10\n",
      "1517/1517 [==============================] - 21s 14ms/step - loss: 0.0000e+00 - accuracy: 0.4999 - val_loss: 0.0000e+00 - val_accuracy: 0.5002\n"
     ]
    },
    {
     "data": {
      "text/plain": [
       "<keras.callbacks.History at 0x205b7290a00>"
      ]
     },
     "execution_count": 200,
     "metadata": {},
     "output_type": "execute_result"
    }
   ],
   "source": [
    "model.fit(X_train,y_train,validation_data=(X_test,y_true),batch_size=20,epochs=10,verbose=1)"
   ]
  },
  {
   "cell_type": "code",
   "execution_count": 201,
   "id": "cf58d4b1",
   "metadata": {},
   "outputs": [
    {
     "name": "stdout",
     "output_type": "stream",
     "text": [
      "30324    1.000000\n",
      "30325    1.000000\n",
      "30326    1.000000\n",
      "30327    1.000000\n",
      "30328    1.000000\n",
      "           ...   \n",
      "40427    0.584323\n",
      "40428    0.584265\n",
      "40429    0.584306\n",
      "40430    0.584249\n",
      "40431    0.584290\n",
      "Name: label, Length: 10108, dtype: float64\n"
     ]
    }
   ],
   "source": [
    "acc_orig = np.cumsum(clf.predict(X_test) == y_true)\n",
    "acc_orig = acc_orig / np.arange(1, 1 + len(acc_orig))\n",
    "print(acc_orig)"
   ]
  },
  {
   "cell_type": "code",
   "execution_count": 202,
   "id": "cf03f876",
   "metadata": {},
   "outputs": [],
   "source": [
    "for i in range(training_size,len(df4)-i):\n",
    "\n",
    "    X_test = df4.loc[[i], ['category','rating','Mean']]\n",
    "    y_pred = int(clf.predict(X_test))\n",
    "    y_true = int(df4.loc[[i], \"label\"])\n",
    "\n",
    "    eddm.update(y_true, y_pred)\n",
    "    status.loc[i] = [\n",
    "        i, y_true, y_pred, eddm.mean(), eddm.drift_state,\n",
    "    ]"
   ]
  },
  {
   "cell_type": "code",
   "execution_count": 204,
   "id": "b12df245",
   "metadata": {},
   "outputs": [],
   "source": [
    "    # If drift is detected, examine the window and retrain.\n",
    "    if ddm.drift_state == \"drift\":\n",
    "        retrain_start = ddm.retraining_recs[0] + training_size\n",
    "        retrain_end = ddm.retraining_recs[1] + training_size\n",
    "        rec_list.append([retrain_start, retrain_end])\n",
    "\n",
    "        # The retraining recommendations produced here correspond to the samples\n",
    "        # which belong to ADWIN's new, smaller window, after drift is detected.\n",
    "        # If retraining is not desired, omit the next four lines.\n",
    "        X_train = df4.loc[retrain_start:retrain_end, ['category','rating','Mean']]\n",
    "        y_train = df4.loc[retrain_start:retrain_end, \"label\"]\n",
    "        model=Sequential()\n",
    "        model.add(Dense(1000,input_dim=3,activation='relu'))\n",
    "        model.add(Dense(500,activation='relu'))\n",
    "        model.add(Dense(300,activation='relu'))\n",
    "        model.add(Dropout(0.2))\n",
    "        model.add(Dense(1,activation='softmax'))\n",
    "        model.compile(loss='categorical_crossentropy',optimizer='adam',metrics=['accuracy'])\n",
    "        model.fit(X_train,y_train,validation_data=(X_test,y_true),batch_size=20,epochs=10,verbose=1)\n",
    "status['original_accuracy'] = acc_orig\n",
    "status['accuracy'] = np.cumsum(status.y_true == status.y_pred)\n",
    "status['accuracy'] = status['accuracy'] / np.cumsum(np.repeat(1, status.shape[0]))"
   ]
  },
  {
   "cell_type": "code",
   "execution_count": null,
   "id": "9f72d9c1",
   "metadata": {},
   "outputs": [],
   "source": [
    "status['original_accuracy'].tail(1)"
   ]
  },
  {
   "cell_type": "code",
   "execution_count": null,
   "id": "311d4857",
   "metadata": {},
   "outputs": [],
   "source": [
    "status['accuracy'].tail(1)"
   ]
  },
  {
   "cell_type": "code",
   "execution_count": 203,
   "id": "73a787de",
   "metadata": {},
   "outputs": [
    {
     "data": {
      "image/png": "[encoded data removed]",
      "text/plain": [
       "<Figure size 432x288 with 1 Axes>"
      ]
     },
     "metadata": {
      "needs_background": "light"
     },
     "output_type": "display_data"
    }
   ],
   "source": [
    "plt.figure(figsize=(6,4))\n",
    "plt.scatter(\"index\", \"original_accuracy\", data=status, label=\"Original Accuracy\", color='red')\n",
    "plt.scatter(\"index\", \"accuracy\", data=status, label=\"Retrain Accuracy\", color='green')\n",
    "plt.grid(False, axis=\"x\")\n",
    "plt.xticks(fontsize=8)\n",
    "plt.yticks(fontsize=8)\n",
    "plt.title(\"ADWIN Results: Accuracy\", fontsize=11)\n",
    "plt.ylabel(\"Value\", fontsize=9)\n",
    "plt.xlabel(\"Index\", fontsize=9)\n",
    "ylims = [0, 1.1]\n",
    "plt.ylim(ylims)\n",
    "\n",
    "plt.axvspan(100, 125, alpha=0.5, label=\"Drift Induction Window\")\n",
    "\n",
    "# Draw red lines that indicate where drift was detected\n",
    "plt.vlines(\n",
    "    x=status.loc[status[\"drift_detected\"] == \"drift\"][\"index\"],\n",
    "    ymin=ylims[0],\n",
    "    ymax=ylims[1],\n",
    "    label=\"Drift Detected\",\n",
    "    color=\"red\",\n",
    ")\n",
    "\n",
    "# Create a list of lines that indicate the retraining windows.\n",
    "# Space them evenly, vertically.\n",
    "rec_list = pd.DataFrame(rec_list)\n",
    "rec_list[\"y_val\"] = np.linspace(\n",
    "    start=0.05 * (ylims[1] - ylims[0]) + ylims[0],\n",
    "    stop=0.2 * ylims[1],\n",
    "    num=len(rec_list),\n",
    ")\n",
    "\n",
    "# Draw green lines that indicate where retraining occurred\n",
    "plt.hlines(\n",
    "    y=rec_list[\"y_val\"],\n",
    "    xmin=rec_list[0],\n",
    "    xmax=rec_list[1],\n",
    "    color=\"green\",\n",
    "    label=\"Retraining Windows\",\n",
    ")\n",
    "\n",
    "plt.legend(loc='lower left')\n",
    "plt.show()\n",
    "# plt.savefig(\"example_ADWINAccuracy.png\")"
   ]
  },
  {
   "cell_type": "code",
   "execution_count": null,
   "id": "84959176",
   "metadata": {},
   "outputs": [],
   "source": []
  },
  {
   "cell_type": "code",
   "execution_count": null,
   "id": "6de3dc1f",
   "metadata": {},
   "outputs": [],
   "source": []
  },
  {
   "cell_type": "code",
   "execution_count": null,
   "id": "8ccf7fd8",
   "metadata": {},
   "outputs": [],
   "source": []
  },
  {
   "cell_type": "code",
   "execution_count": null,
   "id": "e77c7538",
   "metadata": {},
   "outputs": [],
   "source": []
  }
 ],
 "metadata": {
  "kernelspec": {
   "display_name": "Python 3 (ipykernel)",
   "language": "python",
   "name": "python3"
  },
  "language_info": {
   "codemirror_mode": {
    "name": "ipython",
    "version": 3
   },
   "file_extension": ".py",
   "mimetype": "text/x-python",
   "name": "python",
   "nbconvert_exporter": "python",
   "pygments_lexer": "ipython3",
   "version": "3.9.7"
  }
 },
 "nbformat": 4,
 "nbformat_minor": 5
}
