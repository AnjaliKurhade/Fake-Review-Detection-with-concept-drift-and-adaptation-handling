{
 "cells": [
  {
   "cell_type": "code",
   "execution_count": 1,
   "id": "5fdda71b",
   "metadata": {},
   "outputs": [],
   "source": [
    "import pandas as pd\n",
    "import numpy as np"
   ]
  },
  {
   "cell_type": "code",
   "execution_count": 2,
   "id": "c0950755",
   "metadata": {},
   "outputs": [],
   "source": [
    "import matplotlib.pyplot as plt\n",
    "from sklearn.naive_bayes import GaussianNB\n",
    "from sklearn.linear_model import SGDClassifier\n",
    "from sklearn import svm\n",
    "from sklearn.base import clone\n",
    "from menelaus.concept_drift import LinearFourRates, ADWINAccuracy, DDM, EDDM, STEPD, MD3"
   ]
  },
  {
   "cell_type": "code",
   "execution_count": 3,
   "id": "88b8535c",
   "metadata": {},
   "outputs": [],
   "source": [
    "df=pd.read_csv('df2.csv')"
   ]
  },
  {
   "cell_type": "code",
   "execution_count": 4,
   "id": "1d842221",
   "metadata": {},
   "outputs": [
    {
     "data": {
      "text/html": [
       "<div>\n",
       "<style scoped>\n",
       "    .dataframe tbody tr th:only-of-type {\n",
       "        vertical-align: middle;\n",
       "    }\n",
       "\n",
       "    .dataframe tbody tr th {\n",
       "        vertical-align: top;\n",
       "    }\n",
       "\n",
       "    .dataframe thead th {\n",
       "        text-align: right;\n",
       "    }\n",
       "</style>\n",
       "<table border=\"1\" class=\"dataframe\">\n",
       "  <thead>\n",
       "    <tr style=\"text-align: right;\">\n",
       "      <th></th>\n",
       "      <th>Unnamed: 0</th>\n",
       "      <th>category</th>\n",
       "      <th>rating</th>\n",
       "      <th>label</th>\n",
       "      <th>count_punct</th>\n",
       "      <th>Number of Words</th>\n",
       "      <th>exclamation_mark</th>\n",
       "      <th>first_person_noun</th>\n",
       "    </tr>\n",
       "  </thead>\n",
       "  <tbody>\n",
       "    <tr>\n",
       "      <th>0</th>\n",
       "      <td>0</td>\n",
       "      <td>1</td>\n",
       "      <td>5.0</td>\n",
       "      <td>0</td>\n",
       "      <td>5</td>\n",
       "      <td>12</td>\n",
       "      <td>1</td>\n",
       "      <td>1</td>\n",
       "    </tr>\n",
       "    <tr>\n",
       "      <th>1</th>\n",
       "      <td>1</td>\n",
       "      <td>1</td>\n",
       "      <td>5.0</td>\n",
       "      <td>0</td>\n",
       "      <td>3</td>\n",
       "      <td>16</td>\n",
       "      <td>0</td>\n",
       "      <td>1</td>\n",
       "    </tr>\n",
       "    <tr>\n",
       "      <th>2</th>\n",
       "      <td>2</td>\n",
       "      <td>1</td>\n",
       "      <td>5.0</td>\n",
       "      <td>0</td>\n",
       "      <td>2</td>\n",
       "      <td>14</td>\n",
       "      <td>0</td>\n",
       "      <td>2</td>\n",
       "    </tr>\n",
       "    <tr>\n",
       "      <th>3</th>\n",
       "      <td>3</td>\n",
       "      <td>1</td>\n",
       "      <td>1.0</td>\n",
       "      <td>0</td>\n",
       "      <td>2</td>\n",
       "      <td>17</td>\n",
       "      <td>0</td>\n",
       "      <td>1</td>\n",
       "    </tr>\n",
       "    <tr>\n",
       "      <th>4</th>\n",
       "      <td>4</td>\n",
       "      <td>1</td>\n",
       "      <td>5.0</td>\n",
       "      <td>0</td>\n",
       "      <td>2</td>\n",
       "      <td>18</td>\n",
       "      <td>0</td>\n",
       "      <td>0</td>\n",
       "    </tr>\n",
       "  </tbody>\n",
       "</table>\n",
       "</div>"
      ],
      "text/plain": [
       "   Unnamed: 0  category  rating  label  count_punct  Number of Words  \\\n",
       "0           0         1     5.0      0            5               12   \n",
       "1           1         1     5.0      0            3               16   \n",
       "2           2         1     5.0      0            2               14   \n",
       "3           3         1     1.0      0            2               17   \n",
       "4           4         1     5.0      0            2               18   \n",
       "\n",
       "   exclamation_mark  first_person_noun  \n",
       "0                 1                  1  \n",
       "1                 0                  1  \n",
       "2                 0                  2  \n",
       "3                 0                  1  \n",
       "4                 0                  0  "
      ]
     },
     "execution_count": 4,
     "metadata": {},
     "output_type": "execute_result"
    }
   ],
   "source": [
    "df.head()"
   ]
  },
  {
   "cell_type": "code",
   "execution_count": 5,
   "id": "84f16737",
   "metadata": {},
   "outputs": [],
   "source": [
    "df=df.drop(['Unnamed: 0'], axis=1)"
   ]
  },
  {
   "cell_type": "code",
   "execution_count": 6,
   "id": "879da6e7",
   "metadata": {},
   "outputs": [],
   "source": [
    "df=df.iloc[:,[0,1,3,4,5,6,2]]"
   ]
  },
  {
   "cell_type": "code",
   "execution_count": 7,
   "id": "22893673",
   "metadata": {},
   "outputs": [
    {
     "data": {
      "text/html": [
       "<div>\n",
       "<style scoped>\n",
       "    .dataframe tbody tr th:only-of-type {\n",
       "        vertical-align: middle;\n",
       "    }\n",
       "\n",
       "    .dataframe tbody tr th {\n",
       "        vertical-align: top;\n",
       "    }\n",
       "\n",
       "    .dataframe thead th {\n",
       "        text-align: right;\n",
       "    }\n",
       "</style>\n",
       "<table border=\"1\" class=\"dataframe\">\n",
       "  <thead>\n",
       "    <tr style=\"text-align: right;\">\n",
       "      <th></th>\n",
       "      <th>category</th>\n",
       "      <th>rating</th>\n",
       "      <th>count_punct</th>\n",
       "      <th>Number of Words</th>\n",
       "      <th>exclamation_mark</th>\n",
       "      <th>first_person_noun</th>\n",
       "      <th>label</th>\n",
       "    </tr>\n",
       "  </thead>\n",
       "  <tbody>\n",
       "    <tr>\n",
       "      <th>0</th>\n",
       "      <td>1</td>\n",
       "      <td>5.0</td>\n",
       "      <td>5</td>\n",
       "      <td>12</td>\n",
       "      <td>1</td>\n",
       "      <td>1</td>\n",
       "      <td>0</td>\n",
       "    </tr>\n",
       "    <tr>\n",
       "      <th>1</th>\n",
       "      <td>1</td>\n",
       "      <td>5.0</td>\n",
       "      <td>3</td>\n",
       "      <td>16</td>\n",
       "      <td>0</td>\n",
       "      <td>1</td>\n",
       "      <td>0</td>\n",
       "    </tr>\n",
       "    <tr>\n",
       "      <th>2</th>\n",
       "      <td>1</td>\n",
       "      <td>5.0</td>\n",
       "      <td>2</td>\n",
       "      <td>14</td>\n",
       "      <td>0</td>\n",
       "      <td>2</td>\n",
       "      <td>0</td>\n",
       "    </tr>\n",
       "    <tr>\n",
       "      <th>3</th>\n",
       "      <td>1</td>\n",
       "      <td>1.0</td>\n",
       "      <td>2</td>\n",
       "      <td>17</td>\n",
       "      <td>0</td>\n",
       "      <td>1</td>\n",
       "      <td>0</td>\n",
       "    </tr>\n",
       "    <tr>\n",
       "      <th>4</th>\n",
       "      <td>1</td>\n",
       "      <td>5.0</td>\n",
       "      <td>2</td>\n",
       "      <td>18</td>\n",
       "      <td>0</td>\n",
       "      <td>0</td>\n",
       "      <td>0</td>\n",
       "    </tr>\n",
       "  </tbody>\n",
       "</table>\n",
       "</div>"
      ],
      "text/plain": [
       "   category  rating  count_punct  Number of Words  exclamation_mark  \\\n",
       "0         1     5.0            5               12                 1   \n",
       "1         1     5.0            3               16                 0   \n",
       "2         1     5.0            2               14                 0   \n",
       "3         1     1.0            2               17                 0   \n",
       "4         1     5.0            2               18                 0   \n",
       "\n",
       "   first_person_noun  label  \n",
       "0                  1      0  \n",
       "1                  1      0  \n",
       "2                  2      0  \n",
       "3                  1      0  \n",
       "4                  0      0  "
      ]
     },
     "execution_count": 7,
     "metadata": {},
     "output_type": "execute_result"
    }
   ],
   "source": [
    "df.head()"
   ]
  },
  {
   "cell_type": "code",
   "execution_count": 8,
   "id": "46008092",
   "metadata": {},
   "outputs": [],
   "source": [
    "training_size = 30324"
   ]
  },
  {
   "cell_type": "code",
   "execution_count": 16,
   "id": "2c5ef3a2",
   "metadata": {},
   "outputs": [],
   "source": [
    "X_train = df.loc[0:training_size, ['category','rating','count_punct','Number of Words','exclamation_mark','first_person_noun']]\n",
    "y_train = df.loc[0:training_size, \"label\"]\n",
    "X_test = df.loc[training_size:len(df), ['category','rating','count_punct','Number of Words','exclamation_mark','first_person_noun']]\n",
    "y_true = df.loc[training_size:len(df), \"label\"]"
   ]
  },
  {
   "cell_type": "code",
   "execution_count": 17,
   "id": "d5a8a42d",
   "metadata": {},
   "outputs": [
    {
     "data": {
      "text/plain": [
       "GaussianNB()"
      ]
     },
     "execution_count": 17,
     "metadata": {},
     "output_type": "execute_result"
    }
   ],
   "source": [
    "clf = GaussianNB()\n",
    "clf.fit(X_train, y_train)"
   ]
  },
  {
   "cell_type": "code",
   "execution_count": 11,
   "id": "bfbdd3d0",
   "metadata": {},
   "outputs": [
    {
     "name": "stdout",
     "output_type": "stream",
     "text": [
      "30324    1.000000\n",
      "30325    1.000000\n",
      "30326    1.000000\n",
      "30327    1.000000\n",
      "30328    1.000000\n",
      "           ...   \n",
      "40427    0.576603\n",
      "40428    0.576645\n",
      "40429    0.576687\n",
      "40430    0.576729\n",
      "40431    0.576771\n",
      "Name: label, Length: 10108, dtype: float64\n"
     ]
    }
   ],
   "source": [
    "acc_orig = np.cumsum(clf.predict(X_test) == y_true)\n",
    "acc_orig = acc_orig / np.arange(1, 1 + len(acc_orig))\n",
    "print(acc_orig)"
   ]
  },
  {
   "cell_type": "markdown",
   "id": "893dff82",
   "metadata": {},
   "source": [
    "### ADWIN"
   ]
  },
  {
   "cell_type": "code",
   "execution_count": 12,
   "id": "9cc4d86c",
   "metadata": {},
   "outputs": [],
   "source": [
    "adwin = ADWINAccuracy()\n",
    "\n",
    "# Set up DF to record results.\n",
    "status = pd.DataFrame(\n",
    "    columns=[\"index\", \"y_true\", \"y_pred\", \"adwin mean\", \"drift_detected\"]\n",
    ")\n",
    "rec_list = []"
   ]
  },
  {
   "cell_type": "code",
   "execution_count": 13,
   "id": "37bc9aaa",
   "metadata": {},
   "outputs": [],
   "source": [
    "for i in range(training_size, len(df)):\n",
    "\n",
    "    X_test = df.loc[[i], ['category','rating','count_punct','Number of Words','exclamation_mark','first_person_noun']]\n",
    "    y_pred = int(clf.predict(X_test))\n",
    "    y_true = int(df.loc[[i], \"label\"])\n",
    "\n",
    "    adwin.update(y_true, y_pred)\n",
    "    status.loc[i] = [\n",
    "        i, y_true, y_pred, adwin.mean(), adwin.drift_state,\n",
    "    ]\n",
    "\n",
    "    # If drift is detected, examine the window and retrain.\n",
    "    if adwin.drift_state == \"drift\":\n",
    "        retrain_start = adwin.retraining_recs[0] + training_size\n",
    "        retrain_end = adwin.retraining_recs[1] + training_size\n",
    "        rec_list.append([retrain_start, retrain_end])\n",
    "\n",
    "        # The retraining recommendations produced here correspond to the samples\n",
    "        # which belong to ADWIN's new, smaller window, after drift is detected.\n",
    "        # If retraining is not desired, omit the next four lines.\n",
    "        X_train = df.loc[retrain_start:retrain_end, ['category','rating','count_punct','Number of Words','exclamation_mark','first_person_noun']]\n",
    "        y_train = df.loc[retrain_start:retrain_end, \"label\"]\n",
    "        clf = GaussianNB()\n",
    "        clf.fit(X_train, y_train)\n",
    "\n",
    "status['original_accuracy'] = acc_orig\n",
    "status['accuracy'] = np.cumsum(status.y_true == status.y_pred)\n",
    "status['accuracy'] = status['accuracy'] / np.cumsum(np.repeat(1, status.shape[0]))"
   ]
  },
  {
   "cell_type": "code",
   "execution_count": 14,
   "id": "55136fee",
   "metadata": {},
   "outputs": [
    {
     "name": "stdout",
     "output_type": "stream",
     "text": [
      "         index  y_true  y_pred  adwin mean drift_detected  original_accuracy  \\\n",
      "30324  30324.0     0.0     0.0    1.000000            NaN           1.000000   \n",
      "30325  30325.0     0.0     0.0    1.000000            NaN           1.000000   \n",
      "30326  30326.0     0.0     0.0    1.000000            NaN           1.000000   \n",
      "30327  30327.0     0.0     0.0    1.000000            NaN           1.000000   \n",
      "30328  30328.0     0.0     0.0    1.000000            NaN           1.000000   \n",
      "...        ...     ...     ...         ...            ...                ...   \n",
      "40427  40427.0     1.0     0.0    0.493492            NaN           0.576603   \n",
      "40428  40428.0     0.0     0.0    0.493630            NaN           0.576645   \n",
      "40429  40429.0     1.0     0.0    0.493496            NaN           0.576687   \n",
      "40430  40430.0     0.0     0.0    0.493633            NaN           0.576729   \n",
      "40431  40431.0     1.0     0.0    0.493499            NaN           0.576771   \n",
      "\n",
      "       accuracy  \n",
      "30324  1.000000  \n",
      "30325  1.000000  \n",
      "30326  1.000000  \n",
      "30327  1.000000  \n",
      "30328  1.000000  \n",
      "...         ...  \n",
      "40427  0.532858  \n",
      "40428  0.532905  \n",
      "40429  0.532852  \n",
      "40430  0.532898  \n",
      "40431  0.532845  \n",
      "\n",
      "[10108 rows x 7 columns]\n"
     ]
    }
   ],
   "source": [
    "print(status)"
   ]
  },
  {
   "cell_type": "code",
   "execution_count": 51,
   "id": "629c126c",
   "metadata": {},
   "outputs": [
    {
     "data": {
      "image/png": "[encoded data removed]",
      "text/plain": [
       "<Figure size 1440x432 with 1 Axes>"
      ]
     },
     "metadata": {
      "needs_background": "light"
     },
     "output_type": "display_data"
    }
   ],
   "source": [
    "plt.figure(figsize=(20, 6))\n",
    "plt.scatter(\"index\", \"original_accuracy\", data=status, label=\"Original Accuracy\", color='red')\n",
    "plt.scatter(\"index\", \"accuracy\", data=status, label=\"Retrain Accuracy\", color='green')\n",
    "plt.grid(False, axis=\"x\")\n",
    "plt.xticks(fontsize=16)\n",
    "plt.yticks(fontsize=16)\n",
    "plt.title(\"ADWIN Results: Accuracy\", fontsize=22)\n",
    "plt.ylabel(\"Value\", fontsize=18)\n",
    "plt.xlabel(\"Index\", fontsize=18)\n",
    "ylims = [0, 1.1]\n",
    "plt.ylim(ylims)\n",
    "\n",
    "plt.axvspan(1000, 1250, alpha=0.5, label=\"Drift Induction Window\")\n",
    "\n",
    "# Draw red lines that indicate where drift was detected\n",
    "plt.vlines(\n",
    "    x=status.loc[status[\"drift_detected\"] == \"drift\"][\"index\"],\n",
    "    ymin=ylims[0],\n",
    "    ymax=ylims[1],\n",
    "    label=\"Drift Detected\",\n",
    "    color=\"red\",\n",
    ")\n",
    "\n",
    "# Create a list of lines that indicate the retraining windows.\n",
    "# Space them evenly, vertically.\n",
    "rec_list = pd.DataFrame(rec_list)\n",
    "rec_list[\"y_val\"] = np.linspace(\n",
    "    start=0.05 * (ylims[1] - ylims[0]) + ylims[0],\n",
    "    stop=0.2 * ylims[1],\n",
    "    num=len(rec_list),\n",
    ")\n",
    "\n",
    "# Draw green lines that indicate where retraining occurred\n",
    "plt.hlines(\n",
    "    y=rec_list[\"y_val\"],\n",
    "    xmin=rec_list[0],\n",
    "    xmax=rec_list[1],\n",
    "    color=\"green\",\n",
    "    label=\"Retraining Windows\",\n",
    ")\n",
    "\n",
    "plt.legend(loc='lower right')\n",
    "plt.show()\n",
    "# plt.savefig(\"example_ADWINAccuracy.png\")\n"
   ]
  },
  {
   "cell_type": "markdown",
   "id": "8dd128b3",
   "metadata": {},
   "source": [
    "### DDM"
   ]
  },
  {
   "cell_type": "code",
   "execution_count": 18,
   "id": "bcc5813a",
   "metadata": {},
   "outputs": [
    {
     "name": "stdout",
     "output_type": "stream",
     "text": [
      "30324    1.000000\n",
      "30325    1.000000\n",
      "30326    1.000000\n",
      "30327    1.000000\n",
      "30328    1.000000\n",
      "           ...   \n",
      "40427    0.576603\n",
      "40428    0.576645\n",
      "40429    0.576687\n",
      "40430    0.576729\n",
      "40431    0.576771\n",
      "Name: label, Length: 10108, dtype: float64\n"
     ]
    }
   ],
   "source": [
    "np.random.seed(123)\n",
    "# setup classifier: train on first training_size rows\n",
    "X_train = df.loc[0:training_size, ['category','rating','count_punct','Number of Words','exclamation_mark','first_person_noun']]\n",
    "y_train = df.loc[0:training_size, \"label\"]\n",
    "X_test = df.loc[training_size:len(df),  ['category','rating','count_punct','Number of Words','exclamation_mark','first_person_noun']]\n",
    "y_true = df.loc[training_size:len(df), \"label\"]\n",
    "\n",
    "clf = GaussianNB()\n",
    "clf.fit(X_train, y_train)\n",
    "\n",
    "acc_orig = np.cumsum(clf.predict(X_test) == y_true)\n",
    "acc_orig = acc_orig / np.arange(1, 1 + len(acc_orig))\n",
    "print(acc_orig)"
   ]
  },
  {
   "cell_type": "code",
   "execution_count": 19,
   "id": "0e968793",
   "metadata": {},
   "outputs": [],
   "source": [
    "ddm = DDM(n_threshold=100, warning_scale=7, drift_scale=10)\n",
    "\n",
    "# setup DF to store results\n",
    "status = pd.DataFrame(columns=[\"index\", \"y_true\", \"y_pred\", \"drift_detected\"])\n",
    "rec_list = []"
   ]
  },
  {
   "cell_type": "code",
   "execution_count": 20,
   "id": "ef825cc7",
   "metadata": {},
   "outputs": [
    {
     "name": "stdout",
     "output_type": "stream",
     "text": [
      "Detected at34397\n"
     ]
    }
   ],
   "source": [
    "for i in range(training_size, len(df)):\n",
    "\n",
    "    X_test = df.loc[[i], ['category','rating','count_punct','Number of Words','exclamation_mark','first_person_noun']]\n",
    "    y_pred = int(clf.predict(X_test))\n",
    "    y_true = int(df.loc[[i], \"label\"])\n",
    "\n",
    "    ddm.update(y_true, y_pred)\n",
    "    status.loc[i] = [i, y_true, y_pred, ddm.drift_state]\n",
    "\n",
    "    # If drift is detected, examine the window and retrain.\n",
    "    if ddm.drift_state == \"drift\":\n",
    "        print(\"Detected at\"+str(i))\n",
    "        retrain_start = ddm.retraining_recs[0] +training_size\n",
    "        retrain_end = ddm.retraining_recs[1] + training_size\n",
    "        if (\n",
    "            retrain_start == retrain_end\n",
    "        ):  # minimum retraining window in case of sudden drift\n",
    "            retrain_start = max(0, retrain_start - 300)\n",
    "        rec_list.append([retrain_start, retrain_end])\n",
    "\n",
    "        # If retraining is not desired, omit the next four lines.\n",
    "        X_train = df.loc[retrain_start:retrain_end, ['category','rating','count_punct','Number of Words','exclamation_mark','first_person_noun']]\n",
    "        y_train = df.loc[retrain_start:retrain_end, \"label\"]\n",
    "        clf = GaussianNB()\n",
    "        clf.fit(X_train, y_train)\n",
    "\n",
    "status['original_accuracy'] = acc_orig\n",
    "status['accuracy'] = np.cumsum(status.y_true == status.y_pred)\n",
    "status['accuracy'] = status['accuracy'] / np.cumsum(np.repeat(1, status.shape[0]))"
   ]
  },
  {
   "cell_type": "code",
   "execution_count": 21,
   "id": "6844b4f3",
   "metadata": {},
   "outputs": [
    {
     "name": "stdout",
     "output_type": "stream",
     "text": [
      "         index  y_true  y_pred drift_detected  original_accuracy  accuracy\n",
      "30324  30324.0     0.0     0.0            NaN           1.000000  1.000000\n",
      "30325  30325.0     0.0     0.0            NaN           1.000000  1.000000\n",
      "30326  30326.0     0.0     0.0            NaN           1.000000  1.000000\n",
      "30327  30327.0     0.0     0.0            NaN           1.000000  1.000000\n",
      "30328  30328.0     0.0     0.0            NaN           1.000000  1.000000\n",
      "...        ...     ...     ...            ...                ...       ...\n",
      "40427  40427.0     1.0     1.0            NaN           0.576603  0.565123\n",
      "40428  40428.0     0.0     1.0            NaN           0.576645  0.565067\n",
      "40429  40429.0     1.0     1.0            NaN           0.576687  0.565110\n",
      "40430  40430.0     0.0     1.0            NaN           0.576729  0.565054\n",
      "40431  40431.0     1.0     1.0            NaN           0.576771  0.565097\n",
      "\n",
      "[10108 rows x 6 columns]\n"
     ]
    }
   ],
   "source": [
    "print(status)"
   ]
  },
  {
   "cell_type": "code",
   "execution_count": 56,
   "id": "5aa87c92",
   "metadata": {},
   "outputs": [
    {
     "data": {
      "image/png": "[encoded data removed]",
      "text/plain": [
       "<Figure size 1440x432 with 1 Axes>"
      ]
     },
     "metadata": {
      "needs_background": "light"
     },
     "output_type": "display_data"
    }
   ],
   "source": [
    "plt.figure(figsize=(20, 6))\n",
    "plt.scatter(\"index\", \"original_accuracy\", data=status, label=\"Original Accuracy\", color='red')\n",
    "plt.scatter(\"index\", \"accuracy\", data=status, label=\"Retrain Accuracy\", color='green')\n",
    "plt.grid(False, axis=\"x\")\n",
    "plt.xticks(fontsize=16)\n",
    "plt.yticks(fontsize=16)\n",
    "plt.title(\"DDM Results: Accuracy\", fontsize=22)\n",
    "plt.ylabel(\"Value\", fontsize=18)\n",
    "plt.xlabel(\"Index\", fontsize=18)\n",
    "ylims = [-0.05, 1.1]\n",
    "plt.ylim(ylims)\n",
    "\n",
    "plt.axvspan(1000, 1250, alpha=0.5, label=\"Drift Induction Window\")\n",
    "\n",
    "# Draw red lines that indicate where drift was detected\n",
    "plt.vlines(\n",
    "    x=status.loc[status[\"drift_detected\"] == \"drift\"][\"index\"],\n",
    "    ymin=ylims[0],\n",
    "    ymax=ylims[1],\n",
    "    label=\"Drift Detected\",\n",
    "    color=\"red\",\n",
    "    linewidth=3,\n",
    ")\n",
    "\n",
    "# Draw orange lines that indicate where warnings of drift were provided\n",
    "plt.vlines(\n",
    "    x=status.loc[status[\"drift_detected\"] == \"warning\"][\"index\"],\n",
    "    ymin=ylims[0],\n",
    "    ymax=ylims[1],\n",
    "    label=\"Warning\",\n",
    "    color=\"orange\",\n",
    "    alpha=0.3,\n",
    ")\n",
    "\n",
    "# Create a list of lines that indicate the retraining windows.\n",
    "# Space them evenly, vertically.\n",
    "rec_list = pd.DataFrame(rec_list)\n",
    "rec_list[\"y_val\"] = np.linspace(\n",
    "    start=0.05 * (ylims[1] - ylims[0]) + ylims[0],\n",
    "    stop=0.2 * ylims[1],\n",
    "    num=len(rec_list),\n",
    ")\n",
    "\n",
    "# Draw green lines that indicate where retraining occurred\n",
    "plt.hlines(\n",
    "    y=rec_list[\"y_val\"],\n",
    "    xmin=rec_list[0],\n",
    "    xmax=rec_list[1],\n",
    "    color=\"green\",\n",
    "    label=\"Retraining Windows\",\n",
    ")\n",
    "\n",
    "plt.legend()\n",
    "plt.show()\n",
    "# plt.savefig(\"example_DDM.png\")"
   ]
  },
  {
   "cell_type": "markdown",
   "id": "63fc118f",
   "metadata": {},
   "source": [
    "### EDDM"
   ]
  },
  {
   "cell_type": "code",
   "execution_count": 23,
   "id": "89ffde1f",
   "metadata": {},
   "outputs": [
    {
     "name": "stdout",
     "output_type": "stream",
     "text": [
      "30324    1.000000\n",
      "30325    1.000000\n",
      "30326    1.000000\n",
      "30327    1.000000\n",
      "30328    1.000000\n",
      "           ...   \n",
      "40427    0.576603\n",
      "40428    0.576645\n",
      "40429    0.576687\n",
      "40430    0.576729\n",
      "40431    0.576771\n",
      "Name: label, Length: 10108, dtype: float64\n"
     ]
    }
   ],
   "source": [
    "np.random.seed(123)\n",
    "# setup classifier: train on first 500 rows\n",
    "X_train = df.loc[0:training_size, ['category','rating','count_punct','Number of Words','exclamation_mark','first_person_noun']]\n",
    "y_train = df.loc[0:training_size, \"label\"]\n",
    "X_test = df.loc[training_size:len(df), ['category','rating','count_punct','Number of Words','exclamation_mark','first_person_noun']]\n",
    "y_true = df.loc[training_size:len(df), \"label\"]\n",
    "\n",
    "clf = GaussianNB()\n",
    "clf.fit(X_train, y_train)\n",
    "\n",
    "acc_orig = np.cumsum(clf.predict(X_test) == y_true)\n",
    "acc_orig = acc_orig / np.arange(1, 1 + len(acc_orig))\n",
    "print(acc_orig)"
   ]
  },
  {
   "cell_type": "code",
   "execution_count": 24,
   "id": "7791121a",
   "metadata": {},
   "outputs": [],
   "source": [
    "eddm = EDDM(n_threshold=30, warning_thresh=0.7, drift_thresh=0.5)\n",
    "\n",
    "# setup DF to store results\n",
    "status = pd.DataFrame(columns=[\"index\", \"y_true\", \"y_pred\", \"drift_detected\"])\n",
    "rec_list = []\n",
    "\n",
    "\n",
    "# In[ ]:\n",
    "# run EDDM and retrain\n",
    "for i in range(training_size, len(df)):\n",
    "\n",
    "    X_test = df.loc[[i], ['category','rating','count_punct','Number of Words','exclamation_mark','first_person_noun']]\n",
    "    y_pred = int(clf.predict(X_test))\n",
    "    y_true = int(df.loc[[i], \"label\"])\n",
    "\n",
    "    eddm.update(y_true, y_pred)\n",
    "    status.loc[i] = [i, y_true, y_pred, eddm.drift_state]\n",
    "\n",
    "    # If drift is detected, examine the window and retrain.\n",
    "    if eddm.drift_state == \"drift\":\n",
    "        retrain_start = eddm.retraining_recs[0] + training_size\n",
    "        retrain_end = eddm.retraining_recs[1] + training_size\n",
    "        if (\n",
    "            retrain_start == retrain_end\n",
    "        ):  # minimum retraining window in case of sudden drift\n",
    "            retrain_start = max(0, retrain_start - 300)\n",
    "        rec_list.append([retrain_start, retrain_end])\n",
    "\n",
    "        # If retraining is not desired, omit the next four lines.\n",
    "        X_train = df.loc[retrain_start:retrain_end, ['category','rating','count_punct','Number of Words','exclamation_mark','first_person_noun']]\n",
    "        y_train = df.loc[retrain_start:retrain_end, \"label\"]\n",
    "        clf = GaussianNB()\n",
    "        clf.fit(X_train, y_train)\n",
    "\n",
    "status['original_accuracy'] = acc_orig\n",
    "status['accuracy'] = np.cumsum(status.y_true == status.y_pred)\n",
    "status['accuracy'] = status['accuracy'] / np.cumsum(np.repeat(1, status.shape[0]))"
   ]
  },
  {
   "cell_type": "code",
   "execution_count": 25,
   "id": "e739e8d0",
   "metadata": {},
   "outputs": [
    {
     "name": "stdout",
     "output_type": "stream",
     "text": [
      "         index  y_true  y_pred drift_detected  original_accuracy  accuracy\n",
      "30324  30324.0     0.0     0.0            NaN           1.000000  1.000000\n",
      "30325  30325.0     0.0     0.0            NaN           1.000000  1.000000\n",
      "30326  30326.0     0.0     0.0            NaN           1.000000  1.000000\n",
      "30327  30327.0     0.0     0.0            NaN           1.000000  1.000000\n",
      "30328  30328.0     0.0     0.0            NaN           1.000000  1.000000\n",
      "...        ...     ...     ...            ...                ...       ...\n",
      "40427  40427.0     1.0     0.0        warning           0.576603  0.610649\n",
      "40428  40428.0     0.0     1.0        warning           0.576645  0.610589\n",
      "40429  40429.0     1.0     0.0        warning           0.576687  0.610528\n",
      "40430  40430.0     0.0     0.0        warning           0.576729  0.610567\n",
      "40431  40431.0     1.0     1.0        warning           0.576771  0.610605\n",
      "\n",
      "[10108 rows x 6 columns]\n"
     ]
    }
   ],
   "source": [
    "print(status)"
   ]
  },
  {
   "cell_type": "code",
   "execution_count": 60,
   "id": "879348eb",
   "metadata": {},
   "outputs": [
    {
     "data": {
      "image/png": "[encoded data removed]",
      "text/plain": [
       "<Figure size 1440x432 with 1 Axes>"
      ]
     },
     "metadata": {
      "needs_background": "light"
     },
     "output_type": "display_data"
    }
   ],
   "source": [
    "plt.figure(figsize=(20, 6))\n",
    "plt.scatter(\"index\", \"original_accuracy\", data=status, label=\"Original Accuracy\", color='red')\n",
    "plt.scatter(\"index\", \"accuracy\", data=status, label=\"Retrain Accuracy\", color='green')\n",
    "plt.grid(False, axis=\"x\")\n",
    "plt.xticks(fontsize=16)\n",
    "plt.yticks(fontsize=16)\n",
    "plt.title(\"EDDM Results: Accuracy\", fontsize=22)\n",
    "plt.ylabel(\"Value\", fontsize=18)\n",
    "plt.xlabel(\"Index\", fontsize=18)\n",
    "ylims = [-0.05, 1.1]\n",
    "plt.ylim(ylims)\n",
    "\n",
    "plt.axvspan(1000, 1250, alpha=0.5, label=\"Drift Induction Window\")\n",
    "\n",
    "# Draw orange lines that indicate where warnings of drift were provided\n",
    "plt.vlines(\n",
    "    x=status.loc[status[\"drift_detected\"] == \"warning\"][\"index\"],\n",
    "    ymin=ylims[0],\n",
    "    ymax=ylims[1],\n",
    "    label=\"Warning\",\n",
    "    color=\"orange\",\n",
    "    alpha=0.3,\n",
    ")\n",
    "\n",
    "# Draw red lines that indicate where drift was detected\n",
    "plt.vlines(\n",
    "    x=status.loc[status[\"drift_detected\"] == \"drift\"][\"index\"],\n",
    "    ymin=ylims[0],\n",
    "    ymax=ylims[1],\n",
    "    label=\"Drift Detected\",\n",
    "    color=\"red\",\n",
    ")\n",
    "# Create a list of lines that indicate the retraining windows.\n",
    "# Space them evenly, vertically.\n",
    "rec_list = pd.DataFrame(rec_list)\n",
    "rec_list[\"y_val\"] = np.linspace(\n",
    "    start=0.05 * (ylims[1] - ylims[0]) + ylims[0],\n",
    "    stop=0.2 * ylims[1],\n",
    "    num=len(rec_list),\n",
    ")\n",
    "\n",
    "# Draw green lines that indicate where retraining occurred\n",
    "plt.hlines(\n",
    "    y=rec_list[\"y_val\"],\n",
    "    xmin=rec_list[0],\n",
    "    xmax=rec_list[1],\n",
    "    color=\"green\",\n",
    "    label=\"Retraining Windows\",\n",
    "    alpha=0.3,\n",
    ")\n",
    "\n",
    "plt.legend()\n",
    "plt.show()\n",
    "# plt.savefig(\"example_EDDM.png\")"
   ]
  },
  {
   "cell_type": "code",
   "execution_count": null,
   "id": "9f28cc5b",
   "metadata": {},
   "outputs": [],
   "source": []
  },
  {
   "cell_type": "code",
   "execution_count": null,
   "id": "8d09a21b",
   "metadata": {},
   "outputs": [],
   "source": []
  }
 ],
 "metadata": {
  "kernelspec": {
   "display_name": "Python 3 (ipykernel)",
   "language": "python",
   "name": "python3"
  },
  "language_info": {
   "codemirror_mode": {
    "name": "ipython",
    "version": 3
   },
   "file_extension": ".py",
   "mimetype": "text/x-python",
   "name": "python",
   "nbconvert_exporter": "python",
   "pygments_lexer": "ipython3",
   "version": "3.9.12"
  }
 },
 "nbformat": 4,
 "nbformat_minor": 5
}
